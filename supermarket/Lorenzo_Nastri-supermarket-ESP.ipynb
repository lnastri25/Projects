{
 "cells": [
  {
   "cell_type": "markdown",
   "id": "b9f1a4c99ab7e655",
   "metadata": {
    "collapsed": false
   },
   "source": [
    "## Lorenzo Nastri\n",
    "\n",
    "### lorenzonastri@gmail.com\n",
    "### https://www.linkedin.com/in/lorenzo-nastri\n",
    "\n",
    "# Supermercado La gondola. Año 2092\n",
    " \n",
    "El supermercado la gondola es un líder en el sector minorista, atendiendo a clientes en el planeta tierra y con una sucursal en marte. Cuenta con una diversa gama de productos que incluye alimentación, tecnología, moda, entre otros. El supermercado posee toda su operacion de manera Holografica, por lo tanto es crucial predecir la conversión de los clientes dado su comportamiento. La idea será efectuar una campaña de marketing en aquello clientes que un algoritmo clasifique como compradores. Ahora bien dado que el costo de las publicidades holograficas es elevado, la empresa quiere solo publicitar en los clientes de alto valor. Para esto es importante generar una regresion que permita predecir el ingreso del cliente. \n",
    " \n",
    "Tu tarea como cientifico de datos es crear los dos algoritmos y luego calcular el rango de ganancia esperada de la propuesta, justificando tus servicios en el ROI del supermercado. "
   ]
  },
  {
   "cell_type": "code",
   "execution_count": 1,
   "metadata": {},
   "outputs": [
    {
     "name": "stdout",
     "output_type": "stream",
     "text": [
      "Intel MKL WARNING: Support of Intel(R) Streaming SIMD Extensions 4.2 (Intel(R) SSE4.2) enabled only processors has been deprecated. Intel oneAPI Math Kernel Library 2025.0 will require Intel(R) Advanced Vector Extensions (Intel(R) AVX) instructions.\n",
      "Intel MKL WARNING: Support of Intel(R) Streaming SIMD Extensions 4.2 (Intel(R) SSE4.2) enabled only processors has been deprecated. Intel oneAPI Math Kernel Library 2025.0 will require Intel(R) Advanced Vector Extensions (Intel(R) AVX) instructions.\n"
     ]
    }
   ],
   "source": [
    "import numpy as np\n",
    "import pandas as pd\n",
    "import seaborn as sns\n",
    "import matplotlib.pyplot as plt\n",
    "import warnings\n",
    "warnings.filterwarnings(\"ignore\")"
   ]
  },
  {
   "cell_type": "code",
   "execution_count": 2,
   "metadata": {},
   "outputs": [
    {
     "data": {
      "text/html": [
       "<div>\n",
       "<style scoped>\n",
       "    .dataframe tbody tr th:only-of-type {\n",
       "        vertical-align: middle;\n",
       "    }\n",
       "\n",
       "    .dataframe tbody tr th {\n",
       "        vertical-align: top;\n",
       "    }\n",
       "\n",
       "    .dataframe thead th {\n",
       "        text-align: right;\n",
       "    }\n",
       "</style>\n",
       "<table border=\"1\" class=\"dataframe\">\n",
       "  <thead>\n",
       "    <tr style=\"text-align: right;\">\n",
       "      <th></th>\n",
       "      <th></th>\n",
       "      <th>id del cliente</th>\n",
       "      <th>páginas visitadas</th>\n",
       "      <th>duración de la sesión</th>\n",
       "      <th>número de visitas</th>\n",
       "      <th>fecha de nacimiento</th>\n",
       "      <th>ubicación</th>\n",
       "      <th>dispositivo</th>\n",
       "      <th>convertido</th>\n",
       "    </tr>\n",
       "  </thead>\n",
       "  <tbody>\n",
       "    <tr>\n",
       "      <th>0</th>\n",
       "      <td>0</td>\n",
       "      <td>1</td>\n",
       "      <td>9</td>\n",
       "      <td>91.231418</td>\n",
       "      <td>39</td>\n",
       "      <td>1955-11-30 12:27:39.148023</td>\n",
       "      <td>Marte</td>\n",
       "      <td>tablet</td>\n",
       "      <td>Sí</td>\n",
       "    </tr>\n",
       "    <tr>\n",
       "      <th>1</th>\n",
       "      <td>1</td>\n",
       "      <td>2</td>\n",
       "      <td>5</td>\n",
       "      <td>740.421698</td>\n",
       "      <td>11</td>\n",
       "      <td>1998-11-19 12:27:39.148023</td>\n",
       "      <td>Marte</td>\n",
       "      <td>móvil</td>\n",
       "      <td>No</td>\n",
       "    </tr>\n",
       "    <tr>\n",
       "      <th>2</th>\n",
       "      <td>2</td>\n",
       "      <td>3</td>\n",
       "      <td>6</td>\n",
       "      <td>15.947268</td>\n",
       "      <td>3</td>\n",
       "      <td>1962-11-28 12:27:39.148023</td>\n",
       "      <td>Marte</td>\n",
       "      <td>tablet</td>\n",
       "      <td>Sí</td>\n",
       "    </tr>\n",
       "    <tr>\n",
       "      <th>3</th>\n",
       "      <td>3</td>\n",
       "      <td>4</td>\n",
       "      <td>5</td>\n",
       "      <td>950.486443</td>\n",
       "      <td>18</td>\n",
       "      <td>1967-11-27 12:27:39.148023</td>\n",
       "      <td>Marte</td>\n",
       "      <td>móvil</td>\n",
       "      <td>Sí</td>\n",
       "    </tr>\n",
       "    <tr>\n",
       "      <th>4</th>\n",
       "      <td>4</td>\n",
       "      <td>5</td>\n",
       "      <td>5</td>\n",
       "      <td>63.656943</td>\n",
       "      <td>26</td>\n",
       "      <td>1982-11-23 12:27:39.148023</td>\n",
       "      <td>Marte</td>\n",
       "      <td>ordenador</td>\n",
       "      <td>No</td>\n",
       "    </tr>\n",
       "  </tbody>\n",
       "</table>\n",
       "</div>"
      ],
      "text/plain": [
       "          id del cliente   páginas visitadas   duración de la sesión   \\\n",
       "0      0                1                   9               91.231418   \n",
       "1      1                2                   5              740.421698   \n",
       "2      2                3                   6               15.947268   \n",
       "3      3                4                   5              950.486443   \n",
       "4      4                5                   5               63.656943   \n",
       "\n",
       "   número de visitas   fecha de nacimiento          ubicación   dispositivo   \\\n",
       "0                  39  1955-11-30 12:27:39.148023   Marte       tablet         \n",
       "1                  11  1998-11-19 12:27:39.148023   Marte       móvil          \n",
       "2                   3  1962-11-28 12:27:39.148023   Marte       tablet         \n",
       "3                  18  1967-11-27 12:27:39.148023   Marte       móvil          \n",
       "4                  26  1982-11-23 12:27:39.148023   Marte       ordenador      \n",
       "\n",
       "  convertido  \n",
       "0         Sí  \n",
       "1         No  \n",
       "2         Sí  \n",
       "3         Sí  \n",
       "4         No  "
      ]
     },
     "execution_count": 2,
     "metadata": {},
     "output_type": "execute_result"
    }
   ],
   "source": [
    "df_conversion_para_entrenar = pd.read_csv(\"conversion_para_entrenar.csv\")\n",
    "df_conversion_para_entrenar.head()"
   ]
  },
  {
   "cell_type": "code",
   "execution_count": 3,
   "metadata": {},
   "outputs": [
    {
     "data": {
      "text/plain": [
       "Index(['     ', 'id del cliente ', 'páginas visitadas ',\n",
       "       'duración de la sesión ', 'número de visitas ',\n",
       "       'fecha de nacimiento        ', 'ubicación ', 'dispositivo ',\n",
       "       'convertido'],\n",
       "      dtype='object')"
      ]
     },
     "execution_count": 3,
     "metadata": {},
     "output_type": "execute_result"
    }
   ],
   "source": [
    "df_conversion_para_entrenar.columns"
   ]
  },
  {
   "cell_type": "markdown",
   "metadata": {},
   "source": [
    "##### Remuevo los espacios en blanco de cada columna para trabajar mejor."
   ]
  },
  {
   "cell_type": "code",
   "execution_count": 4,
   "metadata": {},
   "outputs": [],
   "source": [
    "from functions import whitespace_remover_and_columns\n",
    "df_conversion_para_entrenar = whitespace_remover_and_columns(df_conversion_para_entrenar)"
   ]
  },
  {
   "cell_type": "code",
   "execution_count": 5,
   "metadata": {},
   "outputs": [
    {
     "data": {
      "text/plain": [
       "Index(['', 'id del cliente', 'páginas visitadas', 'duración de la sesión',\n",
       "       'número de visitas', 'fecha de nacimiento', 'ubicación', 'dispositivo',\n",
       "       'convertido'],\n",
       "      dtype='object')"
      ]
     },
     "execution_count": 5,
     "metadata": {},
     "output_type": "execute_result"
    }
   ],
   "source": [
    "df_conversion_para_entrenar.columns"
   ]
  },
  {
   "cell_type": "markdown",
   "metadata": {},
   "source": [
    "##### Procedo a remover la columna '' ya que no me es de utilidad."
   ]
  },
  {
   "cell_type": "code",
   "execution_count": 6,
   "metadata": {},
   "outputs": [],
   "source": [
    "df_conversion_para_entrenar.drop(columns = [\"\"], inplace = True)"
   ]
  },
  {
   "cell_type": "markdown",
   "metadata": {},
   "source": [
    "##### Valido los datos para ver si hay valores nulos, etc."
   ]
  },
  {
   "cell_type": "code",
   "execution_count": 7,
   "metadata": {},
   "outputs": [
    {
     "data": {
      "text/html": [
       "<div>\n",
       "<style scoped>\n",
       "    .dataframe tbody tr th:only-of-type {\n",
       "        vertical-align: middle;\n",
       "    }\n",
       "\n",
       "    .dataframe tbody tr th {\n",
       "        vertical-align: top;\n",
       "    }\n",
       "\n",
       "    .dataframe thead th {\n",
       "        text-align: right;\n",
       "    }\n",
       "</style>\n",
       "<table border=\"1\" class=\"dataframe\">\n",
       "  <thead>\n",
       "    <tr style=\"text-align: right;\">\n",
       "      <th></th>\n",
       "      <th>Unique_Values</th>\n",
       "      <th>Num_Unique_Values</th>\n",
       "      <th>Num_Null_Values</th>\n",
       "      <th>%_Null_Values</th>\n",
       "      <th>Sample_Unique_Values</th>\n",
       "    </tr>\n",
       "  </thead>\n",
       "  <tbody>\n",
       "    <tr>\n",
       "      <th>id del cliente</th>\n",
       "      <td>NaN</td>\n",
       "      <td>3000.0</td>\n",
       "      <td>0</td>\n",
       "      <td>0.0</td>\n",
       "      <td>[1681, 2645, 838, 1825, 359]</td>\n",
       "    </tr>\n",
       "    <tr>\n",
       "      <th>páginas visitadas</th>\n",
       "      <td>NaN</td>\n",
       "      <td>3000.0</td>\n",
       "      <td>0</td>\n",
       "      <td>0.0</td>\n",
       "      <td>[3, 4, 3, 4, 2]</td>\n",
       "    </tr>\n",
       "    <tr>\n",
       "      <th>duración de la sesión</th>\n",
       "      <td>NaN</td>\n",
       "      <td>3000.0</td>\n",
       "      <td>0</td>\n",
       "      <td>0.0</td>\n",
       "      <td>[372.1697912482389, 285.5925382941073, 323.688...</td>\n",
       "    </tr>\n",
       "    <tr>\n",
       "      <th>número de visitas</th>\n",
       "      <td>NaN</td>\n",
       "      <td>3000.0</td>\n",
       "      <td>0</td>\n",
       "      <td>0.0</td>\n",
       "      <td>[18, 30, 15, 38, 49]</td>\n",
       "    </tr>\n",
       "    <tr>\n",
       "      <th>fecha de nacimiento</th>\n",
       "      <td>90</td>\n",
       "      <td>3000</td>\n",
       "      <td>0</td>\n",
       "      <td>0.0</td>\n",
       "      <td>[1996-11-19 12:27:39.148023, 1955-11-30 12:27:...</td>\n",
       "    </tr>\n",
       "    <tr>\n",
       "      <th>ubicación</th>\n",
       "      <td>4</td>\n",
       "      <td>3000</td>\n",
       "      <td>0</td>\n",
       "      <td>0.0</td>\n",
       "      <td>[Ciudad A, Ciudad B, Ciudad B, Ciudad B, Ciuda...</td>\n",
       "    </tr>\n",
       "    <tr>\n",
       "      <th>dispositivo</th>\n",
       "      <td>3</td>\n",
       "      <td>3000</td>\n",
       "      <td>0</td>\n",
       "      <td>0.0</td>\n",
       "      <td>[tablet, tablet, ordenador, tablet, tablet]</td>\n",
       "    </tr>\n",
       "    <tr>\n",
       "      <th>convertido</th>\n",
       "      <td>2</td>\n",
       "      <td>3000</td>\n",
       "      <td>0</td>\n",
       "      <td>0.0</td>\n",
       "      <td>[Sí, No, Sí, No, No]</td>\n",
       "    </tr>\n",
       "  </tbody>\n",
       "</table>\n",
       "</div>"
      ],
      "text/plain": [
       "                      Unique_Values Num_Unique_Values  Num_Null_Values  \\\n",
       "id del cliente                  NaN            3000.0                0   \n",
       "páginas visitadas               NaN            3000.0                0   \n",
       "duración de la sesión           NaN            3000.0                0   \n",
       "número de visitas               NaN            3000.0                0   \n",
       "fecha de nacimiento              90              3000                0   \n",
       "ubicación                         4              3000                0   \n",
       "dispositivo                       3              3000                0   \n",
       "convertido                        2              3000                0   \n",
       "\n",
       "                       %_Null_Values  \\\n",
       "id del cliente                   0.0   \n",
       "páginas visitadas                0.0   \n",
       "duración de la sesión            0.0   \n",
       "número de visitas                0.0   \n",
       "fecha de nacimiento              0.0   \n",
       "ubicación                        0.0   \n",
       "dispositivo                      0.0   \n",
       "convertido                       0.0   \n",
       "\n",
       "                                                    Sample_Unique_Values  \n",
       "id del cliente                              [1681, 2645, 838, 1825, 359]  \n",
       "páginas visitadas                                        [3, 4, 3, 4, 2]  \n",
       "duración de la sesión  [372.1697912482389, 285.5925382941073, 323.688...  \n",
       "número de visitas                                   [18, 30, 15, 38, 49]  \n",
       "fecha de nacimiento    [1996-11-19 12:27:39.148023, 1955-11-30 12:27:...  \n",
       "ubicación              [Ciudad A, Ciudad B, Ciudad B, Ciudad B, Ciuda...  \n",
       "dispositivo                  [tablet, tablet, ordenador, tablet, tablet]  \n",
       "convertido                                          [Sí, No, Sí, No, No]  "
      ]
     },
     "execution_count": 7,
     "metadata": {},
     "output_type": "execute_result"
    }
   ],
   "source": [
    "from functions import validate_columns\n",
    "validate_columns(df_conversion_para_entrenar)"
   ]
  },
  {
   "cell_type": "markdown",
   "metadata": {},
   "source": [
    "___"
   ]
  },
  {
   "cell_type": "markdown",
   "metadata": {},
   "source": [
    "# 1. Clasificación"
   ]
  },
  {
   "cell_type": "code",
   "execution_count": 8,
   "metadata": {},
   "outputs": [
    {
     "data": {
      "text/html": [
       "<div>\n",
       "<style scoped>\n",
       "    .dataframe tbody tr th:only-of-type {\n",
       "        vertical-align: middle;\n",
       "    }\n",
       "\n",
       "    .dataframe tbody tr th {\n",
       "        vertical-align: top;\n",
       "    }\n",
       "\n",
       "    .dataframe thead th {\n",
       "        text-align: right;\n",
       "    }\n",
       "</style>\n",
       "<table border=\"1\" class=\"dataframe\">\n",
       "  <thead>\n",
       "    <tr style=\"text-align: right;\">\n",
       "      <th></th>\n",
       "      <th>id del cliente</th>\n",
       "      <th>páginas visitadas</th>\n",
       "      <th>duración de la sesión</th>\n",
       "      <th>número de visitas</th>\n",
       "      <th>fecha de nacimiento</th>\n",
       "      <th>ubicación</th>\n",
       "      <th>dispositivo</th>\n",
       "      <th>convertido</th>\n",
       "    </tr>\n",
       "  </thead>\n",
       "  <tbody>\n",
       "    <tr>\n",
       "      <th>0</th>\n",
       "      <td>1</td>\n",
       "      <td>9</td>\n",
       "      <td>91.231418</td>\n",
       "      <td>39</td>\n",
       "      <td>1955-11-30 12:27:39.148023</td>\n",
       "      <td>Marte</td>\n",
       "      <td>tablet</td>\n",
       "      <td>Sí</td>\n",
       "    </tr>\n",
       "    <tr>\n",
       "      <th>1</th>\n",
       "      <td>2</td>\n",
       "      <td>5</td>\n",
       "      <td>740.421698</td>\n",
       "      <td>11</td>\n",
       "      <td>1998-11-19 12:27:39.148023</td>\n",
       "      <td>Marte</td>\n",
       "      <td>móvil</td>\n",
       "      <td>No</td>\n",
       "    </tr>\n",
       "    <tr>\n",
       "      <th>2</th>\n",
       "      <td>3</td>\n",
       "      <td>6</td>\n",
       "      <td>15.947268</td>\n",
       "      <td>3</td>\n",
       "      <td>1962-11-28 12:27:39.148023</td>\n",
       "      <td>Marte</td>\n",
       "      <td>tablet</td>\n",
       "      <td>Sí</td>\n",
       "    </tr>\n",
       "    <tr>\n",
       "      <th>3</th>\n",
       "      <td>4</td>\n",
       "      <td>5</td>\n",
       "      <td>950.486443</td>\n",
       "      <td>18</td>\n",
       "      <td>1967-11-27 12:27:39.148023</td>\n",
       "      <td>Marte</td>\n",
       "      <td>móvil</td>\n",
       "      <td>Sí</td>\n",
       "    </tr>\n",
       "    <tr>\n",
       "      <th>4</th>\n",
       "      <td>5</td>\n",
       "      <td>5</td>\n",
       "      <td>63.656943</td>\n",
       "      <td>26</td>\n",
       "      <td>1982-11-23 12:27:39.148023</td>\n",
       "      <td>Marte</td>\n",
       "      <td>ordenador</td>\n",
       "      <td>No</td>\n",
       "    </tr>\n",
       "  </tbody>\n",
       "</table>\n",
       "</div>"
      ],
      "text/plain": [
       "   id del cliente  páginas visitadas  duración de la sesión  \\\n",
       "0               1                  9              91.231418   \n",
       "1               2                  5             740.421698   \n",
       "2               3                  6              15.947268   \n",
       "3               4                  5             950.486443   \n",
       "4               5                  5              63.656943   \n",
       "\n",
       "   número de visitas         fecha de nacimiento ubicación dispositivo  \\\n",
       "0                 39  1955-11-30 12:27:39.148023     Marte      tablet   \n",
       "1                 11  1998-11-19 12:27:39.148023     Marte       móvil   \n",
       "2                  3  1962-11-28 12:27:39.148023     Marte      tablet   \n",
       "3                 18  1967-11-27 12:27:39.148023     Marte       móvil   \n",
       "4                 26  1982-11-23 12:27:39.148023     Marte   ordenador   \n",
       "\n",
       "  convertido  \n",
       "0         Sí  \n",
       "1         No  \n",
       "2         Sí  \n",
       "3         Sí  \n",
       "4         No  "
      ]
     },
     "execution_count": 8,
     "metadata": {},
     "output_type": "execute_result"
    }
   ],
   "source": [
    "df_conversion_para_entrenar.head()"
   ]
  },
  {
   "cell_type": "code",
   "execution_count": 9,
   "id": "fc83c2e2af98da42",
   "metadata": {
    "ExecuteTime": {
     "end_time": "2023-11-28T18:34:24.518072100Z",
     "start_time": "2023-11-28T18:34:24.500046500Z"
    },
    "collapsed": false
   },
   "outputs": [
    {
     "data": {
      "text/plain": [
       "ubicación\n",
       "Ciudad B    1396\n",
       "Ciudad A    1394\n",
       "Marte        150\n",
       "Ciudad C      60\n",
       "Name: count, dtype: int64"
      ]
     },
     "execution_count": 9,
     "metadata": {},
     "output_type": "execute_result"
    }
   ],
   "source": [
    "df_conversion_para_entrenar[\"ubicación\"].value_counts()"
   ]
  },
  {
   "cell_type": "markdown",
   "metadata": {},
   "source": [
    "Hice un boxplot para comparar las variables de navegación entre Marte y la Tierra.\n"
   ]
  },
  {
   "cell_type": "code",
   "execution_count": 10,
   "metadata": {},
   "outputs": [
    {
     "data": {
      "image/png": "[encoded data removed]",
      "text/plain": [
       "<Figure size 2200x1200 with 2 Axes>"
      ]
     },
     "metadata": {},
     "output_type": "display_data"
    }
   ],
   "source": [
    "from functions import distribucion_entre_variables\n",
    "\n",
    "other_variables = ['páginas visitadas', \"duración de la sesión\"]\n",
    "\n",
    "distribucion_entre_variables(df_conversion_para_entrenar, 'ubicación', other_variables)"
   ]
  },
  {
   "cell_type": "code",
   "execution_count": 11,
   "id": "ffe7e1e6",
   "metadata": {},
   "outputs": [
    {
     "data": {
      "image/png": "[encoded data removed]",
      "text/plain": [
       "<Figure size 2200x2400 with 2 Axes>"
      ]
     },
     "metadata": {},
     "output_type": "display_data"
    }
   ],
   "source": [
    "other_variables = ['páginas visitadas', \"duración de la sesión\"]\n",
    "\n",
    "plt.figure(figsize=(22, 24))\n",
    "for i, variable in enumerate(other_variables, 1):\n",
    "    plt.subplot(3, 1, i)\n",
    "    sns.boxplot(x='ubicación', y=variable, data=df_conversion_para_entrenar)\n",
    "    plt.title(f'Distribution of {variable} by location')\n",
    "\n",
    "plt.tight_layout()\n",
    "plt.show()"
   ]
  },
  {
   "cell_type": "markdown",
   "id": "84efe450",
   "metadata": {},
   "source": [
    "Decidí hacer un t-test para ver si hay una diferencia significativa entre los dos grupos. La hipótesis nula es que no hay diferencia entre los dos grupos. La hipótesis alternativa es que hay una diferencia entre los dos grupos."
   ]
  },
  {
   "cell_type": "code",
   "execution_count": 12,
   "metadata": {},
   "outputs": [
    {
     "name": "stdout",
     "output_type": "stream",
     "text": [
      "Rechazar la hipótesis nula. Hay una diferencia significativa entre Marte y Tierra en la variable duración de la sesión.\n"
     ]
    }
   ],
   "source": [
    "from scipy.stats import ttest_ind\n",
    "\n",
    "grupo1 = df_conversion_para_entrenar[df_conversion_para_entrenar[\"ubicación\"] == \"Marte\"][\"duración de la sesión\"]\n",
    "grupo2 = df_conversion_para_entrenar[df_conversion_para_entrenar[\"ubicación\"] != \"Marte\"][\"duración de la sesión\"]\n",
    "\n",
    "t_stat, p_value = ttest_ind(grupo1, grupo2)\n",
    "\n",
    "if p_value < 0.05:\n",
    "    print(\"Rechazar la hipótesis nula. Hay una diferencia significativa entre Marte y Tierra en la variable duración de la sesión.\")\n",
    "else:\n",
    "    print(\"No rechazar la hipótesis nula. No una diferencia significativa entre Marte y Tierra en la variable duración de la sesión.\")\n"
   ]
  },
  {
   "cell_type": "markdown",
   "metadata": {},
   "source": [
    "##### Procedo a remover los valores de Marte, ya que no es útil tener en cuenta sus datos para predecir el comportamiento de los clientes en la Tierra. Tampoco es mucha la cantidad de datos que tengo de Marte, por lo que no me afecta mucho removerlos."
   ]
  },
  {
   "cell_type": "code",
   "execution_count": 13,
   "id": "a2899367c7029454",
   "metadata": {
    "ExecuteTime": {
     "end_time": "2023-11-28T18:34:24.687558800Z",
     "start_time": "2023-11-28T18:34:24.670078100Z"
    },
    "collapsed": false
   },
   "outputs": [],
   "source": [
    "df_conversion_para_entrenar = df_conversion_para_entrenar[df_conversion_para_entrenar[\"ubicación\"] != \"Marte\"]"
   ]
  },
  {
   "cell_type": "markdown",
   "metadata": {},
   "source": [
    "Obtengo variables dummy de la variable converted para poder trabajar mejor con ella."
   ]
  },
  {
   "cell_type": "code",
   "execution_count": 14,
   "metadata": {},
   "outputs": [],
   "source": [
    "df_conversion_para_entrenar['convertido'] = df_conversion_para_entrenar['convertido'].map({'Sí': 1, 'No': 0})"
   ]
  },
  {
   "cell_type": "code",
   "execution_count": 15,
   "metadata": {},
   "outputs": [
    {
     "data": {
      "text/html": [
       "<div>\n",
       "<style scoped>\n",
       "    .dataframe tbody tr th:only-of-type {\n",
       "        vertical-align: middle;\n",
       "    }\n",
       "\n",
       "    .dataframe tbody tr th {\n",
       "        vertical-align: top;\n",
       "    }\n",
       "\n",
       "    .dataframe thead th {\n",
       "        text-align: right;\n",
       "    }\n",
       "</style>\n",
       "<table border=\"1\" class=\"dataframe\">\n",
       "  <thead>\n",
       "    <tr style=\"text-align: right;\">\n",
       "      <th></th>\n",
       "      <th>id del cliente</th>\n",
       "      <th>páginas visitadas</th>\n",
       "      <th>duración de la sesión</th>\n",
       "      <th>número de visitas</th>\n",
       "      <th>fecha de nacimiento</th>\n",
       "      <th>ubicación</th>\n",
       "      <th>dispositivo</th>\n",
       "      <th>convertido</th>\n",
       "    </tr>\n",
       "  </thead>\n",
       "  <tbody>\n",
       "    <tr>\n",
       "      <th>150</th>\n",
       "      <td>151</td>\n",
       "      <td>8</td>\n",
       "      <td>414.129933</td>\n",
       "      <td>11</td>\n",
       "      <td>2005-11-17 12:27:39.148023</td>\n",
       "      <td>Ciudad A</td>\n",
       "      <td>móvil</td>\n",
       "      <td>0</td>\n",
       "    </tr>\n",
       "    <tr>\n",
       "      <th>151</th>\n",
       "      <td>152</td>\n",
       "      <td>3</td>\n",
       "      <td>247.930919</td>\n",
       "      <td>6</td>\n",
       "      <td>1986-11-22 12:27:39.148023</td>\n",
       "      <td>Ciudad B</td>\n",
       "      <td>ordenador</td>\n",
       "      <td>0</td>\n",
       "    </tr>\n",
       "    <tr>\n",
       "      <th>152</th>\n",
       "      <td>153</td>\n",
       "      <td>4</td>\n",
       "      <td>261.724178</td>\n",
       "      <td>19</td>\n",
       "      <td>1966-11-27 12:27:39.148023</td>\n",
       "      <td>Ciudad B</td>\n",
       "      <td>ordenador</td>\n",
       "      <td>0</td>\n",
       "    </tr>\n",
       "    <tr>\n",
       "      <th>153</th>\n",
       "      <td>154</td>\n",
       "      <td>2</td>\n",
       "      <td>294.076794</td>\n",
       "      <td>31</td>\n",
       "      <td>1975-11-25 12:27:39.148023</td>\n",
       "      <td>Ciudad B</td>\n",
       "      <td>tablet</td>\n",
       "      <td>0</td>\n",
       "    </tr>\n",
       "    <tr>\n",
       "      <th>154</th>\n",
       "      <td>155</td>\n",
       "      <td>5</td>\n",
       "      <td>363.287411</td>\n",
       "      <td>23</td>\n",
       "      <td>1998-11-19 12:27:39.148023</td>\n",
       "      <td>Ciudad A</td>\n",
       "      <td>móvil</td>\n",
       "      <td>1</td>\n",
       "    </tr>\n",
       "  </tbody>\n",
       "</table>\n",
       "</div>"
      ],
      "text/plain": [
       "     id del cliente  páginas visitadas  duración de la sesión  \\\n",
       "150             151                  8             414.129933   \n",
       "151             152                  3             247.930919   \n",
       "152             153                  4             261.724178   \n",
       "153             154                  2             294.076794   \n",
       "154             155                  5             363.287411   \n",
       "\n",
       "     número de visitas         fecha de nacimiento ubicación dispositivo  \\\n",
       "150                 11  2005-11-17 12:27:39.148023  Ciudad A       móvil   \n",
       "151                  6  1986-11-22 12:27:39.148023  Ciudad B   ordenador   \n",
       "152                 19  1966-11-27 12:27:39.148023  Ciudad B   ordenador   \n",
       "153                 31  1975-11-25 12:27:39.148023  Ciudad B      tablet   \n",
       "154                 23  1998-11-19 12:27:39.148023  Ciudad A       móvil   \n",
       "\n",
       "     convertido  \n",
       "150           0  \n",
       "151           0  \n",
       "152           0  \n",
       "153           0  \n",
       "154           1  "
      ]
     },
     "execution_count": 15,
     "metadata": {},
     "output_type": "execute_result"
    }
   ],
   "source": [
    "df_conversion_para_entrenar.head()"
   ]
  },
  {
   "cell_type": "code",
   "execution_count": 16,
   "metadata": {},
   "outputs": [
    {
     "data": {
      "text/html": [
       "<div>\n",
       "<style scoped>\n",
       "    .dataframe tbody tr th:only-of-type {\n",
       "        vertical-align: middle;\n",
       "    }\n",
       "\n",
       "    .dataframe tbody tr th {\n",
       "        vertical-align: top;\n",
       "    }\n",
       "\n",
       "    .dataframe thead th {\n",
       "        text-align: right;\n",
       "    }\n",
       "</style>\n",
       "<table border=\"1\" class=\"dataframe\">\n",
       "  <thead>\n",
       "    <tr style=\"text-align: right;\">\n",
       "      <th></th>\n",
       "      <th>ubicación</th>\n",
       "      <th>convertido</th>\n",
       "    </tr>\n",
       "  </thead>\n",
       "  <tbody>\n",
       "    <tr>\n",
       "      <th>0</th>\n",
       "      <td>Ciudad A</td>\n",
       "      <td>0.483501</td>\n",
       "    </tr>\n",
       "    <tr>\n",
       "      <th>1</th>\n",
       "      <td>Ciudad B</td>\n",
       "      <td>0.483524</td>\n",
       "    </tr>\n",
       "    <tr>\n",
       "      <th>2</th>\n",
       "      <td>Ciudad C</td>\n",
       "      <td>0.516667</td>\n",
       "    </tr>\n",
       "  </tbody>\n",
       "</table>\n",
       "</div>"
      ],
      "text/plain": [
       "  ubicación  convertido\n",
       "0  Ciudad A    0.483501\n",
       "1  Ciudad B    0.483524\n",
       "2  Ciudad C    0.516667"
      ]
     },
     "execution_count": 16,
     "metadata": {},
     "output_type": "execute_result"
    }
   ],
   "source": [
    "df_conversion_para_entrenar.groupby(\"ubicación\").agg({\"convertido\": \"mean\"}).reset_index()"
   ]
  },
  {
   "cell_type": "markdown",
   "id": "87fb1ddd",
   "metadata": {},
   "source": [
    "### Tratamiento de outliers"
   ]
  },
  {
   "cell_type": "code",
   "execution_count": 17,
   "metadata": {},
   "outputs": [
    {
     "data": {
      "image/png": "[encoded data removed]",
      "text/plain": [
       "<Figure size 2000x1500 with 6 Axes>"
      ]
     },
     "metadata": {},
     "output_type": "display_data"
    }
   ],
   "source": [
    "from functions import plot_outliers\n",
    "plot_outliers(df_conversion_para_entrenar)"
   ]
  },
  {
   "cell_type": "markdown",
   "id": "8ed74796",
   "metadata": {},
   "source": [
    "Aparentemente, según el gráfico que hice, hay 2 columnas con outliers.\n",
    "\n",
    "Para determinar la cantidad de outliers en cada columna, crearé una columna que me dirá si esa fila es un outlier o no. Esto se llama columna de flag. Usaré la función find_and_filter_outliers."
   ]
  },
  {
   "cell_type": "code",
   "execution_count": 18,
   "metadata": {},
   "outputs": [],
   "source": [
    "def find_and_filter_outliers(dataframe, column_name):\n",
    "\n",
    "    Q1 = dataframe[column_name].quantile(0.25)\n",
    "    Q3 = dataframe[column_name].quantile(0.75)\n",
    "    IQR = Q3 - Q1\n",
    "\n",
    "    lower_bound = Q1 - 1.5 * IQR\n",
    "    upper_bound = Q3 + 1.5 * IQR\n",
    "    \n",
    "    dataframe['is_outlier'] = dataframe[column_name].apply(lambda x: 'Yes' if (x < lower_bound or x > upper_bound) else 'No')\n",
    "   \n",
    "    return dataframe[dataframe['is_outlier'] == 'No']"
   ]
  },
  {
   "cell_type": "markdown",
   "metadata": {},
   "source": [
    "Voy a remover solamente una de las dos columnas que tienen outliers, ya que luego voy a hacer un modelo de árbol de decisión. Los modelos de árbol de decisión son robustos a los outliers.\n",
    "\n",
    "Entonces,la que más afectaría al modelo sería la de páginas visitadas ya que es la que tiene más outliers."
   ]
  },
  {
   "cell_type": "code",
   "execution_count": 19,
   "metadata": {},
   "outputs": [
    {
     "data": {
      "text/plain": [
       "(2850, 8)"
      ]
     },
     "execution_count": 19,
     "metadata": {},
     "output_type": "execute_result"
    }
   ],
   "source": [
    "df_conversion_para_entrenar.shape"
   ]
  },
  {
   "cell_type": "code",
   "execution_count": 20,
   "metadata": {},
   "outputs": [],
   "source": [
    "df_conversion_para_entrenar = find_and_filter_outliers(df_conversion_para_entrenar, \"páginas visitadas\")"
   ]
  },
  {
   "cell_type": "code",
   "execution_count": 21,
   "metadata": {},
   "outputs": [
    {
     "data": {
      "text/plain": [
       "is_outlier\n",
       "No    2776\n",
       "Name: count, dtype: int64"
      ]
     },
     "execution_count": 21,
     "metadata": {},
     "output_type": "execute_result"
    }
   ],
   "source": [
    "df_conversion_para_entrenar[\"is_outlier\"].value_counts()"
   ]
  },
  {
   "cell_type": "markdown",
   "metadata": {},
   "source": [
    "Aparentemente, el dataframe tenía 74 valores outliers ya que el dataset original tenía 2850 filas y ahora tiene 2776 filas."
   ]
  },
  {
   "cell_type": "markdown",
   "metadata": {},
   "source": [
    "##### He decidido remover la columna de páginas visitadas ya que lo más común es visitar entre 1 y 10 páginas. Es muy raro visitar por encima de 20 o 30 páginas. Además, siento que es un poco más común que haya más duración de sesión que páginas visitadas."
   ]
  },
  {
   "cell_type": "markdown",
   "metadata": {},
   "source": [
    "### Hipotesis: La variable duración de sesión es la que más afecta a la conversión de los clientes. A mayor duración de sesión, mayor probabilidad de que el cliente compre."
   ]
  },
  {
   "cell_type": "markdown",
   "id": "7137c07d",
   "metadata": {},
   "source": [
    "Creación de variables dummy para ubicación y dispositivo."
   ]
  },
  {
   "cell_type": "code",
   "execution_count": 22,
   "metadata": {},
   "outputs": [],
   "source": [
    "df_con_dummies = pd.get_dummies(df_conversion_para_entrenar, columns=[\"ubicación\", \"dispositivo\"])\n",
    "df_con_dummies = df_con_dummies.replace({True: 1, False: 0})"
   ]
  },
  {
   "cell_type": "code",
   "execution_count": 23,
   "metadata": {},
   "outputs": [],
   "source": [
    "df_con_dummies['duración de la sesión'] = df_conversion_para_entrenar['duración de la sesión'].astype(int)"
   ]
  },
  {
   "cell_type": "markdown",
   "id": "aa116a4e",
   "metadata": {},
   "source": [
    "### Creación de la columna de Edad del Cliente"
   ]
  },
  {
   "cell_type": "markdown",
   "id": "161a41be",
   "metadata": {},
   "source": [
    "Substraigo el año de la fecha de nacimiento del año actual para obtener la edad del cliente.\n",
    "\n",
    "El día que se ha tomado es la fecha en la que se ha hecho este proyecto. \"2023-12-30\""
   ]
  },
  {
   "cell_type": "code",
   "execution_count": 24,
   "id": "963b7e13",
   "metadata": {},
   "outputs": [],
   "source": [
    "df_con_dummies[\"hoy\"]= \"2023-12-30\"\n",
    "df_con_dummies['hoy'] = pd.to_datetime(df_con_dummies['hoy'])\n",
    "df_con_dummies['fecha de nacimiento'] = pd.to_datetime(df_con_dummies['fecha de nacimiento'])\n",
    "df_con_dummies['edad'] = (df_con_dummies['hoy'] - df_con_dummies['fecha de nacimiento']).dt.days//365"
   ]
  },
  {
   "cell_type": "code",
   "execution_count": 25,
   "id": "9c09c975",
   "metadata": {},
   "outputs": [
    {
     "data": {
      "text/html": [
       "<div>\n",
       "<style scoped>\n",
       "    .dataframe tbody tr th:only-of-type {\n",
       "        vertical-align: middle;\n",
       "    }\n",
       "\n",
       "    .dataframe tbody tr th {\n",
       "        vertical-align: top;\n",
       "    }\n",
       "\n",
       "    .dataframe thead th {\n",
       "        text-align: right;\n",
       "    }\n",
       "</style>\n",
       "<table border=\"1\" class=\"dataframe\">\n",
       "  <thead>\n",
       "    <tr style=\"text-align: right;\">\n",
       "      <th></th>\n",
       "      <th>id del cliente</th>\n",
       "      <th>páginas visitadas</th>\n",
       "      <th>duración de la sesión</th>\n",
       "      <th>número de visitas</th>\n",
       "      <th>fecha de nacimiento</th>\n",
       "      <th>convertido</th>\n",
       "      <th>is_outlier</th>\n",
       "      <th>ubicación_Ciudad A</th>\n",
       "      <th>ubicación_Ciudad B</th>\n",
       "      <th>ubicación_Ciudad C</th>\n",
       "      <th>dispositivo_móvil</th>\n",
       "      <th>dispositivo_ordenador</th>\n",
       "      <th>dispositivo_tablet</th>\n",
       "      <th>hoy</th>\n",
       "      <th>edad</th>\n",
       "    </tr>\n",
       "  </thead>\n",
       "  <tbody>\n",
       "    <tr>\n",
       "      <th>150</th>\n",
       "      <td>151</td>\n",
       "      <td>8</td>\n",
       "      <td>414</td>\n",
       "      <td>11</td>\n",
       "      <td>2005-11-17 12:27:39.148023</td>\n",
       "      <td>0</td>\n",
       "      <td>No</td>\n",
       "      <td>1</td>\n",
       "      <td>0</td>\n",
       "      <td>0</td>\n",
       "      <td>1</td>\n",
       "      <td>0</td>\n",
       "      <td>0</td>\n",
       "      <td>2023-12-30</td>\n",
       "      <td>18</td>\n",
       "    </tr>\n",
       "    <tr>\n",
       "      <th>151</th>\n",
       "      <td>152</td>\n",
       "      <td>3</td>\n",
       "      <td>247</td>\n",
       "      <td>6</td>\n",
       "      <td>1986-11-22 12:27:39.148023</td>\n",
       "      <td>0</td>\n",
       "      <td>No</td>\n",
       "      <td>0</td>\n",
       "      <td>1</td>\n",
       "      <td>0</td>\n",
       "      <td>0</td>\n",
       "      <td>1</td>\n",
       "      <td>0</td>\n",
       "      <td>2023-12-30</td>\n",
       "      <td>37</td>\n",
       "    </tr>\n",
       "    <tr>\n",
       "      <th>152</th>\n",
       "      <td>153</td>\n",
       "      <td>4</td>\n",
       "      <td>261</td>\n",
       "      <td>19</td>\n",
       "      <td>1966-11-27 12:27:39.148023</td>\n",
       "      <td>0</td>\n",
       "      <td>No</td>\n",
       "      <td>0</td>\n",
       "      <td>1</td>\n",
       "      <td>0</td>\n",
       "      <td>0</td>\n",
       "      <td>1</td>\n",
       "      <td>0</td>\n",
       "      <td>2023-12-30</td>\n",
       "      <td>57</td>\n",
       "    </tr>\n",
       "    <tr>\n",
       "      <th>153</th>\n",
       "      <td>154</td>\n",
       "      <td>2</td>\n",
       "      <td>294</td>\n",
       "      <td>31</td>\n",
       "      <td>1975-11-25 12:27:39.148023</td>\n",
       "      <td>0</td>\n",
       "      <td>No</td>\n",
       "      <td>0</td>\n",
       "      <td>1</td>\n",
       "      <td>0</td>\n",
       "      <td>0</td>\n",
       "      <td>0</td>\n",
       "      <td>1</td>\n",
       "      <td>2023-12-30</td>\n",
       "      <td>48</td>\n",
       "    </tr>\n",
       "    <tr>\n",
       "      <th>154</th>\n",
       "      <td>155</td>\n",
       "      <td>5</td>\n",
       "      <td>363</td>\n",
       "      <td>23</td>\n",
       "      <td>1998-11-19 12:27:39.148023</td>\n",
       "      <td>1</td>\n",
       "      <td>No</td>\n",
       "      <td>1</td>\n",
       "      <td>0</td>\n",
       "      <td>0</td>\n",
       "      <td>1</td>\n",
       "      <td>0</td>\n",
       "      <td>0</td>\n",
       "      <td>2023-12-30</td>\n",
       "      <td>25</td>\n",
       "    </tr>\n",
       "  </tbody>\n",
       "</table>\n",
       "</div>"
      ],
      "text/plain": [
       "     id del cliente  páginas visitadas  duración de la sesión  \\\n",
       "150             151                  8                    414   \n",
       "151             152                  3                    247   \n",
       "152             153                  4                    261   \n",
       "153             154                  2                    294   \n",
       "154             155                  5                    363   \n",
       "\n",
       "     número de visitas        fecha de nacimiento  convertido is_outlier  \\\n",
       "150                 11 2005-11-17 12:27:39.148023           0         No   \n",
       "151                  6 1986-11-22 12:27:39.148023           0         No   \n",
       "152                 19 1966-11-27 12:27:39.148023           0         No   \n",
       "153                 31 1975-11-25 12:27:39.148023           0         No   \n",
       "154                 23 1998-11-19 12:27:39.148023           1         No   \n",
       "\n",
       "     ubicación_Ciudad A  ubicación_Ciudad B  ubicación_Ciudad C  \\\n",
       "150                   1                   0                   0   \n",
       "151                   0                   1                   0   \n",
       "152                   0                   1                   0   \n",
       "153                   0                   1                   0   \n",
       "154                   1                   0                   0   \n",
       "\n",
       "     dispositivo_móvil  dispositivo_ordenador  dispositivo_tablet        hoy  \\\n",
       "150                  1                      0                   0 2023-12-30   \n",
       "151                  0                      1                   0 2023-12-30   \n",
       "152                  0                      1                   0 2023-12-30   \n",
       "153                  0                      0                   1 2023-12-30   \n",
       "154                  1                      0                   0 2023-12-30   \n",
       "\n",
       "     edad  \n",
       "150    18  \n",
       "151    37  \n",
       "152    57  \n",
       "153    48  \n",
       "154    25  "
      ]
     },
     "execution_count": 25,
     "metadata": {},
     "output_type": "execute_result"
    }
   ],
   "source": [
    "df_con_dummies.head()"
   ]
  },
  {
   "cell_type": "markdown",
   "id": "23362947",
   "metadata": {},
   "source": [
    "##### Variable dependiente: convertido\n",
    "##### Variables independientes: numero de visitas, paginas visitadas, duracion de la sesion, edad del cliente, dispositivo, ubicacion."
   ]
  },
  {
   "cell_type": "code",
   "execution_count": 26,
   "metadata": {},
   "outputs": [],
   "source": [
    "X = df_con_dummies[[\"número de visitas\", \"páginas visitadas\", \"duración de la sesión\", \"dispositivo_móvil\", \"dispositivo_ordenador\", \"dispositivo_tablet\", \"ubicación_Ciudad A\", \"ubicación_Ciudad B\", \"ubicación_Ciudad C\", \"edad\"]]\n",
    "y = df_con_dummies[\"convertido\"]"
   ]
  },
  {
   "cell_type": "code",
   "execution_count": 27,
   "metadata": {},
   "outputs": [],
   "source": [
    "from sklearn.model_selection import train_test_split\n",
    "from sklearn.tree import DecisionTreeClassifier\n",
    "\n",
    "X_train, X_test, y_train, y_test = train_test_split(X, y, test_size = 0.2, random_state=42)"
   ]
  },
  {
   "cell_type": "code",
   "execution_count": 28,
   "metadata": {},
   "outputs": [],
   "source": [
    "decision_tree_model = DecisionTreeClassifier(max_depth=3)\n",
    "decision_tree_model = decision_tree_model.fit(X_train, y_train)"
   ]
  },
  {
   "cell_type": "code",
   "execution_count": 29,
   "metadata": {},
   "outputs": [
    {
     "name": "stdout",
     "output_type": "stream",
     "text": [
      "Puntuación de validación cruzada: [0.51079137 0.51351351 0.47567568 0.4954955  0.5009009 ]\n",
      "Precisión en entrenamiento = 0.5247747747747747\n",
      "Precisión en pruebas = 0.5089928057553957\n"
     ]
    }
   ],
   "source": [
    "from sklearn.model_selection import cross_val_score\n",
    "\n",
    "score = cross_val_score(decision_tree_model, X, y, cv=5)  \n",
    "print('Puntuación de validación cruzada:', score)\n",
    "\n",
    "# Precisión en entrenamiento\n",
    "dt_train_accuracy = decision_tree_model.score(X_train, y_train)\n",
    "print(\"Precisión en entrenamiento =\", dt_train_accuracy) \n",
    "\n",
    "# Precisión en pruebas\n",
    "dt_test_accuracy = decision_tree_model.score(X_test, y_test)\n",
    "print(\"Precisión en pruebas =\", dt_test_accuracy)"
   ]
  },
  {
   "cell_type": "markdown",
   "metadata": {},
   "source": [
    "La precisión en entrenamiento es un 2% mas alta que en el de pruebas."
   ]
  },
  {
   "cell_type": "code",
   "execution_count": 30,
   "metadata": {},
   "outputs": [],
   "source": [
    "y_pred = decision_tree_model.predict(X_test)"
   ]
  },
  {
   "cell_type": "code",
   "execution_count": 31,
   "metadata": {},
   "outputs": [],
   "source": [
    "from sklearn.metrics import confusion_matrix\n",
    "\n",
    "conf_matrix = confusion_matrix(y_test, y_pred)\n",
    "tp, fn, fp, tn = conf_matrix.ravel()"
   ]
  },
  {
   "cell_type": "code",
   "execution_count": 32,
   "metadata": {},
   "outputs": [
    {
     "data": {
      "image/png": "[encoded data removed]",
      "text/plain": [
       "<Figure size 1500x1000 with 2 Axes>"
      ]
     },
     "metadata": {},
     "output_type": "display_data"
    }
   ],
   "source": [
    "y_true = y_test\n",
    "\n",
    "f, ax = plt.subplots(figsize=(15, 10))\n",
    "sns.heatmap(conf_matrix, annot=True, linewidth=0.5, fmt=\".0f\", cmap='viridis', ax=ax)\n",
    "plt.xlabel(\"Predicho\")\n",
    "plt.ylabel(\"Real\")\n",
    "plt.title('Matriz de confusión')\n",
    "plt.show()"
   ]
  },
  {
   "cell_type": "code",
   "execution_count": 33,
   "metadata": {},
   "outputs": [
    {
     "data": {
      "text/plain": [
       "(556,)"
      ]
     },
     "execution_count": 33,
     "metadata": {},
     "output_type": "execute_result"
    }
   ],
   "source": [
    "y_test.shape"
   ]
  },
  {
   "cell_type": "markdown",
   "metadata": {},
   "source": [
    "La precisión es la relación entre las predicciones correctas y el número total de predicciones correctas previstas. Esto mide la precisión del clasificador a la hora de predecir casos positivos.\n",
    "\n",
    "Aplicado a este contexto de clasificación, la precisión es la relación entre los clientes que realmente compraron y los clientes que el modelo predijo que compraron."
   ]
  },
  {
   "cell_type": "code",
   "execution_count": 34,
   "metadata": {},
   "outputs": [
    {
     "name": "stdout",
     "output_type": "stream",
     "text": [
      "Precision: 0.491725768321513\n",
      "Recall: 0.7819548872180451\n",
      "Exactitud: 0.5089928057553957\n"
     ]
    }
   ],
   "source": [
    "from sklearn.metrics import precision_score, recall_score, accuracy_score\n",
    "\n",
    "print(\"Precision:\", precision_score(y_true, y_pred))\n",
    "print(\"Recall:\", recall_score(y_true, y_pred))\n",
    "print(\"Exactitud:\", accuracy_score(y_true, y_pred))"
   ]
  },
  {
   "cell_type": "markdown",
   "id": "f4850ae9",
   "metadata": {},
   "source": [
    "## Tree visualization"
   ]
  },
  {
   "cell_type": "code",
   "execution_count": 35,
   "metadata": {},
   "outputs": [
    {
     "data": {
      "image/svg+xml": [
       "<?xml version=\"1.0\" encoding=\"UTF-8\" standalone=\"no\"?>\n",
       "<!DOCTYPE svg PUBLIC \"-//W3C//DTD SVG 1.1//EN\"\n",
       " \"http://www.w3.org/Graphics/SVG/1.1/DTD/svg11.dtd\">\n",
       "<!-- Generated by graphviz version 2.50.0 (0)\n",
       " -->\n",
       "<!-- Title: Tree Pages: 1 -->\n",
       "<svg width=\"1230pt\" height=\"433pt\"\n",
       " viewBox=\"0.00 0.00 1230.00 433.00\" xmlns=\"http://www.w3.org/2000/svg\" xmlns:xlink=\"http://www.w3.org/1999/xlink\">\n",
       "<g id=\"graph0\" class=\"graph\" transform=\"scale(1 1) rotate(0) translate(4 429)\">\n",
       "<title>Tree</title>\n",
       "<polygon fill=\"white\" stroke=\"transparent\" points=\"-4,4 -4,-429 1226,-429 1226,4 -4,4\"/>\n",
       "<!-- 0 -->\n",
       "<g id=\"node1\" class=\"node\">\n",
       "<title>0</title>\n",
       "<path fill=\"#fef9f6\" stroke=\"black\" d=\"M654,-425C654,-425 538,-425 538,-425 532,-425 526,-419 526,-413 526,-413 526,-354 526,-354 526,-348 532,-342 538,-342 538,-342 654,-342 654,-342 660,-342 666,-348 666,-354 666,-354 666,-413 666,-413 666,-419 660,-425 654,-425\"/>\n",
       "<text text-anchor=\"start\" x=\"556.5\" y=\"-409.8\" font-family=\"Helvetica,sans-Serif\" font-size=\"14.00\">edad ≤ 100.5</text>\n",
       "<text text-anchor=\"start\" x=\"568\" y=\"-394.8\" font-family=\"Helvetica,sans-Serif\" font-size=\"14.00\">gini = 0.5</text>\n",
       "<text text-anchor=\"start\" x=\"547.5\" y=\"-379.8\" font-family=\"Helvetica,sans-Serif\" font-size=\"14.00\">samples = 2220</text>\n",
       "<text text-anchor=\"start\" x=\"534\" y=\"-364.8\" font-family=\"Helvetica,sans-Serif\" font-size=\"14.00\">value = [1136, 1084]</text>\n",
       "<text text-anchor=\"start\" x=\"540\" y=\"-349.8\" font-family=\"Helvetica,sans-Serif\" font-size=\"14.00\">class = Convertido</text>\n",
       "</g>\n",
       "<!-- 1 -->\n",
       "<g id=\"node2\" class=\"node\">\n",
       "<title>1</title>\n",
       "<path fill=\"#fefcfa\" stroke=\"black\" d=\"M542.5,-306C542.5,-306 373.5,-306 373.5,-306 367.5,-306 361.5,-300 361.5,-294 361.5,-294 361.5,-235 361.5,-235 361.5,-229 367.5,-223 373.5,-223 373.5,-223 542.5,-223 542.5,-223 548.5,-223 554.5,-229 554.5,-235 554.5,-235 554.5,-294 554.5,-294 554.5,-300 548.5,-306 542.5,-306\"/>\n",
       "<text text-anchor=\"start\" x=\"369.5\" y=\"-290.8\" font-family=\"Helvetica,sans-Serif\" font-size=\"14.00\">duración de la sesión ≤ 334.5</text>\n",
       "<text text-anchor=\"start\" x=\"430\" y=\"-275.8\" font-family=\"Helvetica,sans-Serif\" font-size=\"14.00\">gini = 0.5</text>\n",
       "<text text-anchor=\"start\" x=\"409.5\" y=\"-260.8\" font-family=\"Helvetica,sans-Serif\" font-size=\"14.00\">samples = 2181</text>\n",
       "<text text-anchor=\"start\" x=\"396\" y=\"-245.8\" font-family=\"Helvetica,sans-Serif\" font-size=\"14.00\">value = [1105, 1076]</text>\n",
       "<text text-anchor=\"start\" x=\"402\" y=\"-230.8\" font-family=\"Helvetica,sans-Serif\" font-size=\"14.00\">class = Convertido</text>\n",
       "</g>\n",
       "<!-- 0&#45;&gt;1 -->\n",
       "<g id=\"edge1\" class=\"edge\">\n",
       "<title>0&#45;&gt;1</title>\n",
       "<path fill=\"none\" stroke=\"black\" d=\"M548.12,-341.91C536.99,-332.47 525.05,-322.34 513.61,-312.65\"/>\n",
       "<polygon fill=\"black\" stroke=\"black\" points=\"515.68,-309.82 505.79,-306.02 511.16,-315.16 515.68,-309.82\"/>\n",
       "<text text-anchor=\"middle\" x=\"507.85\" y=\"-327.24\" font-family=\"Helvetica,sans-Serif\" font-size=\"14.00\">True</text>\n",
       "</g>\n",
       "<!-- 8 -->\n",
       "<g id=\"node9\" class=\"node\">\n",
       "<title>8</title>\n",
       "<path fill=\"#eca26c\" stroke=\"black\" d=\"M813,-306C813,-306 683,-306 683,-306 677,-306 671,-300 671,-294 671,-294 671,-235 671,-235 671,-229 677,-223 683,-223 683,-223 813,-223 813,-223 819,-223 825,-229 825,-235 825,-235 825,-294 825,-294 825,-300 819,-306 813,-306\"/>\n",
       "<text text-anchor=\"start\" x=\"679\" y=\"-290.8\" font-family=\"Helvetica,sans-Serif\" font-size=\"14.00\">páginas visitadas ≤ 8.5</text>\n",
       "<text text-anchor=\"start\" x=\"712.5\" y=\"-275.8\" font-family=\"Helvetica,sans-Serif\" font-size=\"14.00\">gini = 0.326</text>\n",
       "<text text-anchor=\"start\" x=\"707\" y=\"-260.8\" font-family=\"Helvetica,sans-Serif\" font-size=\"14.00\">samples = 39</text>\n",
       "<text text-anchor=\"start\" x=\"705\" y=\"-245.8\" font-family=\"Helvetica,sans-Serif\" font-size=\"14.00\">value = [31, 8]</text>\n",
       "<text text-anchor=\"start\" x=\"692\" y=\"-230.8\" font-family=\"Helvetica,sans-Serif\" font-size=\"14.00\">class = Convertido</text>\n",
       "</g>\n",
       "<!-- 0&#45;&gt;8 -->\n",
       "<g id=\"edge8\" class=\"edge\">\n",
       "<title>0&#45;&gt;8</title>\n",
       "<path fill=\"none\" stroke=\"black\" d=\"M648.74,-341.91C661.12,-332.38 674.41,-322.15 687.11,-312.37\"/>\n",
       "<polygon fill=\"black\" stroke=\"black\" points=\"689.57,-314.89 695.36,-306.02 685.3,-309.35 689.57,-314.89\"/>\n",
       "<text text-anchor=\"middle\" x=\"692.13\" y=\"-327.11\" font-family=\"Helvetica,sans-Serif\" font-size=\"14.00\">False</text>\n",
       "</g>\n",
       "<!-- 2 -->\n",
       "<g id=\"node3\" class=\"node\">\n",
       "<title>2</title>\n",
       "<path fill=\"#f9fcfe\" stroke=\"black\" d=\"M321.5,-187C321.5,-187 152.5,-187 152.5,-187 146.5,-187 140.5,-181 140.5,-175 140.5,-175 140.5,-116 140.5,-116 140.5,-110 146.5,-104 152.5,-104 152.5,-104 321.5,-104 321.5,-104 327.5,-104 333.5,-110 333.5,-116 333.5,-116 333.5,-175 333.5,-175 333.5,-181 327.5,-187 321.5,-187\"/>\n",
       "<text text-anchor=\"start\" x=\"148.5\" y=\"-171.8\" font-family=\"Helvetica,sans-Serif\" font-size=\"14.00\">duración de la sesión ≤ 333.5</text>\n",
       "<text text-anchor=\"start\" x=\"209\" y=\"-156.8\" font-family=\"Helvetica,sans-Serif\" font-size=\"14.00\">gini = 0.5</text>\n",
       "<text text-anchor=\"start\" x=\"188.5\" y=\"-141.8\" font-family=\"Helvetica,sans-Serif\" font-size=\"14.00\">samples = 1634</text>\n",
       "<text text-anchor=\"start\" x=\"182.5\" y=\"-126.8\" font-family=\"Helvetica,sans-Serif\" font-size=\"14.00\">value = [805, 829]</text>\n",
       "<text text-anchor=\"start\" x=\"172\" y=\"-111.8\" font-family=\"Helvetica,sans-Serif\" font-size=\"14.00\">class = No convertido</text>\n",
       "</g>\n",
       "<!-- 1&#45;&gt;2 -->\n",
       "<g id=\"edge2\" class=\"edge\">\n",
       "<title>1&#45;&gt;2</title>\n",
       "<path fill=\"none\" stroke=\"black\" d=\"M381.33,-222.91C362.38,-212.88 341.97,-202.07 322.64,-191.84\"/>\n",
       "<polygon fill=\"black\" stroke=\"black\" points=\"324.01,-188.61 313.54,-187.02 320.74,-194.79 324.01,-188.61\"/>\n",
       "</g>\n",
       "<!-- 5 -->\n",
       "<g id=\"node6\" class=\"node\">\n",
       "<title>5</title>\n",
       "<path fill=\"#fae9dc\" stroke=\"black\" d=\"M510,-187C510,-187 406,-187 406,-187 400,-187 394,-181 394,-175 394,-175 394,-116 394,-116 394,-110 400,-104 406,-104 406,-104 510,-104 510,-104 516,-104 522,-110 522,-116 522,-116 522,-175 522,-175 522,-181 516,-187 510,-187\"/>\n",
       "<text text-anchor=\"start\" x=\"422\" y=\"-171.8\" font-family=\"Helvetica,sans-Serif\" font-size=\"14.00\">edad ≤ 18.5</text>\n",
       "<text text-anchor=\"start\" x=\"422.5\" y=\"-156.8\" font-family=\"Helvetica,sans-Serif\" font-size=\"14.00\">gini = 0.495</text>\n",
       "<text text-anchor=\"start\" x=\"413\" y=\"-141.8\" font-family=\"Helvetica,sans-Serif\" font-size=\"14.00\">samples = 547</text>\n",
       "<text text-anchor=\"start\" x=\"403.5\" y=\"-126.8\" font-family=\"Helvetica,sans-Serif\" font-size=\"14.00\">value = [300, 247]</text>\n",
       "<text text-anchor=\"start\" x=\"402\" y=\"-111.8\" font-family=\"Helvetica,sans-Serif\" font-size=\"14.00\">class = Convertido</text>\n",
       "</g>\n",
       "<!-- 1&#45;&gt;5 -->\n",
       "<g id=\"edge5\" class=\"edge\">\n",
       "<title>1&#45;&gt;5</title>\n",
       "<path fill=\"none\" stroke=\"black\" d=\"M458,-222.91C458,-214.65 458,-205.86 458,-197.3\"/>\n",
       "<polygon fill=\"black\" stroke=\"black\" points=\"461.5,-197.02 458,-187.02 454.5,-197.02 461.5,-197.02\"/>\n",
       "</g>\n",
       "<!-- 3 -->\n",
       "<g id=\"node4\" class=\"node\">\n",
       "<title>3</title>\n",
       "<path fill=\"#fbfdfe\" stroke=\"black\" d=\"M134,-68C134,-68 12,-68 12,-68 6,-68 0,-62 0,-56 0,-56 0,-12 0,-12 0,-6 6,0 12,0 12,0 134,0 134,0 140,0 146,-6 146,-12 146,-12 146,-56 146,-56 146,-62 140,-68 134,-68\"/>\n",
       "<text text-anchor=\"start\" x=\"45\" y=\"-52.8\" font-family=\"Helvetica,sans-Serif\" font-size=\"14.00\">gini = 0.5</text>\n",
       "<text text-anchor=\"start\" x=\"24.5\" y=\"-37.8\" font-family=\"Helvetica,sans-Serif\" font-size=\"14.00\">samples = 1623</text>\n",
       "<text text-anchor=\"start\" x=\"18.5\" y=\"-22.8\" font-family=\"Helvetica,sans-Serif\" font-size=\"14.00\">value = [803, 820]</text>\n",
       "<text text-anchor=\"start\" x=\"8\" y=\"-7.8\" font-family=\"Helvetica,sans-Serif\" font-size=\"14.00\">class = No convertido</text>\n",
       "</g>\n",
       "<!-- 2&#45;&gt;3 -->\n",
       "<g id=\"edge3\" class=\"edge\">\n",
       "<title>2&#45;&gt;3</title>\n",
       "<path fill=\"none\" stroke=\"black\" d=\"M175.93,-103.73C161.24,-93.92 145.59,-83.46 131.04,-73.75\"/>\n",
       "<polygon fill=\"black\" stroke=\"black\" points=\"132.87,-70.77 122.61,-68.13 128.99,-76.59 132.87,-70.77\"/>\n",
       "</g>\n",
       "<!-- 4 -->\n",
       "<g id=\"node5\" class=\"node\">\n",
       "<title>4</title>\n",
       "<path fill=\"#65b3eb\" stroke=\"black\" d=\"M298,-68C298,-68 176,-68 176,-68 170,-68 164,-62 164,-56 164,-56 164,-12 164,-12 164,-6 170,0 176,0 176,0 298,0 298,0 304,0 310,-6 310,-12 310,-12 310,-56 310,-56 310,-62 304,-68 298,-68\"/>\n",
       "<text text-anchor=\"start\" x=\"201.5\" y=\"-52.8\" font-family=\"Helvetica,sans-Serif\" font-size=\"14.00\">gini = 0.298</text>\n",
       "<text text-anchor=\"start\" x=\"196\" y=\"-37.8\" font-family=\"Helvetica,sans-Serif\" font-size=\"14.00\">samples = 11</text>\n",
       "<text text-anchor=\"start\" x=\"197.5\" y=\"-22.8\" font-family=\"Helvetica,sans-Serif\" font-size=\"14.00\">value = [2, 9]</text>\n",
       "<text text-anchor=\"start\" x=\"172\" y=\"-7.8\" font-family=\"Helvetica,sans-Serif\" font-size=\"14.00\">class = No convertido</text>\n",
       "</g>\n",
       "<!-- 2&#45;&gt;4 -->\n",
       "<g id=\"edge4\" class=\"edge\">\n",
       "<title>2&#45;&gt;4</title>\n",
       "<path fill=\"none\" stroke=\"black\" d=\"M237,-103.73C237,-95.52 237,-86.86 237,-78.56\"/>\n",
       "<polygon fill=\"black\" stroke=\"black\" points=\"240.5,-78.3 237,-68.3 233.5,-78.3 240.5,-78.3\"/>\n",
       "</g>\n",
       "<!-- 6 -->\n",
       "<g id=\"node7\" class=\"node\">\n",
       "<title>6</title>\n",
       "<path fill=\"#e88e4d\" stroke=\"black\" d=\"M444,-68C444,-68 340,-68 340,-68 334,-68 328,-62 328,-56 328,-56 328,-12 328,-12 328,-6 334,0 340,0 340,0 444,0 444,0 450,0 456,-6 456,-12 456,-12 456,-56 456,-56 456,-62 450,-68 444,-68\"/>\n",
       "<text text-anchor=\"start\" x=\"356.5\" y=\"-52.8\" font-family=\"Helvetica,sans-Serif\" font-size=\"14.00\">gini = 0.165</text>\n",
       "<text text-anchor=\"start\" x=\"351\" y=\"-37.8\" font-family=\"Helvetica,sans-Serif\" font-size=\"14.00\">samples = 11</text>\n",
       "<text text-anchor=\"start\" x=\"349\" y=\"-22.8\" font-family=\"Helvetica,sans-Serif\" font-size=\"14.00\">value = [10, 1]</text>\n",
       "<text text-anchor=\"start\" x=\"336\" y=\"-7.8\" font-family=\"Helvetica,sans-Serif\" font-size=\"14.00\">class = Convertido</text>\n",
       "</g>\n",
       "<!-- 5&#45;&gt;6 -->\n",
       "<g id=\"edge6\" class=\"edge\">\n",
       "<title>5&#45;&gt;6</title>\n",
       "<path fill=\"none\" stroke=\"black\" d=\"M433.42,-103.73C428.15,-94.97 422.56,-85.7 417.26,-76.91\"/>\n",
       "<polygon fill=\"black\" stroke=\"black\" points=\"420.23,-75.06 412.07,-68.3 414.24,-78.67 420.23,-75.06\"/>\n",
       "</g>\n",
       "<!-- 7 -->\n",
       "<g id=\"node8\" class=\"node\">\n",
       "<title>7</title>\n",
       "<path fill=\"#fbece1\" stroke=\"black\" d=\"M590,-68C590,-68 486,-68 486,-68 480,-68 474,-62 474,-56 474,-56 474,-12 474,-12 474,-6 480,0 486,0 486,0 590,0 590,0 596,0 602,-6 602,-12 602,-12 602,-56 602,-56 602,-62 596,-68 590,-68\"/>\n",
       "<text text-anchor=\"start\" x=\"502.5\" y=\"-52.8\" font-family=\"Helvetica,sans-Serif\" font-size=\"14.00\">gini = 0.497</text>\n",
       "<text text-anchor=\"start\" x=\"493\" y=\"-37.8\" font-family=\"Helvetica,sans-Serif\" font-size=\"14.00\">samples = 536</text>\n",
       "<text text-anchor=\"start\" x=\"483.5\" y=\"-22.8\" font-family=\"Helvetica,sans-Serif\" font-size=\"14.00\">value = [290, 246]</text>\n",
       "<text text-anchor=\"start\" x=\"482\" y=\"-7.8\" font-family=\"Helvetica,sans-Serif\" font-size=\"14.00\">class = Convertido</text>\n",
       "</g>\n",
       "<!-- 5&#45;&gt;7 -->\n",
       "<g id=\"edge7\" class=\"edge\">\n",
       "<title>5&#45;&gt;7</title>\n",
       "<path fill=\"none\" stroke=\"black\" d=\"M487.79,-103.73C494.25,-94.88 501.1,-85.51 507.59,-76.63\"/>\n",
       "<polygon fill=\"black\" stroke=\"black\" points=\"510.6,-78.44 513.67,-68.3 504.95,-74.31 510.6,-78.44\"/>\n",
       "</g>\n",
       "<!-- 9 -->\n",
       "<g id=\"node10\" class=\"node\">\n",
       "<title>9</title>\n",
       "<path fill=\"#e89253\" stroke=\"black\" d=\"M832.5,-187C832.5,-187 663.5,-187 663.5,-187 657.5,-187 651.5,-181 651.5,-175 651.5,-175 651.5,-116 651.5,-116 651.5,-110 657.5,-104 663.5,-104 663.5,-104 832.5,-104 832.5,-104 838.5,-104 844.5,-110 844.5,-116 844.5,-116 844.5,-175 844.5,-175 844.5,-181 838.5,-187 832.5,-187\"/>\n",
       "<text text-anchor=\"start\" x=\"659.5\" y=\"-171.8\" font-family=\"Helvetica,sans-Serif\" font-size=\"14.00\">duración de la sesión ≤ 208.0</text>\n",
       "<text text-anchor=\"start\" x=\"712.5\" y=\"-156.8\" font-family=\"Helvetica,sans-Serif\" font-size=\"14.00\">gini = 0.208</text>\n",
       "<text text-anchor=\"start\" x=\"707\" y=\"-141.8\" font-family=\"Helvetica,sans-Serif\" font-size=\"14.00\">samples = 34</text>\n",
       "<text text-anchor=\"start\" x=\"705\" y=\"-126.8\" font-family=\"Helvetica,sans-Serif\" font-size=\"14.00\">value = [30, 4]</text>\n",
       "<text text-anchor=\"start\" x=\"692\" y=\"-111.8\" font-family=\"Helvetica,sans-Serif\" font-size=\"14.00\">class = Convertido</text>\n",
       "</g>\n",
       "<!-- 8&#45;&gt;9 -->\n",
       "<g id=\"edge9\" class=\"edge\">\n",
       "<title>8&#45;&gt;9</title>\n",
       "<path fill=\"none\" stroke=\"black\" d=\"M748,-222.91C748,-214.65 748,-205.86 748,-197.3\"/>\n",
       "<polygon fill=\"black\" stroke=\"black\" points=\"751.5,-197.02 748,-187.02 744.5,-197.02 751.5,-197.02\"/>\n",
       "</g>\n",
       "<!-- 12 -->\n",
       "<g id=\"node13\" class=\"node\">\n",
       "<title>12</title>\n",
       "<path fill=\"#6ab6ec\" stroke=\"black\" d=\"M1076,-187C1076,-187 930,-187 930,-187 924,-187 918,-181 918,-175 918,-175 918,-116 918,-116 918,-110 924,-104 930,-104 930,-104 1076,-104 1076,-104 1082,-104 1088,-110 1088,-116 1088,-116 1088,-175 1088,-175 1088,-181 1082,-187 1076,-187\"/>\n",
       "<text text-anchor=\"start\" x=\"926\" y=\"-171.8\" font-family=\"Helvetica,sans-Serif\" font-size=\"14.00\">ubicación_Ciudad A ≤ 0.5</text>\n",
       "<text text-anchor=\"start\" x=\"971\" y=\"-156.8\" font-family=\"Helvetica,sans-Serif\" font-size=\"14.00\">gini = 0.32</text>\n",
       "<text text-anchor=\"start\" x=\"965.5\" y=\"-141.8\" font-family=\"Helvetica,sans-Serif\" font-size=\"14.00\">samples = 5</text>\n",
       "<text text-anchor=\"start\" x=\"963.5\" y=\"-126.8\" font-family=\"Helvetica,sans-Serif\" font-size=\"14.00\">value = [1, 4]</text>\n",
       "<text text-anchor=\"start\" x=\"938\" y=\"-111.8\" font-family=\"Helvetica,sans-Serif\" font-size=\"14.00\">class = No convertido</text>\n",
       "</g>\n",
       "<!-- 8&#45;&gt;12 -->\n",
       "<g id=\"edge12\" class=\"edge\">\n",
       "<title>8&#45;&gt;12</title>\n",
       "<path fill=\"none\" stroke=\"black\" d=\"M825.2,-228.08C851.41,-216.05 880.99,-202.48 908.4,-189.9\"/>\n",
       "<polygon fill=\"black\" stroke=\"black\" points=\"909.98,-193.03 917.61,-185.68 907.06,-186.67 909.98,-193.03\"/>\n",
       "</g>\n",
       "<!-- 10 -->\n",
       "<g id=\"node11\" class=\"node\">\n",
       "<title>10</title>\n",
       "<path fill=\"#399de5\" stroke=\"black\" d=\"M754,-68C754,-68 632,-68 632,-68 626,-68 620,-62 620,-56 620,-56 620,-12 620,-12 620,-6 626,0 632,0 632,0 754,0 754,0 760,0 766,-6 766,-12 766,-12 766,-56 766,-56 766,-62 760,-68 754,-68\"/>\n",
       "<text text-anchor=\"start\" x=\"665\" y=\"-52.8\" font-family=\"Helvetica,sans-Serif\" font-size=\"14.00\">gini = 0.0</text>\n",
       "<text text-anchor=\"start\" x=\"655.5\" y=\"-37.8\" font-family=\"Helvetica,sans-Serif\" font-size=\"14.00\">samples = 1</text>\n",
       "<text text-anchor=\"start\" x=\"653.5\" y=\"-22.8\" font-family=\"Helvetica,sans-Serif\" font-size=\"14.00\">value = [0, 1]</text>\n",
       "<text text-anchor=\"start\" x=\"628\" y=\"-7.8\" font-family=\"Helvetica,sans-Serif\" font-size=\"14.00\">class = No convertido</text>\n",
       "</g>\n",
       "<!-- 9&#45;&gt;10 -->\n",
       "<g id=\"edge10\" class=\"edge\">\n",
       "<title>9&#45;&gt;10</title>\n",
       "<path fill=\"none\" stroke=\"black\" d=\"M727.52,-103.73C723.21,-95.15 718.66,-86.09 714.32,-77.46\"/>\n",
       "<polygon fill=\"black\" stroke=\"black\" points=\"717.34,-75.66 709.73,-68.3 711.09,-78.81 717.34,-75.66\"/>\n",
       "</g>\n",
       "<!-- 11 -->\n",
       "<g id=\"node12\" class=\"node\">\n",
       "<title>11</title>\n",
       "<path fill=\"#e88e4d\" stroke=\"black\" d=\"M900,-68C900,-68 796,-68 796,-68 790,-68 784,-62 784,-56 784,-56 784,-12 784,-12 784,-6 790,0 796,0 796,0 900,0 900,0 906,0 912,-6 912,-12 912,-12 912,-56 912,-56 912,-62 906,-68 900,-68\"/>\n",
       "<text text-anchor=\"start\" x=\"812.5\" y=\"-52.8\" font-family=\"Helvetica,sans-Serif\" font-size=\"14.00\">gini = 0.165</text>\n",
       "<text text-anchor=\"start\" x=\"807\" y=\"-37.8\" font-family=\"Helvetica,sans-Serif\" font-size=\"14.00\">samples = 33</text>\n",
       "<text text-anchor=\"start\" x=\"805\" y=\"-22.8\" font-family=\"Helvetica,sans-Serif\" font-size=\"14.00\">value = [30, 3]</text>\n",
       "<text text-anchor=\"start\" x=\"792\" y=\"-7.8\" font-family=\"Helvetica,sans-Serif\" font-size=\"14.00\">class = Convertido</text>\n",
       "</g>\n",
       "<!-- 9&#45;&gt;11 -->\n",
       "<g id=\"edge11\" class=\"edge\">\n",
       "<title>9&#45;&gt;11</title>\n",
       "<path fill=\"none\" stroke=\"black\" d=\"M785.24,-103.73C793.57,-94.61 802.4,-84.93 810.73,-75.81\"/>\n",
       "<polygon fill=\"black\" stroke=\"black\" points=\"813.43,-78.04 817.59,-68.3 808.26,-73.32 813.43,-78.04\"/>\n",
       "</g>\n",
       "<!-- 13 -->\n",
       "<g id=\"node14\" class=\"node\">\n",
       "<title>13</title>\n",
       "<path fill=\"#399de5\" stroke=\"black\" d=\"M1064,-68C1064,-68 942,-68 942,-68 936,-68 930,-62 930,-56 930,-56 930,-12 930,-12 930,-6 936,0 942,0 942,0 1064,0 1064,0 1070,0 1076,-6 1076,-12 1076,-12 1076,-56 1076,-56 1076,-62 1070,-68 1064,-68\"/>\n",
       "<text text-anchor=\"start\" x=\"975\" y=\"-52.8\" font-family=\"Helvetica,sans-Serif\" font-size=\"14.00\">gini = 0.0</text>\n",
       "<text text-anchor=\"start\" x=\"965.5\" y=\"-37.8\" font-family=\"Helvetica,sans-Serif\" font-size=\"14.00\">samples = 4</text>\n",
       "<text text-anchor=\"start\" x=\"963.5\" y=\"-22.8\" font-family=\"Helvetica,sans-Serif\" font-size=\"14.00\">value = [0, 4]</text>\n",
       "<text text-anchor=\"start\" x=\"938\" y=\"-7.8\" font-family=\"Helvetica,sans-Serif\" font-size=\"14.00\">class = No convertido</text>\n",
       "</g>\n",
       "<!-- 12&#45;&gt;13 -->\n",
       "<g id=\"edge13\" class=\"edge\">\n",
       "<title>12&#45;&gt;13</title>\n",
       "<path fill=\"none\" stroke=\"black\" d=\"M1003,-103.73C1003,-95.52 1003,-86.86 1003,-78.56\"/>\n",
       "<polygon fill=\"black\" stroke=\"black\" points=\"1006.5,-78.3 1003,-68.3 999.5,-78.3 1006.5,-78.3\"/>\n",
       "</g>\n",
       "<!-- 14 -->\n",
       "<g id=\"node15\" class=\"node\">\n",
       "<title>14</title>\n",
       "<path fill=\"#e58139\" stroke=\"black\" d=\"M1210,-68C1210,-68 1106,-68 1106,-68 1100,-68 1094,-62 1094,-56 1094,-56 1094,-12 1094,-12 1094,-6 1100,0 1106,0 1106,0 1210,0 1210,0 1216,0 1222,-6 1222,-12 1222,-12 1222,-56 1222,-56 1222,-62 1216,-68 1210,-68\"/>\n",
       "<text text-anchor=\"start\" x=\"1130\" y=\"-52.8\" font-family=\"Helvetica,sans-Serif\" font-size=\"14.00\">gini = 0.0</text>\n",
       "<text text-anchor=\"start\" x=\"1120.5\" y=\"-37.8\" font-family=\"Helvetica,sans-Serif\" font-size=\"14.00\">samples = 1</text>\n",
       "<text text-anchor=\"start\" x=\"1118.5\" y=\"-22.8\" font-family=\"Helvetica,sans-Serif\" font-size=\"14.00\">value = [1, 0]</text>\n",
       "<text text-anchor=\"start\" x=\"1102\" y=\"-7.8\" font-family=\"Helvetica,sans-Serif\" font-size=\"14.00\">class = Convertido</text>\n",
       "</g>\n",
       "<!-- 12&#45;&gt;14 -->\n",
       "<g id=\"edge14\" class=\"edge\">\n",
       "<title>12&#45;&gt;14</title>\n",
       "<path fill=\"none\" stroke=\"black\" d=\"M1060.72,-103.73C1074.4,-94.06 1088.97,-83.77 1102.55,-74.17\"/>\n",
       "<polygon fill=\"black\" stroke=\"black\" points=\"1104.72,-76.93 1110.86,-68.3 1100.68,-71.21 1104.72,-76.93\"/>\n",
       "</g>\n",
       "</g>\n",
       "</svg>\n"
      ],
      "text/plain": [
       "<graphviz.sources.Source at 0x134ba2f10>"
      ]
     },
     "execution_count": 35,
     "metadata": {},
     "output_type": "execute_result"
    }
   ],
   "source": [
    "from sklearn.tree import export_graphviz\n",
    "import graphviz\n",
    "\n",
    "dot_data = export_graphviz(decision_tree_model, out_file=None, \n",
    "                           feature_names=X_train.columns,  \n",
    "                           class_names=['Convertido', 'No convertido'],  \n",
    "                           filled=True, rounded=True,  \n",
    "                           special_characters=True)  \n",
    "\n",
    "graph = graphviz.Source(dot_data)  \n",
    "graph.render(\"arbol_decision\") \n",
    "graph "
   ]
  },
  {
   "cell_type": "markdown",
   "metadata": {},
   "source": [
    "La duración de la sesión y el número de visitas son los criterios principales para determinar si una campaña publicitaria será exitosa o no. Si la duración de la sesión es menor o igual a 333.5 y el número de visitas es menor o igual a 30.5, la campaña es menos probable de ser exitosa. Por otro lado, si la duración de la sesión es mayor que 334.5 y el número de visitas es mayor que 40.0, la campaña es más probable de ser exitosa.\n"
   ]
  },
  {
   "cell_type": "markdown",
   "metadata": {},
   "source": [
    "____"
   ]
  },
  {
   "cell_type": "markdown",
   "metadata": {},
   "source": [
    "# 2. Regresión"
   ]
  },
  {
   "cell_type": "code",
   "execution_count": 36,
   "metadata": {},
   "outputs": [
    {
     "data": {
      "text/html": [
       "<div>\n",
       "<style scoped>\n",
       "    .dataframe tbody tr th:only-of-type {\n",
       "        vertical-align: middle;\n",
       "    }\n",
       "\n",
       "    .dataframe tbody tr th {\n",
       "        vertical-align: top;\n",
       "    }\n",
       "\n",
       "    .dataframe thead th {\n",
       "        text-align: right;\n",
       "    }\n",
       "</style>\n",
       "<table border=\"1\" class=\"dataframe\">\n",
       "  <thead>\n",
       "    <tr style=\"text-align: right;\">\n",
       "      <th></th>\n",
       "      <th>Unnamed: 0</th>\n",
       "      <th>gasto_alimentacion</th>\n",
       "      <th>gasto_tecnologia</th>\n",
       "      <th>gasto_moda</th>\n",
       "      <th>frecuencia_compra</th>\n",
       "      <th>promociones_utilizadas</th>\n",
       "      <th>distancia_a_hipermercados</th>\n",
       "      <th>ingreso_cliente</th>\n",
       "    </tr>\n",
       "  </thead>\n",
       "  <tbody>\n",
       "    <tr>\n",
       "      <th>0</th>\n",
       "      <td>0</td>\n",
       "      <td>437.086107</td>\n",
       "      <td>318.442747</td>\n",
       "      <td>246.279263</td>\n",
       "      <td>7.0</td>\n",
       "      <td>6</td>\n",
       "      <td>56.235016</td>\n",
       "      <td>319.511016</td>\n",
       "    </tr>\n",
       "    <tr>\n",
       "      <th>1</th>\n",
       "      <td>1</td>\n",
       "      <td>955.642876</td>\n",
       "      <td>835.756374</td>\n",
       "      <td>235.234099</td>\n",
       "      <td>3.0</td>\n",
       "      <td>8</td>\n",
       "      <td>52.603747</td>\n",
       "      <td>430.490885</td>\n",
       "    </tr>\n",
       "    <tr>\n",
       "      <th>2</th>\n",
       "      <td>2</td>\n",
       "      <td>758.794548</td>\n",
       "      <td>1315.771462</td>\n",
       "      <td>729.690935</td>\n",
       "      <td>5.0</td>\n",
       "      <td>1</td>\n",
       "      <td>82.980012</td>\n",
       "      <td>643.483521</td>\n",
       "    </tr>\n",
       "    <tr>\n",
       "      <th>3</th>\n",
       "      <td>3</td>\n",
       "      <td>638.792636</td>\n",
       "      <td>1111.726085</td>\n",
       "      <td>237.159650</td>\n",
       "      <td>3.0</td>\n",
       "      <td>3</td>\n",
       "      <td>50.024691</td>\n",
       "      <td>322.259467</td>\n",
       "    </tr>\n",
       "    <tr>\n",
       "      <th>4</th>\n",
       "      <td>4</td>\n",
       "      <td>240.416776</td>\n",
       "      <td>1219.513664</td>\n",
       "      <td>253.962295</td>\n",
       "      <td>NaN</td>\n",
       "      <td>3</td>\n",
       "      <td>38.493164</td>\n",
       "      <td>366.779166</td>\n",
       "    </tr>\n",
       "  </tbody>\n",
       "</table>\n",
       "</div>"
      ],
      "text/plain": [
       "   Unnamed: 0  gasto_alimentacion  gasto_tecnologia  gasto_moda  \\\n",
       "0           0          437.086107        318.442747  246.279263   \n",
       "1           1          955.642876        835.756374  235.234099   \n",
       "2           2          758.794548       1315.771462  729.690935   \n",
       "3           3          638.792636       1111.726085  237.159650   \n",
       "4           4          240.416776       1219.513664  253.962295   \n",
       "\n",
       "   frecuencia_compra  promociones_utilizadas  distancia_a_hipermercados  \\\n",
       "0                7.0                       6                  56.235016   \n",
       "1                3.0                       8                  52.603747   \n",
       "2                5.0                       1                  82.980012   \n",
       "3                3.0                       3                  50.024691   \n",
       "4                NaN                       3                  38.493164   \n",
       "\n",
       "   ingreso_cliente  \n",
       "0       319.511016  \n",
       "1       430.490885  \n",
       "2       643.483521  \n",
       "3       322.259467  \n",
       "4       366.779166  "
      ]
     },
     "execution_count": 36,
     "metadata": {},
     "output_type": "execute_result"
    }
   ],
   "source": [
    "df_ingreso_para_entrenar = pd.read_csv(\"ingreso_para_entrenar.csv\")\n",
    "df_ingreso_para_entrenar.head() "
   ]
  },
  {
   "cell_type": "code",
   "execution_count": 37,
   "metadata": {},
   "outputs": [],
   "source": [
    "df_ingreso_para_entrenar.drop(columns = [\"Unnamed: 0\"], inplace = True)"
   ]
  },
  {
   "cell_type": "markdown",
   "id": "f726de04",
   "metadata": {},
   "source": [
    "### Valores faltantes"
   ]
  },
  {
   "cell_type": "code",
   "execution_count": 38,
   "metadata": {},
   "outputs": [
    {
     "data": {
      "text/plain": [
       "gasto_alimentacion            0\n",
       "gasto_tecnologia              0\n",
       "gasto_moda                   50\n",
       "frecuencia_compra            80\n",
       "promociones_utilizadas        0\n",
       "distancia_a_hipermercados     0\n",
       "ingreso_cliente               0\n",
       "dtype: int64"
      ]
     },
     "execution_count": 38,
     "metadata": {},
     "output_type": "execute_result"
    }
   ],
   "source": [
    "df_ingreso_para_entrenar.isna().sum()"
   ]
  },
  {
   "cell_type": "code",
   "execution_count": 39,
   "metadata": {},
   "outputs": [
    {
     "data": {
      "text/plain": [
       "gasto_moda\n",
       "246.279263    1\n",
       "346.348181    1\n",
       "543.015112    1\n",
       "404.211353    1\n",
       "710.117553    1\n",
       "             ..\n",
       "337.879162    1\n",
       "392.177382    1\n",
       "326.789766    1\n",
       "140.768750    1\n",
       "703.560526    1\n",
       "Name: count, Length: 950, dtype: int64"
      ]
     },
     "execution_count": 39,
     "metadata": {},
     "output_type": "execute_result"
    }
   ],
   "source": [
    "df_ingreso_para_entrenar[\"gasto_moda\"].value_counts()"
   ]
  },
  {
   "cell_type": "code",
   "execution_count": 40,
   "metadata": {},
   "outputs": [
    {
     "data": {
      "text/plain": [
       "frecuencia_compra\n",
       "0.0       5\n",
       "11.0      6\n",
       "10.0     11\n",
       "1.0      26\n",
       "9.0      29\n",
       "8.0      51\n",
       "2.0      68\n",
       "7.0      91\n",
       "3.0     134\n",
       "6.0     148\n",
       "4.0     168\n",
       "5.0     183\n",
       "Name: count, dtype: int64"
      ]
     },
     "execution_count": 40,
     "metadata": {},
     "output_type": "execute_result"
    }
   ],
   "source": [
    "df_ingreso_para_entrenar[\"frecuencia_compra\"].value_counts().sort_values(ascending=True)"
   ]
  },
  {
   "cell_type": "markdown",
   "metadata": {},
   "source": [
    "La columna la cual sus valores nulos van a ser reemplazados por 0 es 'gasto_moda'. En cambio, 'frecuencia_compra' va a ser reemplazada por la media porque no tiene sentido que un cliente no haya comprado nunca. Es decir, tener gastos, pero no haber comprado nunca??? No existe."
   ]
  },
  {
   "cell_type": "markdown",
   "id": "98a83a2a",
   "metadata": {},
   "source": [
    "### Tratamiento de valores faltantes"
   ]
  },
  {
   "cell_type": "code",
   "execution_count": 41,
   "metadata": {},
   "outputs": [],
   "source": [
    "df_ingreso_para_entrenar[\"gasto_moda\"].fillna(0, inplace=True)"
   ]
  },
  {
   "cell_type": "code",
   "execution_count": 42,
   "metadata": {},
   "outputs": [],
   "source": [
    "df_ingreso_para_entrenar[\"frecuencia_compra\"].fillna(df_ingreso_para_entrenar[\"frecuencia_compra\"].median(), inplace=True)"
   ]
  },
  {
   "cell_type": "code",
   "execution_count": 43,
   "metadata": {},
   "outputs": [
    {
     "data": {
      "text/plain": [
       "gasto_moda\n",
       "0.000000      50\n",
       "246.279263     1\n",
       "346.348181     1\n",
       "543.015112     1\n",
       "404.211353     1\n",
       "              ..\n",
       "337.879162     1\n",
       "392.177382     1\n",
       "326.789766     1\n",
       "140.768750     1\n",
       "703.560526     1\n",
       "Name: count, Length: 951, dtype: int64"
      ]
     },
     "execution_count": 43,
     "metadata": {},
     "output_type": "execute_result"
    }
   ],
   "source": [
    "df_ingreso_para_entrenar[\"gasto_moda\"].value_counts()"
   ]
  },
  {
   "cell_type": "code",
   "execution_count": 44,
   "metadata": {},
   "outputs": [
    {
     "data": {
      "text/plain": [
       "frecuencia_compra\n",
       "5.0     263\n",
       "4.0     168\n",
       "6.0     148\n",
       "3.0     134\n",
       "7.0      91\n",
       "2.0      68\n",
       "8.0      51\n",
       "9.0      29\n",
       "1.0      26\n",
       "10.0     11\n",
       "11.0      6\n",
       "0.0       5\n",
       "Name: count, dtype: int64"
      ]
     },
     "execution_count": 44,
     "metadata": {},
     "output_type": "execute_result"
    }
   ],
   "source": [
    "df_ingreso_para_entrenar[\"frecuencia_compra\"].value_counts()"
   ]
  },
  {
   "cell_type": "markdown",
   "id": "b7aa2d00",
   "metadata": {},
   "source": [
    "## Correlaciones"
   ]
  },
  {
   "cell_type": "code",
   "execution_count": 45,
   "metadata": {},
   "outputs": [
    {
     "data": {
      "text/plain": [
       "<Axes: >"
      ]
     },
     "execution_count": 45,
     "metadata": {},
     "output_type": "execute_result"
    },
    {
     "data": {
      "image/png": "[encoded data removed]",
      "text/plain": [
       "<Figure size 1000x1000 with 2 Axes>"
      ]
     },
     "metadata": {},
     "output_type": "display_data"
    }
   ],
   "source": [
    "plt.figure(figsize = (10, 10))\n",
    "\n",
    "sns.heatmap(\n",
    "    round(df_ingreso_para_entrenar.corr(numeric_only=True),2), \n",
    "    cmap = 'coolwarm', \n",
    "    annot = True, \n",
    "    annot_kws = {\"size\": 10}\n",
    ")"
   ]
  },
  {
   "cell_type": "markdown",
   "metadata": {},
   "source": [
    "##### Decido elegir las variables a continuación ya que son las que mas correlación tienen con el ingreso del cliente. Gasto_moda no tiene tanta, pero la dejo por el simple hecho de que pongo a los otros dos tipos de gastos."
   ]
  },
  {
   "cell_type": "markdown",
   "id": "097a37cd",
   "metadata": {},
   "source": [
    "##### Variable dependiente: ingreso_cliente\n",
    "##### Variables independientes: gasto_moda, frecuencia_compra, gasto_alimentacion, gasto_tecnologia"
   ]
  },
  {
   "cell_type": "code",
   "execution_count": 46,
   "metadata": {},
   "outputs": [],
   "source": [
    "X = df_ingreso_para_entrenar[[\"gasto_moda\", \"frecuencia_compra\", \"gasto_alimentacion\", \"gasto_tecnologia\"]]\n",
    "y = df_ingreso_para_entrenar['ingreso_cliente']"
   ]
  },
  {
   "cell_type": "code",
   "execution_count": 47,
   "metadata": {},
   "outputs": [],
   "source": [
    "from sklearn.model_selection import train_test_split\n",
    "from sklearn.linear_model import LinearRegression\n",
    "X_train, X_test, y_train, y_test = train_test_split(X, y, test_size=0.3, random_state=0)"
   ]
  },
  {
   "cell_type": "code",
   "execution_count": 48,
   "metadata": {},
   "outputs": [
    {
     "data": {
      "text/html": [
       "<style>#sk-container-id-1 {color: black;background-color: white;}#sk-container-id-1 pre{padding: 0;}#sk-container-id-1 div.sk-toggleable {background-color: white;}#sk-container-id-1 label.sk-toggleable__label {cursor: pointer;display: block;width: 100%;margin-bottom: 0;padding: 0.3em;box-sizing: border-box;text-align: center;}#sk-container-id-1 label.sk-toggleable__label-arrow:before {content: \"▸\";float: left;margin-right: 0.25em;color: #696969;}#sk-container-id-1 label.sk-toggleable__label-arrow:hover:before {color: black;}#sk-container-id-1 div.sk-estimator:hover label.sk-toggleable__label-arrow:before {color: black;}#sk-container-id-1 div.sk-toggleable__content {max-height: 0;max-width: 0;overflow: hidden;text-align: left;background-color: #f0f8ff;}#sk-container-id-1 div.sk-toggleable__content pre {margin: 0.2em;color: black;border-radius: 0.25em;background-color: #f0f8ff;}#sk-container-id-1 input.sk-toggleable__control:checked~div.sk-toggleable__content {max-height: 200px;max-width: 100%;overflow: auto;}#sk-container-id-1 input.sk-toggleable__control:checked~label.sk-toggleable__label-arrow:before {content: \"▾\";}#sk-container-id-1 div.sk-estimator input.sk-toggleable__control:checked~label.sk-toggleable__label {background-color: #d4ebff;}#sk-container-id-1 div.sk-label input.sk-toggleable__control:checked~label.sk-toggleable__label {background-color: #d4ebff;}#sk-container-id-1 input.sk-hidden--visually {border: 0;clip: rect(1px 1px 1px 1px);clip: rect(1px, 1px, 1px, 1px);height: 1px;margin: -1px;overflow: hidden;padding: 0;position: absolute;width: 1px;}#sk-container-id-1 div.sk-estimator {font-family: monospace;background-color: #f0f8ff;border: 1px dotted black;border-radius: 0.25em;box-sizing: border-box;margin-bottom: 0.5em;}#sk-container-id-1 div.sk-estimator:hover {background-color: #d4ebff;}#sk-container-id-1 div.sk-parallel-item::after {content: \"\";width: 100%;border-bottom: 1px solid gray;flex-grow: 1;}#sk-container-id-1 div.sk-label:hover label.sk-toggleable__label {background-color: #d4ebff;}#sk-container-id-1 div.sk-serial::before {content: \"\";position: absolute;border-left: 1px solid gray;box-sizing: border-box;top: 0;bottom: 0;left: 50%;z-index: 0;}#sk-container-id-1 div.sk-serial {display: flex;flex-direction: column;align-items: center;background-color: white;padding-right: 0.2em;padding-left: 0.2em;position: relative;}#sk-container-id-1 div.sk-item {position: relative;z-index: 1;}#sk-container-id-1 div.sk-parallel {display: flex;align-items: stretch;justify-content: center;background-color: white;position: relative;}#sk-container-id-1 div.sk-item::before, #sk-container-id-1 div.sk-parallel-item::before {content: \"\";position: absolute;border-left: 1px solid gray;box-sizing: border-box;top: 0;bottom: 0;left: 50%;z-index: -1;}#sk-container-id-1 div.sk-parallel-item {display: flex;flex-direction: column;z-index: 1;position: relative;background-color: white;}#sk-container-id-1 div.sk-parallel-item:first-child::after {align-self: flex-end;width: 50%;}#sk-container-id-1 div.sk-parallel-item:last-child::after {align-self: flex-start;width: 50%;}#sk-container-id-1 div.sk-parallel-item:only-child::after {width: 0;}#sk-container-id-1 div.sk-dashed-wrapped {border: 1px dashed gray;margin: 0 0.4em 0.5em 0.4em;box-sizing: border-box;padding-bottom: 0.4em;background-color: white;}#sk-container-id-1 div.sk-label label {font-family: monospace;font-weight: bold;display: inline-block;line-height: 1.2em;}#sk-container-id-1 div.sk-label-container {text-align: center;}#sk-container-id-1 div.sk-container {/* jupyter's `normalize.less` sets `[hidden] { display: none; }` but bootstrap.min.css set `[hidden] { display: none !important; }` so we also need the `!important` here to be able to override the default hidden behavior on the sphinx rendered scikit-learn.org. See: https://github.com/scikit-learn/scikit-learn/issues/21755 */display: inline-block !important;position: relative;}#sk-container-id-1 div.sk-text-repr-fallback {display: none;}</style><div id=\"sk-container-id-1\" class=\"sk-top-container\"><div class=\"sk-text-repr-fallback\"><pre>LinearRegression()</pre><b>In a Jupyter environment, please rerun this cell to show the HTML representation or trust the notebook. <br />On GitHub, the HTML representation is unable to render, please try loading this page with nbviewer.org.</b></div><div class=\"sk-container\" hidden><div class=\"sk-item\"><div class=\"sk-estimator sk-toggleable\"><input class=\"sk-toggleable__control sk-hidden--visually\" id=\"sk-estimator-id-1\" type=\"checkbox\" checked><label for=\"sk-estimator-id-1\" class=\"sk-toggleable__label sk-toggleable__label-arrow\">LinearRegression</label><div class=\"sk-toggleable__content\"><pre>LinearRegression()</pre></div></div></div></div></div>"
      ],
      "text/plain": [
       "LinearRegression()"
      ]
     },
     "execution_count": 48,
     "metadata": {},
     "output_type": "execute_result"
    }
   ],
   "source": [
    "regressor = LinearRegression()  \n",
    "regressor.fit(X_train, y_train)"
   ]
  },
  {
   "cell_type": "code",
   "execution_count": 49,
   "metadata": {},
   "outputs": [
    {
     "data": {
      "text/html": [
       "<div>\n",
       "<style scoped>\n",
       "    .dataframe tbody tr th:only-of-type {\n",
       "        vertical-align: middle;\n",
       "    }\n",
       "\n",
       "    .dataframe tbody tr th {\n",
       "        vertical-align: top;\n",
       "    }\n",
       "\n",
       "    .dataframe thead th {\n",
       "        text-align: right;\n",
       "    }\n",
       "</style>\n",
       "<table border=\"1\" class=\"dataframe\">\n",
       "  <thead>\n",
       "    <tr style=\"text-align: right;\">\n",
       "      <th></th>\n",
       "      <th>Coefficient</th>\n",
       "    </tr>\n",
       "  </thead>\n",
       "  <tbody>\n",
       "    <tr>\n",
       "      <th>gasto_moda</th>\n",
       "      <td>0.115265</td>\n",
       "    </tr>\n",
       "    <tr>\n",
       "      <th>frecuencia_compra</th>\n",
       "      <td>49.220987</td>\n",
       "    </tr>\n",
       "    <tr>\n",
       "      <th>gasto_alimentacion</th>\n",
       "      <td>0.306040</td>\n",
       "    </tr>\n",
       "    <tr>\n",
       "      <th>gasto_tecnologia</th>\n",
       "      <td>0.191998</td>\n",
       "    </tr>\n",
       "  </tbody>\n",
       "</table>\n",
       "</div>"
      ],
      "text/plain": [
       "                    Coefficient\n",
       "gasto_moda             0.115265\n",
       "frecuencia_compra     49.220987\n",
       "gasto_alimentacion     0.306040\n",
       "gasto_tecnologia       0.191998"
      ]
     },
     "execution_count": 49,
     "metadata": {},
     "output_type": "execute_result"
    }
   ],
   "source": [
    "coeff_df = pd.DataFrame(regressor.coef_, X.columns, columns=['Coefficient'])  \n",
    "coeff_df"
   ]
  },
  {
   "cell_type": "markdown",
   "metadata": {},
   "source": [
    "##### Observamos conclusiones\n",
    "\n",
    "Los coeficientes son números que indican cómo cambia la variable dependiente (en este caso, `ingreso_cliente`) en respuesta a cambios en las variables independientes (X). \n",
    "\n",
    "El coeficiente más grande (en valor absoluto) indicaría cual es la variable más explicativa o que más impacto tiene. En este caso es `frecuencia_compra`. Que tenga un coeficiente de 49, significa que probablemente sea una persona que tiene más ingresos, ya que compra más seguido.\n",
    "\n",
    "El coeficiemte de gasto_moda es de 0.1, lo cual indica que la variable dependiente (ingreso_cliente) no cambia mucho en respuesta a cambios en la variable independiente (gasto_moda). Por lo tanto, la variable que no considero importante para la predicción del ingreso del cliente es `gasto_moda`. Con gasto_tecnología ocurre algo similar, su coeficiente es de 0.2.\n",
    "\n",
    "El coeficiemte de gasto_alimentacion es de 0.3 (un poquito mas representativo que los otros 2 tipos de gastos, pero no tanto como frecuencia_compra).\n"
   ]
  },
  {
   "cell_type": "code",
   "execution_count": 50,
   "metadata": {},
   "outputs": [],
   "source": [
    "y_pred = regressor.predict(X_test)"
   ]
  },
  {
   "cell_type": "code",
   "execution_count": 51,
   "metadata": {},
   "outputs": [
    {
     "data": {
      "text/html": [
       "<div>\n",
       "<style scoped>\n",
       "    .dataframe tbody tr th:only-of-type {\n",
       "        vertical-align: middle;\n",
       "    }\n",
       "\n",
       "    .dataframe tbody tr th {\n",
       "        vertical-align: top;\n",
       "    }\n",
       "\n",
       "    .dataframe thead th {\n",
       "        text-align: right;\n",
       "    }\n",
       "</style>\n",
       "<table border=\"1\" class=\"dataframe\">\n",
       "  <thead>\n",
       "    <tr style=\"text-align: right;\">\n",
       "      <th></th>\n",
       "      <th>Actual</th>\n",
       "      <th>Predicted</th>\n",
       "    </tr>\n",
       "  </thead>\n",
       "  <tbody>\n",
       "    <tr>\n",
       "      <th>993</th>\n",
       "      <td>570.939669</td>\n",
       "      <td>404.550384</td>\n",
       "    </tr>\n",
       "    <tr>\n",
       "      <th>859</th>\n",
       "      <td>397.849304</td>\n",
       "      <td>375.984425</td>\n",
       "    </tr>\n",
       "    <tr>\n",
       "      <th>298</th>\n",
       "      <td>373.738068</td>\n",
       "      <td>420.483083</td>\n",
       "    </tr>\n",
       "    <tr>\n",
       "      <th>553</th>\n",
       "      <td>668.922801</td>\n",
       "      <td>741.871008</td>\n",
       "    </tr>\n",
       "    <tr>\n",
       "      <th>672</th>\n",
       "      <td>631.876828</td>\n",
       "      <td>535.480046</td>\n",
       "    </tr>\n",
       "    <tr>\n",
       "      <th>971</th>\n",
       "      <td>166.302855</td>\n",
       "      <td>664.512439</td>\n",
       "    </tr>\n",
       "    <tr>\n",
       "      <th>27</th>\n",
       "      <td>494.235282</td>\n",
       "      <td>425.546312</td>\n",
       "    </tr>\n",
       "    <tr>\n",
       "      <th>231</th>\n",
       "      <td>396.957635</td>\n",
       "      <td>367.464596</td>\n",
       "    </tr>\n",
       "    <tr>\n",
       "      <th>306</th>\n",
       "      <td>698.974318</td>\n",
       "      <td>509.376026</td>\n",
       "    </tr>\n",
       "    <tr>\n",
       "      <th>706</th>\n",
       "      <td>448.957609</td>\n",
       "      <td>438.423337</td>\n",
       "    </tr>\n",
       "  </tbody>\n",
       "</table>\n",
       "</div>"
      ],
      "text/plain": [
       "         Actual   Predicted\n",
       "993  570.939669  404.550384\n",
       "859  397.849304  375.984425\n",
       "298  373.738068  420.483083\n",
       "553  668.922801  741.871008\n",
       "672  631.876828  535.480046\n",
       "971  166.302855  664.512439\n",
       "27   494.235282  425.546312\n",
       "231  396.957635  367.464596\n",
       "306  698.974318  509.376026\n",
       "706  448.957609  438.423337"
      ]
     },
     "execution_count": 51,
     "metadata": {},
     "output_type": "execute_result"
    }
   ],
   "source": [
    "df = pd.DataFrame({'Actual': y_test, 'Predicted': y_pred})\n",
    "df1 = df.head(10)\n",
    "df1"
   ]
  },
  {
   "cell_type": "code",
   "execution_count": 52,
   "metadata": {},
   "outputs": [
    {
     "name": "stdout",
     "output_type": "stream",
     "text": [
      "MAPE: 53.90655520229903%\n"
     ]
    }
   ],
   "source": [
    "import numpy as np\n",
    "predicciones = regressor.predict(X)\n",
    "# Calculate MAPE\n",
    "mape = np.mean(np.abs((y - predicciones) / y)) * 100\n",
    "print(f\"MAPE: {mape}%\")"
   ]
  },
  {
   "cell_type": "markdown",
   "metadata": {},
   "source": [
    "Un MAPE de 53.9% significa que el modelo predice el ingreso del cliente con un error del 53.9%. Es decir, el modelo predice el ingreso del cliente con un error del 53.9%% en promedio."
   ]
  },
  {
   "cell_type": "markdown",
   "id": "db49d4fa",
   "metadata": {},
   "source": [
    "___"
   ]
  },
  {
   "cell_type": "markdown",
   "id": "17e6cbfa",
   "metadata": {},
   "source": [
    "# 3. Integrating Models and ROI in Advertising"
   ]
  },
  {
   "cell_type": "markdown",
   "id": "30e8e6f4",
   "metadata": {},
   "source": [
    "Voy a usar el modelo que ya he entrenado y voy a predecir los modelos en el dataset para predecir."
   ]
  },
  {
   "cell_type": "markdown",
   "id": "9319fcfb",
   "metadata": {},
   "source": [
    "## Ingreso para predecir"
   ]
  },
  {
   "cell_type": "markdown",
   "id": "9aff5c7d",
   "metadata": {},
   "source": [
    "Se hace el mismo tratamiento que en el dataset de entrenamiento."
   ]
  },
  {
   "cell_type": "code",
   "execution_count": 53,
   "metadata": {},
   "outputs": [
    {
     "data": {
      "text/html": [
       "<div>\n",
       "<style scoped>\n",
       "    .dataframe tbody tr th:only-of-type {\n",
       "        vertical-align: middle;\n",
       "    }\n",
       "\n",
       "    .dataframe tbody tr th {\n",
       "        vertical-align: top;\n",
       "    }\n",
       "\n",
       "    .dataframe thead th {\n",
       "        text-align: right;\n",
       "    }\n",
       "</style>\n",
       "<table border=\"1\" class=\"dataframe\">\n",
       "  <thead>\n",
       "    <tr style=\"text-align: right;\">\n",
       "      <th></th>\n",
       "      <th>Unnamed: 0.1</th>\n",
       "      <th>Unnamed: 0</th>\n",
       "      <th>gasto_alimentacion</th>\n",
       "      <th>gasto_tecnologia</th>\n",
       "      <th>gasto_moda</th>\n",
       "      <th>frecuencia_compra</th>\n",
       "      <th>promociones_utilizadas</th>\n",
       "      <th>distancia_a_hipermercados</th>\n",
       "      <th>ids</th>\n",
       "    </tr>\n",
       "  </thead>\n",
       "  <tbody>\n",
       "    <tr>\n",
       "      <th>0</th>\n",
       "      <td>0</td>\n",
       "      <td>0</td>\n",
       "      <td>593.932154</td>\n",
       "      <td>650.245619</td>\n",
       "      <td>331.095148</td>\n",
       "      <td>4.0</td>\n",
       "      <td>1</td>\n",
       "      <td>48.833718</td>\n",
       "      <td>5000</td>\n",
       "    </tr>\n",
       "    <tr>\n",
       "      <th>1</th>\n",
       "      <td>1</td>\n",
       "      <td>1</td>\n",
       "      <td>743.670430</td>\n",
       "      <td>962.946539</td>\n",
       "      <td>371.514486</td>\n",
       "      <td>5.0</td>\n",
       "      <td>5</td>\n",
       "      <td>50.615011</td>\n",
       "      <td>5001</td>\n",
       "    </tr>\n",
       "    <tr>\n",
       "      <th>2</th>\n",
       "      <td>2</td>\n",
       "      <td>2</td>\n",
       "      <td>642.487038</td>\n",
       "      <td>1178.947183</td>\n",
       "      <td>562.292464</td>\n",
       "      <td>NaN</td>\n",
       "      <td>7</td>\n",
       "      <td>61.158411</td>\n",
       "      <td>5002</td>\n",
       "    </tr>\n",
       "    <tr>\n",
       "      <th>3</th>\n",
       "      <td>3</td>\n",
       "      <td>3</td>\n",
       "      <td>590.394865</td>\n",
       "      <td>1284.758802</td>\n",
       "      <td>500.710842</td>\n",
       "      <td>6.0</td>\n",
       "      <td>5</td>\n",
       "      <td>63.335536</td>\n",
       "      <td>5003</td>\n",
       "    </tr>\n",
       "    <tr>\n",
       "      <th>4</th>\n",
       "      <td>4</td>\n",
       "      <td>4</td>\n",
       "      <td>481.289319</td>\n",
       "      <td>1233.798435</td>\n",
       "      <td>102.862235</td>\n",
       "      <td>2.0</td>\n",
       "      <td>6</td>\n",
       "      <td>56.261429</td>\n",
       "      <td>5004</td>\n",
       "    </tr>\n",
       "  </tbody>\n",
       "</table>\n",
       "</div>"
      ],
      "text/plain": [
       "   Unnamed: 0.1  Unnamed: 0  gasto_alimentacion  gasto_tecnologia  gasto_moda  \\\n",
       "0             0           0          593.932154        650.245619  331.095148   \n",
       "1             1           1          743.670430        962.946539  371.514486   \n",
       "2             2           2          642.487038       1178.947183  562.292464   \n",
       "3             3           3          590.394865       1284.758802  500.710842   \n",
       "4             4           4          481.289319       1233.798435  102.862235   \n",
       "\n",
       "   frecuencia_compra  promociones_utilizadas  distancia_a_hipermercados   ids  \n",
       "0                4.0                       1                  48.833718  5000  \n",
       "1                5.0                       5                  50.615011  5001  \n",
       "2                NaN                       7                  61.158411  5002  \n",
       "3                6.0                       5                  63.335536  5003  \n",
       "4                2.0                       6                  56.261429  5004  "
      ]
     },
     "execution_count": 53,
     "metadata": {},
     "output_type": "execute_result"
    }
   ],
   "source": [
    "df_ingreso_para_predecir = pd.read_csv(\"ingreso_para_predecir.csv\")\n",
    "df_ingreso_para_predecir.head()"
   ]
  },
  {
   "cell_type": "code",
   "execution_count": 54,
   "metadata": {},
   "outputs": [],
   "source": [
    "df_ingreso_para_predecir[\"gasto_moda\"].fillna(0, inplace=True)"
   ]
  },
  {
   "cell_type": "code",
   "execution_count": 55,
   "metadata": {},
   "outputs": [],
   "source": [
    "df_ingreso_para_predecir[\"frecuencia_compra\"].fillna(df_ingreso_para_predecir[\"frecuencia_compra\"].median(), inplace=True)"
   ]
  },
  {
   "cell_type": "code",
   "execution_count": 56,
   "metadata": {},
   "outputs": [],
   "source": [
    "df_ingreso_para_predecir.drop(columns = [\"Unnamed: 0\", \"Unnamed: 0.1\"], inplace = True)"
   ]
  },
  {
   "cell_type": "code",
   "execution_count": 57,
   "metadata": {},
   "outputs": [
    {
     "data": {
      "text/html": [
       "<div>\n",
       "<style scoped>\n",
       "    .dataframe tbody tr th:only-of-type {\n",
       "        vertical-align: middle;\n",
       "    }\n",
       "\n",
       "    .dataframe tbody tr th {\n",
       "        vertical-align: top;\n",
       "    }\n",
       "\n",
       "    .dataframe thead th {\n",
       "        text-align: right;\n",
       "    }\n",
       "</style>\n",
       "<table border=\"1\" class=\"dataframe\">\n",
       "  <thead>\n",
       "    <tr style=\"text-align: right;\">\n",
       "      <th></th>\n",
       "      <th>gasto_alimentacion</th>\n",
       "      <th>gasto_tecnologia</th>\n",
       "      <th>gasto_moda</th>\n",
       "      <th>frecuencia_compra</th>\n",
       "      <th>promociones_utilizadas</th>\n",
       "      <th>distancia_a_hipermercados</th>\n",
       "      <th>ids</th>\n",
       "      <th>ingreso_predicho</th>\n",
       "    </tr>\n",
       "  </thead>\n",
       "  <tbody>\n",
       "    <tr>\n",
       "      <th>0</th>\n",
       "      <td>593.932154</td>\n",
       "      <td>650.245619</td>\n",
       "      <td>331.095148</td>\n",
       "      <td>4.0</td>\n",
       "      <td>1</td>\n",
       "      <td>48.833718</td>\n",
       "      <td>5000</td>\n",
       "      <td>410.428044</td>\n",
       "    </tr>\n",
       "    <tr>\n",
       "      <th>1</th>\n",
       "      <td>743.670430</td>\n",
       "      <td>962.946539</td>\n",
       "      <td>371.514486</td>\n",
       "      <td>5.0</td>\n",
       "      <td>5</td>\n",
       "      <td>50.615011</td>\n",
       "      <td>5001</td>\n",
       "      <td>570.171784</td>\n",
       "    </tr>\n",
       "    <tr>\n",
       "      <th>2</th>\n",
       "      <td>642.487038</td>\n",
       "      <td>1178.947183</td>\n",
       "      <td>562.292464</td>\n",
       "      <td>5.0</td>\n",
       "      <td>7</td>\n",
       "      <td>61.158411</td>\n",
       "      <td>5002</td>\n",
       "      <td>602.667300</td>\n",
       "    </tr>\n",
       "    <tr>\n",
       "      <th>3</th>\n",
       "      <td>590.394865</td>\n",
       "      <td>1284.758802</td>\n",
       "      <td>500.710842</td>\n",
       "      <td>6.0</td>\n",
       "      <td>5</td>\n",
       "      <td>63.335536</td>\n",
       "      <td>5003</td>\n",
       "      <td>649.163377</td>\n",
       "    </tr>\n",
       "    <tr>\n",
       "      <th>4</th>\n",
       "      <td>481.289319</td>\n",
       "      <td>1233.798435</td>\n",
       "      <td>102.862235</td>\n",
       "      <td>2.0</td>\n",
       "      <td>6</td>\n",
       "      <td>56.261429</td>\n",
       "      <td>5004</td>\n",
       "      <td>363.246410</td>\n",
       "    </tr>\n",
       "  </tbody>\n",
       "</table>\n",
       "</div>"
      ],
      "text/plain": [
       "   gasto_alimentacion  gasto_tecnologia  gasto_moda  frecuencia_compra  \\\n",
       "0          593.932154        650.245619  331.095148                4.0   \n",
       "1          743.670430        962.946539  371.514486                5.0   \n",
       "2          642.487038       1178.947183  562.292464                5.0   \n",
       "3          590.394865       1284.758802  500.710842                6.0   \n",
       "4          481.289319       1233.798435  102.862235                2.0   \n",
       "\n",
       "   promociones_utilizadas  distancia_a_hipermercados   ids  ingreso_predicho  \n",
       "0                       1                  48.833718  5000        410.428044  \n",
       "1                       5                  50.615011  5001        570.171784  \n",
       "2                       7                  61.158411  5002        602.667300  \n",
       "3                       5                  63.335536  5003        649.163377  \n",
       "4                       6                  56.261429  5004        363.246410  "
      ]
     },
     "execution_count": 57,
     "metadata": {},
     "output_type": "execute_result"
    }
   ],
   "source": [
    "df_ingreso_para_predecir[\"ingreso_predicho\"] = regressor.predict(df_ingreso_para_predecir[[\"gasto_moda\", \"frecuencia_compra\", \"gasto_alimentacion\", \"gasto_tecnologia\"]])\n",
    "df_ingreso_para_predecir.head()"
   ]
  },
  {
   "cell_type": "markdown",
   "metadata": {},
   "source": [
    "## Conversión para predecir"
   ]
  },
  {
   "cell_type": "markdown",
   "id": "b8baf075",
   "metadata": {},
   "source": [
    "Se hace el mismo tratamiento que en el dataset de entrenamiento."
   ]
  },
  {
   "cell_type": "code",
   "execution_count": 58,
   "metadata": {},
   "outputs": [
    {
     "data": {
      "text/html": [
       "<div>\n",
       "<style scoped>\n",
       "    .dataframe tbody tr th:only-of-type {\n",
       "        vertical-align: middle;\n",
       "    }\n",
       "\n",
       "    .dataframe tbody tr th {\n",
       "        vertical-align: top;\n",
       "    }\n",
       "\n",
       "    .dataframe thead th {\n",
       "        text-align: right;\n",
       "    }\n",
       "</style>\n",
       "<table border=\"1\" class=\"dataframe\">\n",
       "  <thead>\n",
       "    <tr style=\"text-align: right;\">\n",
       "      <th></th>\n",
       "      <th></th>\n",
       "      <th>páginas visitadas</th>\n",
       "      <th>duración de la sesión</th>\n",
       "      <th>número de visitas</th>\n",
       "      <th>fecha de nacimiento</th>\n",
       "      <th>ubicación</th>\n",
       "      <th>dispositivo</th>\n",
       "      <th>ids</th>\n",
       "    </tr>\n",
       "  </thead>\n",
       "  <tbody>\n",
       "    <tr>\n",
       "      <th>0</th>\n",
       "      <td>0</td>\n",
       "      <td>8</td>\n",
       "      <td>3270.001480</td>\n",
       "      <td>21</td>\n",
       "      <td>1917-05-18</td>\n",
       "      <td>Marte</td>\n",
       "      <td>móvil</td>\n",
       "      <td>5000</td>\n",
       "    </tr>\n",
       "    <tr>\n",
       "      <th>1</th>\n",
       "      <td>1</td>\n",
       "      <td>11</td>\n",
       "      <td>972.813149</td>\n",
       "      <td>27</td>\n",
       "      <td>1920-11-28</td>\n",
       "      <td>Ciudad C</td>\n",
       "      <td>móvil</td>\n",
       "      <td>5001</td>\n",
       "    </tr>\n",
       "    <tr>\n",
       "      <th>2</th>\n",
       "      <td>2</td>\n",
       "      <td>9</td>\n",
       "      <td>3791.649383</td>\n",
       "      <td>31</td>\n",
       "      <td>1922-06-21</td>\n",
       "      <td>Marte</td>\n",
       "      <td>móvil</td>\n",
       "      <td>5002</td>\n",
       "    </tr>\n",
       "    <tr>\n",
       "      <th>3</th>\n",
       "      <td>3</td>\n",
       "      <td>7</td>\n",
       "      <td>1148.957241</td>\n",
       "      <td>45</td>\n",
       "      <td>1928-04-20</td>\n",
       "      <td>Ciudad C</td>\n",
       "      <td>tablet</td>\n",
       "      <td>5003</td>\n",
       "    </tr>\n",
       "    <tr>\n",
       "      <th>4</th>\n",
       "      <td>4</td>\n",
       "      <td>2</td>\n",
       "      <td>1228.190036</td>\n",
       "      <td>32</td>\n",
       "      <td>1922-02-21</td>\n",
       "      <td>Ciudad A</td>\n",
       "      <td>móvil</td>\n",
       "      <td>5004</td>\n",
       "    </tr>\n",
       "  </tbody>\n",
       "</table>\n",
       "</div>"
      ],
      "text/plain": [
       "         páginas visitadas   duración de la sesión   número de visitas   \\\n",
       "0     0                   8             3270.001480                  21   \n",
       "1     1                  11              972.813149                  27   \n",
       "2     2                   9             3791.649383                  31   \n",
       "3     3                   7             1148.957241                  45   \n",
       "4     4                   2             1228.190036                  32   \n",
       "\n",
       "   fecha de nacimiento   ubicación   dispositivo    ids  \n",
       "0  1917-05-18            Marte       móvil         5000  \n",
       "1  1920-11-28            Ciudad C    móvil         5001  \n",
       "2  1922-06-21            Marte       móvil         5002  \n",
       "3  1928-04-20            Ciudad C    tablet        5003  \n",
       "4  1922-02-21            Ciudad A    móvil         5004  "
      ]
     },
     "execution_count": 58,
     "metadata": {},
     "output_type": "execute_result"
    }
   ],
   "source": [
    "df_conversion_para_predecir= pd.read_csv(\"conversion_para_predecir.csv\")\n",
    "df_conversion_para_predecir.head()"
   ]
  },
  {
   "cell_type": "code",
   "execution_count": 59,
   "metadata": {},
   "outputs": [
    {
     "data": {
      "text/plain": [
       "Index(['    ', 'páginas visitadas ', 'duración de la sesión ',\n",
       "       'número de visitas ', 'fecha de nacimiento ', 'ubicación ',\n",
       "       'dispositivo ', 'ids'],\n",
       "      dtype='object')"
      ]
     },
     "execution_count": 59,
     "metadata": {},
     "output_type": "execute_result"
    }
   ],
   "source": [
    "df_conversion_para_predecir.columns"
   ]
  },
  {
   "cell_type": "code",
   "execution_count": 60,
   "metadata": {},
   "outputs": [],
   "source": [
    "from functions import whitespace_remover_and_columns\n",
    "df_conversion_para_decir = whitespace_remover_and_columns(df_conversion_para_predecir)"
   ]
  },
  {
   "cell_type": "code",
   "execution_count": 61,
   "id": "34826b0a",
   "metadata": {},
   "outputs": [],
   "source": [
    "df_conversion_para_predecir = df_conversion_para_predecir[df_conversion_para_predecir[\"ubicación\"] != \"Marte\"]"
   ]
  },
  {
   "cell_type": "code",
   "execution_count": 62,
   "metadata": {},
   "outputs": [],
   "source": [
    "df_conversion_para_predecir = pd.get_dummies(df_conversion_para_predecir, columns=[\"ubicación\", \"dispositivo\"])\n",
    "df_conversion_para_predecir = df_conversion_para_predecir.replace({True: 1, False: 0})"
   ]
  },
  {
   "cell_type": "code",
   "execution_count": 63,
   "metadata": {},
   "outputs": [],
   "source": [
    "df_conversion_para_predecir['duración de la sesión'] = df_conversion_para_predecir['duración de la sesión'].astype(int)"
   ]
  },
  {
   "cell_type": "code",
   "execution_count": 64,
   "id": "b7e57b64",
   "metadata": {},
   "outputs": [],
   "source": [
    "df_conversion_para_predecir[\"hoy\"]= \"2023-11-30\"\n",
    "df_conversion_para_predecir['hoy'] = pd.to_datetime(df_conversion_para_predecir['hoy'])\n",
    "df_conversion_para_predecir['fecha de nacimiento'] = pd.to_datetime(df_conversion_para_predecir['fecha de nacimiento'])\n",
    "df_conversion_para_predecir['edad'] = (df_conversion_para_predecir['hoy'] - df_conversion_para_predecir['fecha de nacimiento']).dt.days//365"
   ]
  },
  {
   "cell_type": "code",
   "execution_count": 65,
   "metadata": {},
   "outputs": [
    {
     "data": {
      "text/html": [
       "<div>\n",
       "<style scoped>\n",
       "    .dataframe tbody tr th:only-of-type {\n",
       "        vertical-align: middle;\n",
       "    }\n",
       "\n",
       "    .dataframe tbody tr th {\n",
       "        vertical-align: top;\n",
       "    }\n",
       "\n",
       "    .dataframe thead th {\n",
       "        text-align: right;\n",
       "    }\n",
       "</style>\n",
       "<table border=\"1\" class=\"dataframe\">\n",
       "  <thead>\n",
       "    <tr style=\"text-align: right;\">\n",
       "      <th></th>\n",
       "      <th></th>\n",
       "      <th>páginas visitadas</th>\n",
       "      <th>duración de la sesión</th>\n",
       "      <th>número de visitas</th>\n",
       "      <th>fecha de nacimiento</th>\n",
       "      <th>ids</th>\n",
       "      <th>ubicación_Ciudad A</th>\n",
       "      <th>ubicación_Ciudad B</th>\n",
       "      <th>ubicación_Ciudad C</th>\n",
       "      <th>dispositivo_móvil</th>\n",
       "      <th>dispositivo_ordenador</th>\n",
       "      <th>dispositivo_tablet</th>\n",
       "      <th>hoy</th>\n",
       "      <th>edad</th>\n",
       "    </tr>\n",
       "  </thead>\n",
       "  <tbody>\n",
       "    <tr>\n",
       "      <th>1</th>\n",
       "      <td>1</td>\n",
       "      <td>11</td>\n",
       "      <td>972</td>\n",
       "      <td>27</td>\n",
       "      <td>1920-11-28</td>\n",
       "      <td>5001</td>\n",
       "      <td>0</td>\n",
       "      <td>0</td>\n",
       "      <td>1</td>\n",
       "      <td>1</td>\n",
       "      <td>0</td>\n",
       "      <td>0</td>\n",
       "      <td>2023-11-30</td>\n",
       "      <td>103</td>\n",
       "    </tr>\n",
       "    <tr>\n",
       "      <th>3</th>\n",
       "      <td>3</td>\n",
       "      <td>7</td>\n",
       "      <td>1148</td>\n",
       "      <td>45</td>\n",
       "      <td>1928-04-20</td>\n",
       "      <td>5003</td>\n",
       "      <td>0</td>\n",
       "      <td>0</td>\n",
       "      <td>1</td>\n",
       "      <td>0</td>\n",
       "      <td>0</td>\n",
       "      <td>1</td>\n",
       "      <td>2023-11-30</td>\n",
       "      <td>95</td>\n",
       "    </tr>\n",
       "    <tr>\n",
       "      <th>4</th>\n",
       "      <td>4</td>\n",
       "      <td>2</td>\n",
       "      <td>1228</td>\n",
       "      <td>32</td>\n",
       "      <td>1922-02-21</td>\n",
       "      <td>5004</td>\n",
       "      <td>1</td>\n",
       "      <td>0</td>\n",
       "      <td>0</td>\n",
       "      <td>1</td>\n",
       "      <td>0</td>\n",
       "      <td>0</td>\n",
       "      <td>2023-11-30</td>\n",
       "      <td>101</td>\n",
       "    </tr>\n",
       "    <tr>\n",
       "      <th>5</th>\n",
       "      <td>5</td>\n",
       "      <td>5</td>\n",
       "      <td>3206</td>\n",
       "      <td>7</td>\n",
       "      <td>1913-02-08</td>\n",
       "      <td>5005</td>\n",
       "      <td>0</td>\n",
       "      <td>0</td>\n",
       "      <td>1</td>\n",
       "      <td>1</td>\n",
       "      <td>0</td>\n",
       "      <td>0</td>\n",
       "      <td>2023-11-30</td>\n",
       "      <td>110</td>\n",
       "    </tr>\n",
       "    <tr>\n",
       "      <th>6</th>\n",
       "      <td>6</td>\n",
       "      <td>4</td>\n",
       "      <td>1920</td>\n",
       "      <td>12</td>\n",
       "      <td>1917-06-17</td>\n",
       "      <td>5006</td>\n",
       "      <td>1</td>\n",
       "      <td>0</td>\n",
       "      <td>0</td>\n",
       "      <td>0</td>\n",
       "      <td>0</td>\n",
       "      <td>1</td>\n",
       "      <td>2023-11-30</td>\n",
       "      <td>106</td>\n",
       "    </tr>\n",
       "  </tbody>\n",
       "</table>\n",
       "</div>"
      ],
      "text/plain": [
       "      páginas visitadas  duración de la sesión  número de visitas  \\\n",
       "1  1                 11                    972                 27   \n",
       "3  3                  7                   1148                 45   \n",
       "4  4                  2                   1228                 32   \n",
       "5  5                  5                   3206                  7   \n",
       "6  6                  4                   1920                 12   \n",
       "\n",
       "  fecha de nacimiento   ids  ubicación_Ciudad A  ubicación_Ciudad B  \\\n",
       "1          1920-11-28  5001                   0                   0   \n",
       "3          1928-04-20  5003                   0                   0   \n",
       "4          1922-02-21  5004                   1                   0   \n",
       "5          1913-02-08  5005                   0                   0   \n",
       "6          1917-06-17  5006                   1                   0   \n",
       "\n",
       "   ubicación_Ciudad C  dispositivo_móvil  dispositivo_ordenador  \\\n",
       "1                   1                  1                      0   \n",
       "3                   1                  0                      0   \n",
       "4                   0                  1                      0   \n",
       "5                   1                  1                      0   \n",
       "6                   0                  0                      0   \n",
       "\n",
       "   dispositivo_tablet        hoy  edad  \n",
       "1                   0 2023-11-30   103  \n",
       "3                   1 2023-11-30    95  \n",
       "4                   0 2023-11-30   101  \n",
       "5                   0 2023-11-30   110  \n",
       "6                   1 2023-11-30   106  "
      ]
     },
     "execution_count": 65,
     "metadata": {},
     "output_type": "execute_result"
    }
   ],
   "source": [
    "df_conversion_para_predecir.head()"
   ]
  },
  {
   "cell_type": "code",
   "execution_count": 66,
   "metadata": {},
   "outputs": [
    {
     "data": {
      "text/html": [
       "<div>\n",
       "<style scoped>\n",
       "    .dataframe tbody tr th:only-of-type {\n",
       "        vertical-align: middle;\n",
       "    }\n",
       "\n",
       "    .dataframe tbody tr th {\n",
       "        vertical-align: top;\n",
       "    }\n",
       "\n",
       "    .dataframe thead th {\n",
       "        text-align: right;\n",
       "    }\n",
       "</style>\n",
       "<table border=\"1\" class=\"dataframe\">\n",
       "  <thead>\n",
       "    <tr style=\"text-align: right;\">\n",
       "      <th></th>\n",
       "      <th></th>\n",
       "      <th>páginas visitadas</th>\n",
       "      <th>duración de la sesión</th>\n",
       "      <th>número de visitas</th>\n",
       "      <th>fecha de nacimiento</th>\n",
       "      <th>ids</th>\n",
       "      <th>ubicación_Ciudad A</th>\n",
       "      <th>ubicación_Ciudad B</th>\n",
       "      <th>ubicación_Ciudad C</th>\n",
       "      <th>dispositivo_móvil</th>\n",
       "      <th>dispositivo_ordenador</th>\n",
       "      <th>dispositivo_tablet</th>\n",
       "      <th>hoy</th>\n",
       "      <th>edad</th>\n",
       "      <th>conversion_predicha</th>\n",
       "    </tr>\n",
       "  </thead>\n",
       "  <tbody>\n",
       "    <tr>\n",
       "      <th>1</th>\n",
       "      <td>1</td>\n",
       "      <td>11</td>\n",
       "      <td>972</td>\n",
       "      <td>27</td>\n",
       "      <td>1920-11-28</td>\n",
       "      <td>5001</td>\n",
       "      <td>0</td>\n",
       "      <td>0</td>\n",
       "      <td>1</td>\n",
       "      <td>1</td>\n",
       "      <td>0</td>\n",
       "      <td>0</td>\n",
       "      <td>2023-11-30</td>\n",
       "      <td>103</td>\n",
       "      <td>1</td>\n",
       "    </tr>\n",
       "    <tr>\n",
       "      <th>3</th>\n",
       "      <td>3</td>\n",
       "      <td>7</td>\n",
       "      <td>1148</td>\n",
       "      <td>45</td>\n",
       "      <td>1928-04-20</td>\n",
       "      <td>5003</td>\n",
       "      <td>0</td>\n",
       "      <td>0</td>\n",
       "      <td>1</td>\n",
       "      <td>0</td>\n",
       "      <td>0</td>\n",
       "      <td>1</td>\n",
       "      <td>2023-11-30</td>\n",
       "      <td>95</td>\n",
       "      <td>0</td>\n",
       "    </tr>\n",
       "    <tr>\n",
       "      <th>4</th>\n",
       "      <td>4</td>\n",
       "      <td>2</td>\n",
       "      <td>1228</td>\n",
       "      <td>32</td>\n",
       "      <td>1922-02-21</td>\n",
       "      <td>5004</td>\n",
       "      <td>1</td>\n",
       "      <td>0</td>\n",
       "      <td>0</td>\n",
       "      <td>1</td>\n",
       "      <td>0</td>\n",
       "      <td>0</td>\n",
       "      <td>2023-11-30</td>\n",
       "      <td>101</td>\n",
       "      <td>0</td>\n",
       "    </tr>\n",
       "    <tr>\n",
       "      <th>5</th>\n",
       "      <td>5</td>\n",
       "      <td>5</td>\n",
       "      <td>3206</td>\n",
       "      <td>7</td>\n",
       "      <td>1913-02-08</td>\n",
       "      <td>5005</td>\n",
       "      <td>0</td>\n",
       "      <td>0</td>\n",
       "      <td>1</td>\n",
       "      <td>1</td>\n",
       "      <td>0</td>\n",
       "      <td>0</td>\n",
       "      <td>2023-11-30</td>\n",
       "      <td>110</td>\n",
       "      <td>0</td>\n",
       "    </tr>\n",
       "    <tr>\n",
       "      <th>6</th>\n",
       "      <td>6</td>\n",
       "      <td>4</td>\n",
       "      <td>1920</td>\n",
       "      <td>12</td>\n",
       "      <td>1917-06-17</td>\n",
       "      <td>5006</td>\n",
       "      <td>1</td>\n",
       "      <td>0</td>\n",
       "      <td>0</td>\n",
       "      <td>0</td>\n",
       "      <td>0</td>\n",
       "      <td>1</td>\n",
       "      <td>2023-11-30</td>\n",
       "      <td>106</td>\n",
       "      <td>0</td>\n",
       "    </tr>\n",
       "  </tbody>\n",
       "</table>\n",
       "</div>"
      ],
      "text/plain": [
       "      páginas visitadas  duración de la sesión  número de visitas  \\\n",
       "1  1                 11                    972                 27   \n",
       "3  3                  7                   1148                 45   \n",
       "4  4                  2                   1228                 32   \n",
       "5  5                  5                   3206                  7   \n",
       "6  6                  4                   1920                 12   \n",
       "\n",
       "  fecha de nacimiento   ids  ubicación_Ciudad A  ubicación_Ciudad B  \\\n",
       "1          1920-11-28  5001                   0                   0   \n",
       "3          1928-04-20  5003                   0                   0   \n",
       "4          1922-02-21  5004                   1                   0   \n",
       "5          1913-02-08  5005                   0                   0   \n",
       "6          1917-06-17  5006                   1                   0   \n",
       "\n",
       "   ubicación_Ciudad C  dispositivo_móvil  dispositivo_ordenador  \\\n",
       "1                   1                  1                      0   \n",
       "3                   1                  0                      0   \n",
       "4                   0                  1                      0   \n",
       "5                   1                  1                      0   \n",
       "6                   0                  0                      0   \n",
       "\n",
       "   dispositivo_tablet        hoy  edad  conversion_predicha  \n",
       "1                   0 2023-11-30   103                    1  \n",
       "3                   1 2023-11-30    95                    0  \n",
       "4                   0 2023-11-30   101                    0  \n",
       "5                   0 2023-11-30   110                    0  \n",
       "6                   1 2023-11-30   106                    0  "
      ]
     },
     "execution_count": 66,
     "metadata": {},
     "output_type": "execute_result"
    }
   ],
   "source": [
    "df_conversion_para_predecir[\"conversion_predicha\"] = decision_tree_model.predict(df_conversion_para_predecir[[\"número de visitas\", \"páginas visitadas\", \"duración de la sesión\", \"dispositivo_móvil\", \"dispositivo_ordenador\", \"dispositivo_tablet\", \"ubicación_Ciudad A\", \"ubicación_Ciudad B\", \"ubicación_Ciudad C\", \"edad\"]])\n",
    "df_conversion_para_predecir.head()"
   ]
  },
  {
   "cell_type": "markdown",
   "id": "c1fe6573",
   "metadata": {},
   "source": [
    "Ahora voy a calcular el valor esperado del ingreso de esos clientes. Probabilidad de compra * Ingreso estimado. Cuál es el valor esperado del modelo?"
   ]
  },
  {
   "cell_type": "markdown",
   "metadata": {},
   "source": [
    "## Estimación del Valor Esperado del Cliente\n",
    "Dado un modelo de clasificación que provee una probabilidad de que cada cliente haga una compra, \n",
    "y un modelo de regresión que estima el ingreso por cliente, el valor esperado del ingreso de un cliente se puede calcular como:\n",
    "\n",
    "\\begin{equation*}\n",
    "ValorEsperado_{ingreso} = Probabilidad_{compra} \\times Ingreso_{estimado}\n",
    "\\end{equation*}\n",
    "\n",
    "Donde $Probabilidad_{compra}$ es la probabilidad de compra predicha por el modelo de clasificación y $Ingreso_{estimado}$ es el ingreso \n",
    "estimado del modelo de regresión."
   ]
  },
  {
   "cell_type": "code",
   "execution_count": 67,
   "id": "ebe94dce",
   "metadata": {},
   "outputs": [],
   "source": [
    "X = df_conversion_para_predecir[[\"número de visitas\", \"páginas visitadas\", \"duración de la sesión\", \"dispositivo_móvil\", \"dispositivo_ordenador\", \"dispositivo_tablet\", \"ubicación_Ciudad A\", \"ubicación_Ciudad B\", \"ubicación_Ciudad C\", \"edad\"]]"
   ]
  },
  {
   "cell_type": "code",
   "execution_count": 68,
   "id": "d523958a",
   "metadata": {},
   "outputs": [
    {
     "data": {
      "text/plain": [
       "array([[0.        , 1.        ],\n",
       "       [0.54104478, 0.45895522],\n",
       "       [0.90909091, 0.09090909],\n",
       "       ...,\n",
       "       [0.90909091, 0.09090909],\n",
       "       [0.        , 1.        ],\n",
       "       [0.54104478, 0.45895522]])"
      ]
     },
     "execution_count": 68,
     "metadata": {},
     "output_type": "execute_result"
    }
   ],
   "source": [
    "prediccion = decision_tree_model.predict_proba(X)\n",
    "prediccion"
   ]
  },
  {
   "cell_type": "code",
   "execution_count": 69,
   "id": "462c518a",
   "metadata": {},
   "outputs": [
    {
     "data": {
      "text/plain": [
       "702"
      ]
     },
     "execution_count": 69,
     "metadata": {},
     "output_type": "execute_result"
    }
   ],
   "source": [
    "len(prediccion)"
   ]
  },
  {
   "cell_type": "code",
   "execution_count": 70,
   "id": "2ba5313a",
   "metadata": {},
   "outputs": [],
   "source": [
    "proba_de_comprar_1 = [fila[1] for fila in prediccion]\n",
    "\n",
    "df_conversion_para_predecir['Proba_de_compra_1'] = proba_de_comprar_1"
   ]
  },
  {
   "cell_type": "code",
   "execution_count": 71,
   "id": "05b6fe21",
   "metadata": {},
   "outputs": [
    {
     "data": {
      "text/html": [
       "<div>\n",
       "<style scoped>\n",
       "    .dataframe tbody tr th:only-of-type {\n",
       "        vertical-align: middle;\n",
       "    }\n",
       "\n",
       "    .dataframe tbody tr th {\n",
       "        vertical-align: top;\n",
       "    }\n",
       "\n",
       "    .dataframe thead th {\n",
       "        text-align: right;\n",
       "    }\n",
       "</style>\n",
       "<table border=\"1\" class=\"dataframe\">\n",
       "  <thead>\n",
       "    <tr style=\"text-align: right;\">\n",
       "      <th></th>\n",
       "      <th></th>\n",
       "      <th>páginas visitadas</th>\n",
       "      <th>duración de la sesión</th>\n",
       "      <th>número de visitas</th>\n",
       "      <th>fecha de nacimiento</th>\n",
       "      <th>ids</th>\n",
       "      <th>ubicación_Ciudad A</th>\n",
       "      <th>ubicación_Ciudad B</th>\n",
       "      <th>ubicación_Ciudad C</th>\n",
       "      <th>dispositivo_móvil</th>\n",
       "      <th>dispositivo_ordenador</th>\n",
       "      <th>dispositivo_tablet</th>\n",
       "      <th>hoy</th>\n",
       "      <th>edad</th>\n",
       "      <th>conversion_predicha</th>\n",
       "      <th>Proba_de_compra_1</th>\n",
       "    </tr>\n",
       "  </thead>\n",
       "  <tbody>\n",
       "    <tr>\n",
       "      <th>1</th>\n",
       "      <td>1</td>\n",
       "      <td>11</td>\n",
       "      <td>972</td>\n",
       "      <td>27</td>\n",
       "      <td>1920-11-28</td>\n",
       "      <td>5001</td>\n",
       "      <td>0</td>\n",
       "      <td>0</td>\n",
       "      <td>1</td>\n",
       "      <td>1</td>\n",
       "      <td>0</td>\n",
       "      <td>0</td>\n",
       "      <td>2023-11-30</td>\n",
       "      <td>103</td>\n",
       "      <td>1</td>\n",
       "      <td>1.000000</td>\n",
       "    </tr>\n",
       "    <tr>\n",
       "      <th>3</th>\n",
       "      <td>3</td>\n",
       "      <td>7</td>\n",
       "      <td>1148</td>\n",
       "      <td>45</td>\n",
       "      <td>1928-04-20</td>\n",
       "      <td>5003</td>\n",
       "      <td>0</td>\n",
       "      <td>0</td>\n",
       "      <td>1</td>\n",
       "      <td>0</td>\n",
       "      <td>0</td>\n",
       "      <td>1</td>\n",
       "      <td>2023-11-30</td>\n",
       "      <td>95</td>\n",
       "      <td>0</td>\n",
       "      <td>0.458955</td>\n",
       "    </tr>\n",
       "    <tr>\n",
       "      <th>4</th>\n",
       "      <td>4</td>\n",
       "      <td>2</td>\n",
       "      <td>1228</td>\n",
       "      <td>32</td>\n",
       "      <td>1922-02-21</td>\n",
       "      <td>5004</td>\n",
       "      <td>1</td>\n",
       "      <td>0</td>\n",
       "      <td>0</td>\n",
       "      <td>1</td>\n",
       "      <td>0</td>\n",
       "      <td>0</td>\n",
       "      <td>2023-11-30</td>\n",
       "      <td>101</td>\n",
       "      <td>0</td>\n",
       "      <td>0.090909</td>\n",
       "    </tr>\n",
       "    <tr>\n",
       "      <th>5</th>\n",
       "      <td>5</td>\n",
       "      <td>5</td>\n",
       "      <td>3206</td>\n",
       "      <td>7</td>\n",
       "      <td>1913-02-08</td>\n",
       "      <td>5005</td>\n",
       "      <td>0</td>\n",
       "      <td>0</td>\n",
       "      <td>1</td>\n",
       "      <td>1</td>\n",
       "      <td>0</td>\n",
       "      <td>0</td>\n",
       "      <td>2023-11-30</td>\n",
       "      <td>110</td>\n",
       "      <td>0</td>\n",
       "      <td>0.090909</td>\n",
       "    </tr>\n",
       "    <tr>\n",
       "      <th>6</th>\n",
       "      <td>6</td>\n",
       "      <td>4</td>\n",
       "      <td>1920</td>\n",
       "      <td>12</td>\n",
       "      <td>1917-06-17</td>\n",
       "      <td>5006</td>\n",
       "      <td>1</td>\n",
       "      <td>0</td>\n",
       "      <td>0</td>\n",
       "      <td>0</td>\n",
       "      <td>0</td>\n",
       "      <td>1</td>\n",
       "      <td>2023-11-30</td>\n",
       "      <td>106</td>\n",
       "      <td>0</td>\n",
       "      <td>0.090909</td>\n",
       "    </tr>\n",
       "  </tbody>\n",
       "</table>\n",
       "</div>"
      ],
      "text/plain": [
       "      páginas visitadas  duración de la sesión  número de visitas  \\\n",
       "1  1                 11                    972                 27   \n",
       "3  3                  7                   1148                 45   \n",
       "4  4                  2                   1228                 32   \n",
       "5  5                  5                   3206                  7   \n",
       "6  6                  4                   1920                 12   \n",
       "\n",
       "  fecha de nacimiento   ids  ubicación_Ciudad A  ubicación_Ciudad B  \\\n",
       "1          1920-11-28  5001                   0                   0   \n",
       "3          1928-04-20  5003                   0                   0   \n",
       "4          1922-02-21  5004                   1                   0   \n",
       "5          1913-02-08  5005                   0                   0   \n",
       "6          1917-06-17  5006                   1                   0   \n",
       "\n",
       "   ubicación_Ciudad C  dispositivo_móvil  dispositivo_ordenador  \\\n",
       "1                   1                  1                      0   \n",
       "3                   1                  0                      0   \n",
       "4                   0                  1                      0   \n",
       "5                   1                  1                      0   \n",
       "6                   0                  0                      0   \n",
       "\n",
       "   dispositivo_tablet        hoy  edad  conversion_predicha  Proba_de_compra_1  \n",
       "1                   0 2023-11-30   103                    1           1.000000  \n",
       "3                   1 2023-11-30    95                    0           0.458955  \n",
       "4                   0 2023-11-30   101                    0           0.090909  \n",
       "5                   0 2023-11-30   110                    0           0.090909  \n",
       "6                   1 2023-11-30   106                    0           0.090909  "
      ]
     },
     "execution_count": 71,
     "metadata": {},
     "output_type": "execute_result"
    }
   ],
   "source": [
    "df_conversion_para_predecir.head()"
   ]
  },
  {
   "cell_type": "code",
   "execution_count": 72,
   "metadata": {},
   "outputs": [
    {
     "name": "stdout",
     "output_type": "stream",
     "text": [
      "El valor esperado del modelo es de: $ 109483.16463908358\n"
     ]
    }
   ],
   "source": [
    "df_merged = pd.merge(df_conversion_para_predecir, df_ingreso_para_predecir, on='ids')\n",
    "\n",
    "valor_esperado_ingreso_cliente = (df_merged['Proba_de_compra_1'] * df_merged['ingreso_predicho']).sum()\n",
    "\n",
    "print('El valor esperado del modelo es de:', \"$\", valor_esperado_ingreso_cliente)"
   ]
  },
  {
   "cell_type": "code",
   "execution_count": 73,
   "metadata": {},
   "outputs": [],
   "source": [
    "df_merged[\"valor_esperado\"] = df_merged['Proba_de_compra_1'] * df_merged['ingreso_predicho']"
   ]
  },
  {
   "cell_type": "code",
   "execution_count": 74,
   "id": "601392b0",
   "metadata": {},
   "outputs": [
    {
     "data": {
      "text/html": [
       "<div>\n",
       "<style scoped>\n",
       "    .dataframe tbody tr th:only-of-type {\n",
       "        vertical-align: middle;\n",
       "    }\n",
       "\n",
       "    .dataframe tbody tr th {\n",
       "        vertical-align: top;\n",
       "    }\n",
       "\n",
       "    .dataframe thead th {\n",
       "        text-align: right;\n",
       "    }\n",
       "</style>\n",
       "<table border=\"1\" class=\"dataframe\">\n",
       "  <thead>\n",
       "    <tr style=\"text-align: right;\">\n",
       "      <th></th>\n",
       "      <th></th>\n",
       "      <th>páginas visitadas</th>\n",
       "      <th>duración de la sesión</th>\n",
       "      <th>número de visitas</th>\n",
       "      <th>fecha de nacimiento</th>\n",
       "      <th>ids</th>\n",
       "      <th>ubicación_Ciudad A</th>\n",
       "      <th>ubicación_Ciudad B</th>\n",
       "      <th>ubicación_Ciudad C</th>\n",
       "      <th>dispositivo_móvil</th>\n",
       "      <th>...</th>\n",
       "      <th>conversion_predicha</th>\n",
       "      <th>Proba_de_compra_1</th>\n",
       "      <th>gasto_alimentacion</th>\n",
       "      <th>gasto_tecnologia</th>\n",
       "      <th>gasto_moda</th>\n",
       "      <th>frecuencia_compra</th>\n",
       "      <th>promociones_utilizadas</th>\n",
       "      <th>distancia_a_hipermercados</th>\n",
       "      <th>ingreso_predicho</th>\n",
       "      <th>valor_esperado</th>\n",
       "    </tr>\n",
       "  </thead>\n",
       "  <tbody>\n",
       "    <tr>\n",
       "      <th>0</th>\n",
       "      <td>1</td>\n",
       "      <td>11</td>\n",
       "      <td>972</td>\n",
       "      <td>27</td>\n",
       "      <td>1920-11-28</td>\n",
       "      <td>5001</td>\n",
       "      <td>0</td>\n",
       "      <td>0</td>\n",
       "      <td>1</td>\n",
       "      <td>1</td>\n",
       "      <td>...</td>\n",
       "      <td>1</td>\n",
       "      <td>1.000000</td>\n",
       "      <td>743.670430</td>\n",
       "      <td>962.946539</td>\n",
       "      <td>371.514486</td>\n",
       "      <td>5.0</td>\n",
       "      <td>5</td>\n",
       "      <td>50.615011</td>\n",
       "      <td>570.171784</td>\n",
       "      <td>570.171784</td>\n",
       "    </tr>\n",
       "    <tr>\n",
       "      <th>1</th>\n",
       "      <td>3</td>\n",
       "      <td>7</td>\n",
       "      <td>1148</td>\n",
       "      <td>45</td>\n",
       "      <td>1928-04-20</td>\n",
       "      <td>5003</td>\n",
       "      <td>0</td>\n",
       "      <td>0</td>\n",
       "      <td>1</td>\n",
       "      <td>0</td>\n",
       "      <td>...</td>\n",
       "      <td>0</td>\n",
       "      <td>0.458955</td>\n",
       "      <td>590.394865</td>\n",
       "      <td>1284.758802</td>\n",
       "      <td>500.710842</td>\n",
       "      <td>6.0</td>\n",
       "      <td>5</td>\n",
       "      <td>63.335536</td>\n",
       "      <td>649.163377</td>\n",
       "      <td>297.936923</td>\n",
       "    </tr>\n",
       "    <tr>\n",
       "      <th>2</th>\n",
       "      <td>4</td>\n",
       "      <td>2</td>\n",
       "      <td>1228</td>\n",
       "      <td>32</td>\n",
       "      <td>1922-02-21</td>\n",
       "      <td>5004</td>\n",
       "      <td>1</td>\n",
       "      <td>0</td>\n",
       "      <td>0</td>\n",
       "      <td>1</td>\n",
       "      <td>...</td>\n",
       "      <td>0</td>\n",
       "      <td>0.090909</td>\n",
       "      <td>481.289319</td>\n",
       "      <td>1233.798435</td>\n",
       "      <td>102.862235</td>\n",
       "      <td>2.0</td>\n",
       "      <td>6</td>\n",
       "      <td>56.261429</td>\n",
       "      <td>363.246410</td>\n",
       "      <td>33.022401</td>\n",
       "    </tr>\n",
       "    <tr>\n",
       "      <th>3</th>\n",
       "      <td>5</td>\n",
       "      <td>5</td>\n",
       "      <td>3206</td>\n",
       "      <td>7</td>\n",
       "      <td>1913-02-08</td>\n",
       "      <td>5005</td>\n",
       "      <td>0</td>\n",
       "      <td>0</td>\n",
       "      <td>1</td>\n",
       "      <td>1</td>\n",
       "      <td>...</td>\n",
       "      <td>0</td>\n",
       "      <td>0.090909</td>\n",
       "      <td>681.304702</td>\n",
       "      <td>290.811778</td>\n",
       "      <td>168.108394</td>\n",
       "      <td>5.0</td>\n",
       "      <td>3</td>\n",
       "      <td>56.446789</td>\n",
       "      <td>398.591342</td>\n",
       "      <td>36.235577</td>\n",
       "    </tr>\n",
       "    <tr>\n",
       "      <th>4</th>\n",
       "      <td>6</td>\n",
       "      <td>4</td>\n",
       "      <td>1920</td>\n",
       "      <td>12</td>\n",
       "      <td>1917-06-17</td>\n",
       "      <td>5006</td>\n",
       "      <td>1</td>\n",
       "      <td>0</td>\n",
       "      <td>0</td>\n",
       "      <td>0</td>\n",
       "      <td>...</td>\n",
       "      <td>0</td>\n",
       "      <td>0.090909</td>\n",
       "      <td>493.828490</td>\n",
       "      <td>1251.164851</td>\n",
       "      <td>102.916765</td>\n",
       "      <td>4.0</td>\n",
       "      <td>4</td>\n",
       "      <td>47.147467</td>\n",
       "      <td>468.866473</td>\n",
       "      <td>42.624225</td>\n",
       "    </tr>\n",
       "  </tbody>\n",
       "</table>\n",
       "<p>5 rows × 24 columns</p>\n",
       "</div>"
      ],
      "text/plain": [
       "      páginas visitadas  duración de la sesión  número de visitas  \\\n",
       "0  1                 11                    972                 27   \n",
       "1  3                  7                   1148                 45   \n",
       "2  4                  2                   1228                 32   \n",
       "3  5                  5                   3206                  7   \n",
       "4  6                  4                   1920                 12   \n",
       "\n",
       "  fecha de nacimiento   ids  ubicación_Ciudad A  ubicación_Ciudad B  \\\n",
       "0          1920-11-28  5001                   0                   0   \n",
       "1          1928-04-20  5003                   0                   0   \n",
       "2          1922-02-21  5004                   1                   0   \n",
       "3          1913-02-08  5005                   0                   0   \n",
       "4          1917-06-17  5006                   1                   0   \n",
       "\n",
       "   ubicación_Ciudad C  dispositivo_móvil  ...  conversion_predicha  \\\n",
       "0                   1                  1  ...                    1   \n",
       "1                   1                  0  ...                    0   \n",
       "2                   0                  1  ...                    0   \n",
       "3                   1                  1  ...                    0   \n",
       "4                   0                  0  ...                    0   \n",
       "\n",
       "   Proba_de_compra_1 gasto_alimentacion  gasto_tecnologia  gasto_moda  \\\n",
       "0           1.000000         743.670430        962.946539  371.514486   \n",
       "1           0.458955         590.394865       1284.758802  500.710842   \n",
       "2           0.090909         481.289319       1233.798435  102.862235   \n",
       "3           0.090909         681.304702        290.811778  168.108394   \n",
       "4           0.090909         493.828490       1251.164851  102.916765   \n",
       "\n",
       "   frecuencia_compra  promociones_utilizadas  distancia_a_hipermercados  \\\n",
       "0                5.0                       5                  50.615011   \n",
       "1                6.0                       5                  63.335536   \n",
       "2                2.0                       6                  56.261429   \n",
       "3                5.0                       3                  56.446789   \n",
       "4                4.0                       4                  47.147467   \n",
       "\n",
       "   ingreso_predicho  valor_esperado  \n",
       "0        570.171784      570.171784  \n",
       "1        649.163377      297.936923  \n",
       "2        363.246410       33.022401  \n",
       "3        398.591342       36.235577  \n",
       "4        468.866473       42.624225  \n",
       "\n",
       "[5 rows x 24 columns]"
      ]
     },
     "execution_count": 74,
     "metadata": {},
     "output_type": "execute_result"
    }
   ],
   "source": [
    "df_merged.head()"
   ]
  },
  {
   "cell_type": "markdown",
   "id": "db579069",
   "metadata": {},
   "source": [
    "Dado los resultados en el punto 1, voy a estimar en 1000 nuevos clientes cuántos esperaría que sean FP. Redondearé si es necesario y luego calcularé el costo de la publicidad desperdiciada dado ese estimado.\n"
   ]
  },
  {
   "cell_type": "markdown",
   "id": "5bfffa58",
   "metadata": {},
   "source": [
    "## Estimación de FP en 1000 clientes"
   ]
  },
  {
   "cell_type": "markdown",
   "id": "8683f37c",
   "metadata": {},
   "source": [
    "Con el dataset de conversion_para_predecir, de 556 clientes que se estimaron, 142 fueron FP."
   ]
  },
  {
   "cell_type": "markdown",
   "id": "619bbe80",
   "metadata": {},
   "source": [
    "##### Regla de 3 simple:\n",
    "\n",
    "556 (sum of confusion matrix) → 215\n",
    "\n",
    "1000 → X (FP)"
   ]
  },
  {
   "cell_type": "code",
   "execution_count": 75,
   "metadata": {},
   "outputs": [
    {
     "data": {
      "text/plain": [
       "386.6906474820144"
      ]
     },
     "execution_count": 75,
     "metadata": {},
     "output_type": "execute_result"
    }
   ],
   "source": [
    "((1000*215)/556)"
   ]
  },
  {
   "cell_type": "code",
   "execution_count": 76,
   "id": "a79259b6",
   "metadata": {},
   "outputs": [
    {
     "data": {
      "text/plain": [
       "0.6073446327683616"
      ]
     },
     "execution_count": 76,
     "metadata": {},
     "output_type": "execute_result"
    }
   ],
   "source": [
    "# FALSE POSITIVE RATE (WAY 1):\n",
    "(215/(215+139))"
   ]
  },
  {
   "cell_type": "code",
   "execution_count": 77,
   "id": "a389763a",
   "metadata": {},
   "outputs": [
    {
     "data": {
      "text/plain": [
       "0.3926553672316384"
      ]
     },
     "execution_count": 77,
     "metadata": {},
     "output_type": "execute_result"
    }
   ],
   "source": [
    "# FALSE POSITIVE RATE (WAY 2):\n",
    "1 - 0.6073446327683616"
   ]
  },
  {
   "cell_type": "markdown",
   "id": "cefcf33a",
   "metadata": {},
   "source": [
    "Se puede estimar que de 1000 nuevos clientes, 387 serían FP. (Redondeé para arriba)"
   ]
  },
  {
   "cell_type": "markdown",
   "id": "8c27b277",
   "metadata": {},
   "source": [
    "## Costo de publicidad desperdiciada dada esa estimación"
   ]
  },
  {
   "cell_type": "code",
   "execution_count": 78,
   "id": "50068879",
   "metadata": {},
   "outputs": [
    {
     "data": {
      "text/plain": [
       "conversion_predicha\n",
       "0    626\n",
       "1     76\n",
       "Name: count, dtype: int64"
      ]
     },
     "execution_count": 78,
     "metadata": {},
     "output_type": "execute_result"
    }
   ],
   "source": [
    "df_merged[\"conversion_predicha\"].value_counts()"
   ]
  },
  {
   "cell_type": "code",
   "execution_count": 79,
   "metadata": {},
   "outputs": [],
   "source": [
    "conversion_real = pd.read_csv(\"conversion_real.csv\")"
   ]
  },
  {
   "cell_type": "code",
   "execution_count": 80,
   "metadata": {},
   "outputs": [],
   "source": [
    "from functions import whitespace_remover_and_columns\n",
    "conversion_real = whitespace_remover_and_columns(conversion_real)"
   ]
  },
  {
   "cell_type": "code",
   "execution_count": 81,
   "metadata": {},
   "outputs": [
    {
     "data": {
      "text/plain": [
       "Index(['', 'convertido', 'ids'], dtype='object')"
      ]
     },
     "execution_count": 81,
     "metadata": {},
     "output_type": "execute_result"
    }
   ],
   "source": [
    "conversion_real.columns"
   ]
  },
  {
   "cell_type": "code",
   "execution_count": 82,
   "metadata": {},
   "outputs": [],
   "source": [
    "conversion_real.drop(columns = [\"\"], inplace = True)"
   ]
  },
  {
   "cell_type": "code",
   "execution_count": 83,
   "metadata": {},
   "outputs": [
    {
     "data": {
      "text/html": [
       "<div>\n",
       "<style scoped>\n",
       "    .dataframe tbody tr th:only-of-type {\n",
       "        vertical-align: middle;\n",
       "    }\n",
       "\n",
       "    .dataframe tbody tr th {\n",
       "        vertical-align: top;\n",
       "    }\n",
       "\n",
       "    .dataframe thead th {\n",
       "        text-align: right;\n",
       "    }\n",
       "</style>\n",
       "<table border=\"1\" class=\"dataframe\">\n",
       "  <thead>\n",
       "    <tr style=\"text-align: right;\">\n",
       "      <th></th>\n",
       "      <th>convertido</th>\n",
       "      <th>ids</th>\n",
       "    </tr>\n",
       "  </thead>\n",
       "  <tbody>\n",
       "    <tr>\n",
       "      <th>0</th>\n",
       "      <td>0</td>\n",
       "      <td>5000</td>\n",
       "    </tr>\n",
       "    <tr>\n",
       "      <th>1</th>\n",
       "      <td>1</td>\n",
       "      <td>5001</td>\n",
       "    </tr>\n",
       "    <tr>\n",
       "      <th>2</th>\n",
       "      <td>1</td>\n",
       "      <td>5002</td>\n",
       "    </tr>\n",
       "    <tr>\n",
       "      <th>3</th>\n",
       "      <td>0</td>\n",
       "      <td>5003</td>\n",
       "    </tr>\n",
       "    <tr>\n",
       "      <th>4</th>\n",
       "      <td>0</td>\n",
       "      <td>5004</td>\n",
       "    </tr>\n",
       "  </tbody>\n",
       "</table>\n",
       "</div>"
      ],
      "text/plain": [
       "   convertido   ids\n",
       "0           0  5000\n",
       "1           1  5001\n",
       "2           1  5002\n",
       "3           0  5003\n",
       "4           0  5004"
      ]
     },
     "execution_count": 83,
     "metadata": {},
     "output_type": "execute_result"
    }
   ],
   "source": [
    "conversion_real.replace({\"Sí\": 1, \"No\": 0}, inplace=True)\n",
    "conversion_real.head()"
   ]
  },
  {
   "cell_type": "code",
   "execution_count": 84,
   "metadata": {},
   "outputs": [
    {
     "data": {
      "text/html": [
       "<div>\n",
       "<style scoped>\n",
       "    .dataframe tbody tr th:only-of-type {\n",
       "        vertical-align: middle;\n",
       "    }\n",
       "\n",
       "    .dataframe tbody tr th {\n",
       "        vertical-align: top;\n",
       "    }\n",
       "\n",
       "    .dataframe thead th {\n",
       "        text-align: right;\n",
       "    }\n",
       "</style>\n",
       "<table border=\"1\" class=\"dataframe\">\n",
       "  <thead>\n",
       "    <tr style=\"text-align: right;\">\n",
       "      <th></th>\n",
       "      <th>conversion_predicha</th>\n",
       "      <th>convertido</th>\n",
       "      <th>ids</th>\n",
       "    </tr>\n",
       "  </thead>\n",
       "  <tbody>\n",
       "    <tr>\n",
       "      <th>0</th>\n",
       "      <td>1</td>\n",
       "      <td>1</td>\n",
       "      <td>5001</td>\n",
       "    </tr>\n",
       "    <tr>\n",
       "      <th>1</th>\n",
       "      <td>0</td>\n",
       "      <td>0</td>\n",
       "      <td>5003</td>\n",
       "    </tr>\n",
       "    <tr>\n",
       "      <th>2</th>\n",
       "      <td>0</td>\n",
       "      <td>0</td>\n",
       "      <td>5004</td>\n",
       "    </tr>\n",
       "    <tr>\n",
       "      <th>3</th>\n",
       "      <td>0</td>\n",
       "      <td>0</td>\n",
       "      <td>5005</td>\n",
       "    </tr>\n",
       "    <tr>\n",
       "      <th>4</th>\n",
       "      <td>0</td>\n",
       "      <td>0</td>\n",
       "      <td>5006</td>\n",
       "    </tr>\n",
       "  </tbody>\n",
       "</table>\n",
       "</div>"
      ],
      "text/plain": [
       "   conversion_predicha  convertido   ids\n",
       "0                    1           1  5001\n",
       "1                    0           0  5003\n",
       "2                    0           0  5004\n",
       "3                    0           0  5005\n",
       "4                    0           0  5006"
      ]
     },
     "execution_count": 84,
     "metadata": {},
     "output_type": "execute_result"
    }
   ],
   "source": [
    "conversion_real_y_predicha = pd.merge(conversion_real, df_conversion_para_predecir, on='ids')\n",
    "conversion_real_y_predicha = conversion_real_y_predicha[[\"conversion_predicha\", \"convertido\", \"ids\"]]\n",
    "conversion_real_y_predicha.head()"
   ]
  },
  {
   "cell_type": "code",
   "execution_count": 85,
   "metadata": {},
   "outputs": [
    {
     "data": {
      "text/html": [
       "<div>\n",
       "<style scoped>\n",
       "    .dataframe tbody tr th:only-of-type {\n",
       "        vertical-align: middle;\n",
       "    }\n",
       "\n",
       "    .dataframe tbody tr th {\n",
       "        vertical-align: top;\n",
       "    }\n",
       "\n",
       "    .dataframe thead th {\n",
       "        text-align: right;\n",
       "    }\n",
       "</style>\n",
       "<table border=\"1\" class=\"dataframe\">\n",
       "  <thead>\n",
       "    <tr style=\"text-align: right;\">\n",
       "      <th></th>\n",
       "      <th>conversion_predicha</th>\n",
       "      <th>convertido</th>\n",
       "      <th>ids</th>\n",
       "      <th>FP</th>\n",
       "    </tr>\n",
       "  </thead>\n",
       "  <tbody>\n",
       "    <tr>\n",
       "      <th>0</th>\n",
       "      <td>1</td>\n",
       "      <td>1</td>\n",
       "      <td>5001</td>\n",
       "      <td>False</td>\n",
       "    </tr>\n",
       "    <tr>\n",
       "      <th>1</th>\n",
       "      <td>0</td>\n",
       "      <td>0</td>\n",
       "      <td>5003</td>\n",
       "      <td>False</td>\n",
       "    </tr>\n",
       "    <tr>\n",
       "      <th>2</th>\n",
       "      <td>0</td>\n",
       "      <td>0</td>\n",
       "      <td>5004</td>\n",
       "      <td>False</td>\n",
       "    </tr>\n",
       "    <tr>\n",
       "      <th>3</th>\n",
       "      <td>0</td>\n",
       "      <td>0</td>\n",
       "      <td>5005</td>\n",
       "      <td>False</td>\n",
       "    </tr>\n",
       "    <tr>\n",
       "      <th>4</th>\n",
       "      <td>0</td>\n",
       "      <td>0</td>\n",
       "      <td>5006</td>\n",
       "      <td>False</td>\n",
       "    </tr>\n",
       "  </tbody>\n",
       "</table>\n",
       "</div>"
      ],
      "text/plain": [
       "   conversion_predicha  convertido   ids     FP\n",
       "0                    1           1  5001  False\n",
       "1                    0           0  5003  False\n",
       "2                    0           0  5004  False\n",
       "3                    0           0  5005  False\n",
       "4                    0           0  5006  False"
      ]
     },
     "execution_count": 85,
     "metadata": {},
     "output_type": "execute_result"
    }
   ],
   "source": [
    "conversion_real_y_predicha[\"FP\"] = (conversion_real_y_predicha[\"conversion_predicha\"] == 1) & (conversion_real_y_predicha[\"convertido\"] == 0)\n",
    "conversion_real_y_predicha.head()"
   ]
  },
  {
   "cell_type": "markdown",
   "metadata": {},
   "source": [
    "\n",
    "## Cálculo del Costo de Publicidad total\n",
    "El costo de publicidad total se pude estimar dado nuestro modelo de clasificación. Aunque sea en otro set de entrenamiento tenemos una estimación que podemos inferir para otra muestra. La formula es\n",
    "\n",
    "\\begin{equation*}\n",
    "CostoPublicidad_{Total} = Suma de Costo_{publicidad}\n",
    "\\end{equation*}\n",
    "\n",
    "\n",
    "\\begin{equation*}\n",
    "CostoPublicidad_{desperdiciado} = FP_{i} \\times Costo_{publicidad}\n",
    "\\end{equation*}\n",
    "\n",
    "Donde $FP_{i}$ son los clientes especificios que fueron falsos positivos y $Costo_{publicidad}$ es el costo de publicidad por cliente dado en el dataset costo.csv"
   ]
  },
  {
   "cell_type": "code",
   "execution_count": 86,
   "metadata": {},
   "outputs": [
    {
     "data": {
      "text/html": [
       "<div>\n",
       "<style scoped>\n",
       "    .dataframe tbody tr th:only-of-type {\n",
       "        vertical-align: middle;\n",
       "    }\n",
       "\n",
       "    .dataframe tbody tr th {\n",
       "        vertical-align: top;\n",
       "    }\n",
       "\n",
       "    .dataframe thead th {\n",
       "        text-align: right;\n",
       "    }\n",
       "</style>\n",
       "<table border=\"1\" class=\"dataframe\">\n",
       "  <thead>\n",
       "    <tr style=\"text-align: right;\">\n",
       "      <th></th>\n",
       "      <th></th>\n",
       "      <th>ids</th>\n",
       "      <th>costo_publicidad</th>\n",
       "    </tr>\n",
       "  </thead>\n",
       "  <tbody>\n",
       "    <tr>\n",
       "      <th>0</th>\n",
       "      <td>0</td>\n",
       "      <td>5000</td>\n",
       "      <td>209</td>\n",
       "    </tr>\n",
       "    <tr>\n",
       "      <th>1</th>\n",
       "      <td>1</td>\n",
       "      <td>5001</td>\n",
       "      <td>185</td>\n",
       "    </tr>\n",
       "    <tr>\n",
       "      <th>2</th>\n",
       "      <td>2</td>\n",
       "      <td>5002</td>\n",
       "      <td>328</td>\n",
       "    </tr>\n",
       "    <tr>\n",
       "      <th>3</th>\n",
       "      <td>3</td>\n",
       "      <td>5003</td>\n",
       "      <td>383</td>\n",
       "    </tr>\n",
       "    <tr>\n",
       "      <th>4</th>\n",
       "      <td>4</td>\n",
       "      <td>5004</td>\n",
       "      <td>281</td>\n",
       "    </tr>\n",
       "  </tbody>\n",
       "</table>\n",
       "</div>"
      ],
      "text/plain": [
       "          ids    costo_publicidad\n",
       "0      0   5000               209\n",
       "1      1   5001               185\n",
       "2      2   5002               328\n",
       "3      3   5003               383\n",
       "4      4   5004               281"
      ]
     },
     "execution_count": 86,
     "metadata": {},
     "output_type": "execute_result"
    }
   ],
   "source": [
    "costo_publicidad = pd.read_csv(\"costo_publicidad.csv\")\n",
    "costo_publicidad.head()"
   ]
  },
  {
   "cell_type": "code",
   "execution_count": 87,
   "metadata": {},
   "outputs": [
    {
     "data": {
      "text/plain": [
       "(3000, 3)"
      ]
     },
     "execution_count": 87,
     "metadata": {},
     "output_type": "execute_result"
    }
   ],
   "source": [
    "costo_publicidad.shape"
   ]
  },
  {
   "cell_type": "code",
   "execution_count": 88,
   "metadata": {},
   "outputs": [],
   "source": [
    "from functions import whitespace_remover_and_columns\n",
    "costo_publicidad = whitespace_remover_and_columns(costo_publicidad)"
   ]
  },
  {
   "cell_type": "code",
   "execution_count": 89,
   "metadata": {},
   "outputs": [
    {
     "data": {
      "text/plain": [
       "971305"
      ]
     },
     "execution_count": 89,
     "metadata": {},
     "output_type": "execute_result"
    }
   ],
   "source": [
    "total_costo_publicidad = costo_publicidad[\"costo_publicidad\"].sum()\n",
    "total_costo_publicidad"
   ]
  },
  {
   "cell_type": "code",
   "execution_count": 90,
   "metadata": {},
   "outputs": [
    {
     "data": {
      "text/plain": [
       "702"
      ]
     },
     "execution_count": 90,
     "metadata": {},
     "output_type": "execute_result"
    }
   ],
   "source": [
    "conversion_real_y_predicha[\"ids\"].nunique()"
   ]
  },
  {
   "cell_type": "code",
   "execution_count": 91,
   "metadata": {},
   "outputs": [
    {
     "data": {
      "text/html": [
       "<div>\n",
       "<style scoped>\n",
       "    .dataframe tbody tr th:only-of-type {\n",
       "        vertical-align: middle;\n",
       "    }\n",
       "\n",
       "    .dataframe tbody tr th {\n",
       "        vertical-align: top;\n",
       "    }\n",
       "\n",
       "    .dataframe thead th {\n",
       "        text-align: right;\n",
       "    }\n",
       "</style>\n",
       "<table border=\"1\" class=\"dataframe\">\n",
       "  <thead>\n",
       "    <tr style=\"text-align: right;\">\n",
       "      <th></th>\n",
       "      <th></th>\n",
       "      <th>ids</th>\n",
       "      <th>costo_publicidad</th>\n",
       "      <th>conversion_predicha</th>\n",
       "      <th>convertido</th>\n",
       "      <th>FP</th>\n",
       "    </tr>\n",
       "  </thead>\n",
       "  <tbody>\n",
       "    <tr>\n",
       "      <th>0</th>\n",
       "      <td>1</td>\n",
       "      <td>5001</td>\n",
       "      <td>185</td>\n",
       "      <td>1</td>\n",
       "      <td>1</td>\n",
       "      <td>False</td>\n",
       "    </tr>\n",
       "    <tr>\n",
       "      <th>1</th>\n",
       "      <td>3</td>\n",
       "      <td>5003</td>\n",
       "      <td>383</td>\n",
       "      <td>0</td>\n",
       "      <td>0</td>\n",
       "      <td>False</td>\n",
       "    </tr>\n",
       "    <tr>\n",
       "      <th>2</th>\n",
       "      <td>4</td>\n",
       "      <td>5004</td>\n",
       "      <td>281</td>\n",
       "      <td>0</td>\n",
       "      <td>0</td>\n",
       "      <td>False</td>\n",
       "    </tr>\n",
       "    <tr>\n",
       "      <th>3</th>\n",
       "      <td>5</td>\n",
       "      <td>5005</td>\n",
       "      <td>311</td>\n",
       "      <td>0</td>\n",
       "      <td>0</td>\n",
       "      <td>False</td>\n",
       "    </tr>\n",
       "    <tr>\n",
       "      <th>4</th>\n",
       "      <td>6</td>\n",
       "      <td>5006</td>\n",
       "      <td>291</td>\n",
       "      <td>0</td>\n",
       "      <td>0</td>\n",
       "      <td>False</td>\n",
       "    </tr>\n",
       "  </tbody>\n",
       "</table>\n",
       "</div>"
      ],
      "text/plain": [
       "       ids  costo_publicidad  conversion_predicha  convertido     FP\n",
       "0  1  5001               185                    1           1  False\n",
       "1  3  5003               383                    0           0  False\n",
       "2  4  5004               281                    0           0  False\n",
       "3  5  5005               311                    0           0  False\n",
       "4  6  5006               291                    0           0  False"
      ]
     },
     "execution_count": 91,
     "metadata": {},
     "output_type": "execute_result"
    }
   ],
   "source": [
    "conversion_real_y_predicha_y_costo_publicidad = pd.merge(costo_publicidad, conversion_real_y_predicha, on=\"ids\")\n",
    "conversion_real_y_predicha_y_costo_publicidad.head()"
   ]
  },
  {
   "cell_type": "code",
   "execution_count": 92,
   "metadata": {},
   "outputs": [
    {
     "data": {
      "text/html": [
       "<div>\n",
       "<style scoped>\n",
       "    .dataframe tbody tr th:only-of-type {\n",
       "        vertical-align: middle;\n",
       "    }\n",
       "\n",
       "    .dataframe tbody tr th {\n",
       "        vertical-align: top;\n",
       "    }\n",
       "\n",
       "    .dataframe thead th {\n",
       "        text-align: right;\n",
       "    }\n",
       "</style>\n",
       "<table border=\"1\" class=\"dataframe\">\n",
       "  <thead>\n",
       "    <tr style=\"text-align: right;\">\n",
       "      <th></th>\n",
       "      <th></th>\n",
       "      <th>ids</th>\n",
       "      <th>costo_publicidad</th>\n",
       "      <th>conversion_predicha</th>\n",
       "      <th>convertido</th>\n",
       "      <th>FP</th>\n",
       "    </tr>\n",
       "  </thead>\n",
       "  <tbody>\n",
       "    <tr>\n",
       "      <th>14</th>\n",
       "      <td>19</td>\n",
       "      <td>5019</td>\n",
       "      <td>245</td>\n",
       "      <td>1</td>\n",
       "      <td>0</td>\n",
       "      <td>True</td>\n",
       "    </tr>\n",
       "    <tr>\n",
       "      <th>18</th>\n",
       "      <td>23</td>\n",
       "      <td>5023</td>\n",
       "      <td>444</td>\n",
       "      <td>1</td>\n",
       "      <td>0</td>\n",
       "      <td>True</td>\n",
       "    </tr>\n",
       "    <tr>\n",
       "      <th>21</th>\n",
       "      <td>26</td>\n",
       "      <td>5026</td>\n",
       "      <td>211</td>\n",
       "      <td>1</td>\n",
       "      <td>0</td>\n",
       "      <td>True</td>\n",
       "    </tr>\n",
       "    <tr>\n",
       "      <th>35</th>\n",
       "      <td>44</td>\n",
       "      <td>5044</td>\n",
       "      <td>215</td>\n",
       "      <td>1</td>\n",
       "      <td>0</td>\n",
       "      <td>True</td>\n",
       "    </tr>\n",
       "    <tr>\n",
       "      <th>53</th>\n",
       "      <td>68</td>\n",
       "      <td>5068</td>\n",
       "      <td>398</td>\n",
       "      <td>1</td>\n",
       "      <td>0</td>\n",
       "      <td>True</td>\n",
       "    </tr>\n",
       "  </tbody>\n",
       "</table>\n",
       "</div>"
      ],
      "text/plain": [
       "         ids  costo_publicidad  conversion_predicha  convertido    FP\n",
       "14  19  5019               245                    1           0  True\n",
       "18  23  5023               444                    1           0  True\n",
       "21  26  5026               211                    1           0  True\n",
       "35  44  5044               215                    1           0  True\n",
       "53  68  5068               398                    1           0  True"
      ]
     },
     "execution_count": 92,
     "metadata": {},
     "output_type": "execute_result"
    }
   ],
   "source": [
    "falsos_positivos = conversion_real_y_predicha_y_costo_publicidad[conversion_real_y_predicha_y_costo_publicidad[\"FP\"] == True]\n",
    "falsos_positivos.head()"
   ]
  },
  {
   "cell_type": "code",
   "execution_count": 93,
   "metadata": {},
   "outputs": [
    {
     "name": "stdout",
     "output_type": "stream",
     "text": [
      "El costo de publicidad desperdiciado es de: $ 10884\n"
     ]
    }
   ],
   "source": [
    "costo_desperdiciado = falsos_positivos[\"costo_publicidad\"].sum()\n",
    "print(\"El costo de publicidad desperdiciado es de:\", \"$\" , costo_desperdiciado)"
   ]
  },
  {
   "cell_type": "markdown",
   "id": "60b6f0db",
   "metadata": {},
   "source": [
    "Supongamos que después de estas estimaciones, estamos 1 mes después y ahora sabemos qué clientes convirtieron dataset conversion_real.csv.\n",
    "\n",
    "Ahora voy a calcular el ROI cliente por cliente."
   ]
  },
  {
   "cell_type": "code",
   "execution_count": 94,
   "metadata": {},
   "outputs": [
    {
     "data": {
      "text/html": [
       "<div>\n",
       "<style scoped>\n",
       "    .dataframe tbody tr th:only-of-type {\n",
       "        vertical-align: middle;\n",
       "    }\n",
       "\n",
       "    .dataframe tbody tr th {\n",
       "        vertical-align: top;\n",
       "    }\n",
       "\n",
       "    .dataframe thead th {\n",
       "        text-align: right;\n",
       "    }\n",
       "</style>\n",
       "<table border=\"1\" class=\"dataframe\">\n",
       "  <thead>\n",
       "    <tr style=\"text-align: right;\">\n",
       "      <th></th>\n",
       "      <th>convertido</th>\n",
       "      <th>ids</th>\n",
       "    </tr>\n",
       "  </thead>\n",
       "  <tbody>\n",
       "    <tr>\n",
       "      <th>0</th>\n",
       "      <td>0</td>\n",
       "      <td>5000</td>\n",
       "    </tr>\n",
       "    <tr>\n",
       "      <th>1</th>\n",
       "      <td>1</td>\n",
       "      <td>5001</td>\n",
       "    </tr>\n",
       "    <tr>\n",
       "      <th>2</th>\n",
       "      <td>1</td>\n",
       "      <td>5002</td>\n",
       "    </tr>\n",
       "    <tr>\n",
       "      <th>3</th>\n",
       "      <td>0</td>\n",
       "      <td>5003</td>\n",
       "    </tr>\n",
       "    <tr>\n",
       "      <th>4</th>\n",
       "      <td>0</td>\n",
       "      <td>5004</td>\n",
       "    </tr>\n",
       "    <tr>\n",
       "      <th>...</th>\n",
       "      <td>...</td>\n",
       "      <td>...</td>\n",
       "    </tr>\n",
       "    <tr>\n",
       "      <th>995</th>\n",
       "      <td>1</td>\n",
       "      <td>5995</td>\n",
       "    </tr>\n",
       "    <tr>\n",
       "      <th>996</th>\n",
       "      <td>0</td>\n",
       "      <td>5996</td>\n",
       "    </tr>\n",
       "    <tr>\n",
       "      <th>997</th>\n",
       "      <td>0</td>\n",
       "      <td>5997</td>\n",
       "    </tr>\n",
       "    <tr>\n",
       "      <th>998</th>\n",
       "      <td>1</td>\n",
       "      <td>5998</td>\n",
       "    </tr>\n",
       "    <tr>\n",
       "      <th>999</th>\n",
       "      <td>0</td>\n",
       "      <td>5999</td>\n",
       "    </tr>\n",
       "  </tbody>\n",
       "</table>\n",
       "<p>1000 rows × 2 columns</p>\n",
       "</div>"
      ],
      "text/plain": [
       "     convertido   ids\n",
       "0             0  5000\n",
       "1             1  5001\n",
       "2             1  5002\n",
       "3             0  5003\n",
       "4             0  5004\n",
       "..          ...   ...\n",
       "995           1  5995\n",
       "996           0  5996\n",
       "997           0  5997\n",
       "998           1  5998\n",
       "999           0  5999\n",
       "\n",
       "[1000 rows x 2 columns]"
      ]
     },
     "execution_count": 94,
     "metadata": {},
     "output_type": "execute_result"
    }
   ],
   "source": [
    "conversion_real"
   ]
  },
  {
   "cell_type": "code",
   "execution_count": 95,
   "metadata": {},
   "outputs": [
    {
     "data": {
      "text/html": [
       "<div>\n",
       "<style scoped>\n",
       "    .dataframe tbody tr th:only-of-type {\n",
       "        vertical-align: middle;\n",
       "    }\n",
       "\n",
       "    .dataframe tbody tr th {\n",
       "        vertical-align: top;\n",
       "    }\n",
       "\n",
       "    .dataframe thead th {\n",
       "        text-align: right;\n",
       "    }\n",
       "</style>\n",
       "<table border=\"1\" class=\"dataframe\">\n",
       "  <thead>\n",
       "    <tr style=\"text-align: right;\">\n",
       "      <th></th>\n",
       "      <th></th>\n",
       "      <th>ids</th>\n",
       "      <th>costo_publicidad</th>\n",
       "      <th>conversion_predicha</th>\n",
       "      <th>convertido</th>\n",
       "      <th>FP</th>\n",
       "      <th>TP</th>\n",
       "    </tr>\n",
       "  </thead>\n",
       "  <tbody>\n",
       "    <tr>\n",
       "      <th>0</th>\n",
       "      <td>1</td>\n",
       "      <td>5001</td>\n",
       "      <td>185</td>\n",
       "      <td>1</td>\n",
       "      <td>1</td>\n",
       "      <td>False</td>\n",
       "      <td>True</td>\n",
       "    </tr>\n",
       "    <tr>\n",
       "      <th>1</th>\n",
       "      <td>3</td>\n",
       "      <td>5003</td>\n",
       "      <td>383</td>\n",
       "      <td>0</td>\n",
       "      <td>0</td>\n",
       "      <td>False</td>\n",
       "      <td>False</td>\n",
       "    </tr>\n",
       "    <tr>\n",
       "      <th>2</th>\n",
       "      <td>4</td>\n",
       "      <td>5004</td>\n",
       "      <td>281</td>\n",
       "      <td>0</td>\n",
       "      <td>0</td>\n",
       "      <td>False</td>\n",
       "      <td>False</td>\n",
       "    </tr>\n",
       "    <tr>\n",
       "      <th>3</th>\n",
       "      <td>5</td>\n",
       "      <td>5005</td>\n",
       "      <td>311</td>\n",
       "      <td>0</td>\n",
       "      <td>0</td>\n",
       "      <td>False</td>\n",
       "      <td>False</td>\n",
       "    </tr>\n",
       "    <tr>\n",
       "      <th>4</th>\n",
       "      <td>6</td>\n",
       "      <td>5006</td>\n",
       "      <td>291</td>\n",
       "      <td>0</td>\n",
       "      <td>0</td>\n",
       "      <td>False</td>\n",
       "      <td>False</td>\n",
       "    </tr>\n",
       "  </tbody>\n",
       "</table>\n",
       "</div>"
      ],
      "text/plain": [
       "       ids  costo_publicidad  conversion_predicha  convertido     FP     TP\n",
       "0  1  5001               185                    1           1  False   True\n",
       "1  3  5003               383                    0           0  False  False\n",
       "2  4  5004               281                    0           0  False  False\n",
       "3  5  5005               311                    0           0  False  False\n",
       "4  6  5006               291                    0           0  False  False"
      ]
     },
     "execution_count": 95,
     "metadata": {},
     "output_type": "execute_result"
    }
   ],
   "source": [
    "conversion_real_y_predicha_y_costo_publicidad[\"TP\"] = (conversion_real_y_predicha[\"conversion_predicha\"] == 1) & (conversion_real_y_predicha[\"convertido\"] == 1)\n",
    "conversion_real_y_predicha_y_costo_publicidad.head()"
   ]
  },
  {
   "cell_type": "code",
   "execution_count": 96,
   "metadata": {},
   "outputs": [
    {
     "data": {
      "text/html": [
       "<div>\n",
       "<style scoped>\n",
       "    .dataframe tbody tr th:only-of-type {\n",
       "        vertical-align: middle;\n",
       "    }\n",
       "\n",
       "    .dataframe tbody tr th {\n",
       "        vertical-align: top;\n",
       "    }\n",
       "\n",
       "    .dataframe thead th {\n",
       "        text-align: right;\n",
       "    }\n",
       "</style>\n",
       "<table border=\"1\" class=\"dataframe\">\n",
       "  <thead>\n",
       "    <tr style=\"text-align: right;\">\n",
       "      <th></th>\n",
       "      <th></th>\n",
       "      <th>páginas visitadas</th>\n",
       "      <th>duración de la sesión</th>\n",
       "      <th>número de visitas</th>\n",
       "      <th>fecha de nacimiento</th>\n",
       "      <th>ids</th>\n",
       "      <th>ubicación_Ciudad A</th>\n",
       "      <th>ubicación_Ciudad B</th>\n",
       "      <th>ubicación_Ciudad C</th>\n",
       "      <th>dispositivo_móvil</th>\n",
       "      <th>...</th>\n",
       "      <th>conversion_predicha</th>\n",
       "      <th>Proba_de_compra_1</th>\n",
       "      <th>gasto_alimentacion</th>\n",
       "      <th>gasto_tecnologia</th>\n",
       "      <th>gasto_moda</th>\n",
       "      <th>frecuencia_compra</th>\n",
       "      <th>promociones_utilizadas</th>\n",
       "      <th>distancia_a_hipermercados</th>\n",
       "      <th>ingreso_predicho</th>\n",
       "      <th>valor_esperado</th>\n",
       "    </tr>\n",
       "  </thead>\n",
       "  <tbody>\n",
       "    <tr>\n",
       "      <th>0</th>\n",
       "      <td>1</td>\n",
       "      <td>11</td>\n",
       "      <td>972</td>\n",
       "      <td>27</td>\n",
       "      <td>1920-11-28</td>\n",
       "      <td>5001</td>\n",
       "      <td>0</td>\n",
       "      <td>0</td>\n",
       "      <td>1</td>\n",
       "      <td>1</td>\n",
       "      <td>...</td>\n",
       "      <td>1</td>\n",
       "      <td>1.000000</td>\n",
       "      <td>743.670430</td>\n",
       "      <td>962.946539</td>\n",
       "      <td>371.514486</td>\n",
       "      <td>5.0</td>\n",
       "      <td>5</td>\n",
       "      <td>50.615011</td>\n",
       "      <td>570.171784</td>\n",
       "      <td>570.171784</td>\n",
       "    </tr>\n",
       "    <tr>\n",
       "      <th>1</th>\n",
       "      <td>3</td>\n",
       "      <td>7</td>\n",
       "      <td>1148</td>\n",
       "      <td>45</td>\n",
       "      <td>1928-04-20</td>\n",
       "      <td>5003</td>\n",
       "      <td>0</td>\n",
       "      <td>0</td>\n",
       "      <td>1</td>\n",
       "      <td>0</td>\n",
       "      <td>...</td>\n",
       "      <td>0</td>\n",
       "      <td>0.458955</td>\n",
       "      <td>590.394865</td>\n",
       "      <td>1284.758802</td>\n",
       "      <td>500.710842</td>\n",
       "      <td>6.0</td>\n",
       "      <td>5</td>\n",
       "      <td>63.335536</td>\n",
       "      <td>649.163377</td>\n",
       "      <td>297.936923</td>\n",
       "    </tr>\n",
       "    <tr>\n",
       "      <th>2</th>\n",
       "      <td>4</td>\n",
       "      <td>2</td>\n",
       "      <td>1228</td>\n",
       "      <td>32</td>\n",
       "      <td>1922-02-21</td>\n",
       "      <td>5004</td>\n",
       "      <td>1</td>\n",
       "      <td>0</td>\n",
       "      <td>0</td>\n",
       "      <td>1</td>\n",
       "      <td>...</td>\n",
       "      <td>0</td>\n",
       "      <td>0.090909</td>\n",
       "      <td>481.289319</td>\n",
       "      <td>1233.798435</td>\n",
       "      <td>102.862235</td>\n",
       "      <td>2.0</td>\n",
       "      <td>6</td>\n",
       "      <td>56.261429</td>\n",
       "      <td>363.246410</td>\n",
       "      <td>33.022401</td>\n",
       "    </tr>\n",
       "    <tr>\n",
       "      <th>3</th>\n",
       "      <td>5</td>\n",
       "      <td>5</td>\n",
       "      <td>3206</td>\n",
       "      <td>7</td>\n",
       "      <td>1913-02-08</td>\n",
       "      <td>5005</td>\n",
       "      <td>0</td>\n",
       "      <td>0</td>\n",
       "      <td>1</td>\n",
       "      <td>1</td>\n",
       "      <td>...</td>\n",
       "      <td>0</td>\n",
       "      <td>0.090909</td>\n",
       "      <td>681.304702</td>\n",
       "      <td>290.811778</td>\n",
       "      <td>168.108394</td>\n",
       "      <td>5.0</td>\n",
       "      <td>3</td>\n",
       "      <td>56.446789</td>\n",
       "      <td>398.591342</td>\n",
       "      <td>36.235577</td>\n",
       "    </tr>\n",
       "    <tr>\n",
       "      <th>4</th>\n",
       "      <td>6</td>\n",
       "      <td>4</td>\n",
       "      <td>1920</td>\n",
       "      <td>12</td>\n",
       "      <td>1917-06-17</td>\n",
       "      <td>5006</td>\n",
       "      <td>1</td>\n",
       "      <td>0</td>\n",
       "      <td>0</td>\n",
       "      <td>0</td>\n",
       "      <td>...</td>\n",
       "      <td>0</td>\n",
       "      <td>0.090909</td>\n",
       "      <td>493.828490</td>\n",
       "      <td>1251.164851</td>\n",
       "      <td>102.916765</td>\n",
       "      <td>4.0</td>\n",
       "      <td>4</td>\n",
       "      <td>47.147467</td>\n",
       "      <td>468.866473</td>\n",
       "      <td>42.624225</td>\n",
       "    </tr>\n",
       "  </tbody>\n",
       "</table>\n",
       "<p>5 rows × 24 columns</p>\n",
       "</div>"
      ],
      "text/plain": [
       "      páginas visitadas  duración de la sesión  número de visitas  \\\n",
       "0  1                 11                    972                 27   \n",
       "1  3                  7                   1148                 45   \n",
       "2  4                  2                   1228                 32   \n",
       "3  5                  5                   3206                  7   \n",
       "4  6                  4                   1920                 12   \n",
       "\n",
       "  fecha de nacimiento   ids  ubicación_Ciudad A  ubicación_Ciudad B  \\\n",
       "0          1920-11-28  5001                   0                   0   \n",
       "1          1928-04-20  5003                   0                   0   \n",
       "2          1922-02-21  5004                   1                   0   \n",
       "3          1913-02-08  5005                   0                   0   \n",
       "4          1917-06-17  5006                   1                   0   \n",
       "\n",
       "   ubicación_Ciudad C  dispositivo_móvil  ...  conversion_predicha  \\\n",
       "0                   1                  1  ...                    1   \n",
       "1                   1                  0  ...                    0   \n",
       "2                   0                  1  ...                    0   \n",
       "3                   1                  1  ...                    0   \n",
       "4                   0                  0  ...                    0   \n",
       "\n",
       "   Proba_de_compra_1 gasto_alimentacion  gasto_tecnologia  gasto_moda  \\\n",
       "0           1.000000         743.670430        962.946539  371.514486   \n",
       "1           0.458955         590.394865       1284.758802  500.710842   \n",
       "2           0.090909         481.289319       1233.798435  102.862235   \n",
       "3           0.090909         681.304702        290.811778  168.108394   \n",
       "4           0.090909         493.828490       1251.164851  102.916765   \n",
       "\n",
       "   frecuencia_compra  promociones_utilizadas  distancia_a_hipermercados  \\\n",
       "0                5.0                       5                  50.615011   \n",
       "1                6.0                       5                  63.335536   \n",
       "2                2.0                       6                  56.261429   \n",
       "3                5.0                       3                  56.446789   \n",
       "4                4.0                       4                  47.147467   \n",
       "\n",
       "   ingreso_predicho  valor_esperado  \n",
       "0        570.171784      570.171784  \n",
       "1        649.163377      297.936923  \n",
       "2        363.246410       33.022401  \n",
       "3        398.591342       36.235577  \n",
       "4        468.866473       42.624225  \n",
       "\n",
       "[5 rows x 24 columns]"
      ]
     },
     "execution_count": 96,
     "metadata": {},
     "output_type": "execute_result"
    }
   ],
   "source": [
    "df_merged.head()"
   ]
  },
  {
   "cell_type": "markdown",
   "metadata": {},
   "source": [
    "## Cálculo del ROI\n",
    "\n",
    "\\begin{equation*}\n",
    "ROI = \\frac{\\left((TP \\times ValorEsperado_{ingreso}) \\right) - \\left( CostoPublicidad_{Total} \\right)}{CostoPublicidad_{Total}}\n",
    "\\end{equation*}\n",
    "\n",
    "donde $TP$ es el número de verdaderos positivos de $ValorEsperado_{ingreso}$ es el ingreso esperado calculado en base a los modelos de clasificación y regresión."
   ]
  },
  {
   "cell_type": "code",
   "execution_count": 97,
   "metadata": {},
   "outputs": [
    {
     "data": {
      "text/html": [
       "<div>\n",
       "<style scoped>\n",
       "    .dataframe tbody tr th:only-of-type {\n",
       "        vertical-align: middle;\n",
       "    }\n",
       "\n",
       "    .dataframe tbody tr th {\n",
       "        vertical-align: top;\n",
       "    }\n",
       "\n",
       "    .dataframe thead th {\n",
       "        text-align: right;\n",
       "    }\n",
       "</style>\n",
       "<table border=\"1\" class=\"dataframe\">\n",
       "  <thead>\n",
       "    <tr style=\"text-align: right;\">\n",
       "      <th></th>\n",
       "      <th>_x</th>\n",
       "      <th>páginas visitadas</th>\n",
       "      <th>duración de la sesión</th>\n",
       "      <th>número de visitas</th>\n",
       "      <th>fecha de nacimiento</th>\n",
       "      <th>ids</th>\n",
       "      <th>ubicación_Ciudad A</th>\n",
       "      <th>ubicación_Ciudad B</th>\n",
       "      <th>ubicación_Ciudad C</th>\n",
       "      <th>dispositivo_móvil</th>\n",
       "      <th>...</th>\n",
       "      <th>promociones_utilizadas</th>\n",
       "      <th>distancia_a_hipermercados</th>\n",
       "      <th>ingreso_predicho</th>\n",
       "      <th>valor_esperado</th>\n",
       "      <th>_y</th>\n",
       "      <th>costo_publicidad</th>\n",
       "      <th>conversion_predicha_y</th>\n",
       "      <th>convertido</th>\n",
       "      <th>FP</th>\n",
       "      <th>TP</th>\n",
       "    </tr>\n",
       "  </thead>\n",
       "  <tbody>\n",
       "    <tr>\n",
       "      <th>0</th>\n",
       "      <td>1</td>\n",
       "      <td>11</td>\n",
       "      <td>972</td>\n",
       "      <td>27</td>\n",
       "      <td>1920-11-28</td>\n",
       "      <td>5001</td>\n",
       "      <td>0</td>\n",
       "      <td>0</td>\n",
       "      <td>1</td>\n",
       "      <td>1</td>\n",
       "      <td>...</td>\n",
       "      <td>5</td>\n",
       "      <td>50.615011</td>\n",
       "      <td>570.171784</td>\n",
       "      <td>570.171784</td>\n",
       "      <td>1</td>\n",
       "      <td>185</td>\n",
       "      <td>1</td>\n",
       "      <td>1</td>\n",
       "      <td>0</td>\n",
       "      <td>1</td>\n",
       "    </tr>\n",
       "    <tr>\n",
       "      <th>1</th>\n",
       "      <td>3</td>\n",
       "      <td>7</td>\n",
       "      <td>1148</td>\n",
       "      <td>45</td>\n",
       "      <td>1928-04-20</td>\n",
       "      <td>5003</td>\n",
       "      <td>0</td>\n",
       "      <td>0</td>\n",
       "      <td>1</td>\n",
       "      <td>0</td>\n",
       "      <td>...</td>\n",
       "      <td>5</td>\n",
       "      <td>63.335536</td>\n",
       "      <td>649.163377</td>\n",
       "      <td>297.936923</td>\n",
       "      <td>3</td>\n",
       "      <td>383</td>\n",
       "      <td>0</td>\n",
       "      <td>0</td>\n",
       "      <td>0</td>\n",
       "      <td>0</td>\n",
       "    </tr>\n",
       "    <tr>\n",
       "      <th>2</th>\n",
       "      <td>4</td>\n",
       "      <td>2</td>\n",
       "      <td>1228</td>\n",
       "      <td>32</td>\n",
       "      <td>1922-02-21</td>\n",
       "      <td>5004</td>\n",
       "      <td>1</td>\n",
       "      <td>0</td>\n",
       "      <td>0</td>\n",
       "      <td>1</td>\n",
       "      <td>...</td>\n",
       "      <td>6</td>\n",
       "      <td>56.261429</td>\n",
       "      <td>363.246410</td>\n",
       "      <td>33.022401</td>\n",
       "      <td>4</td>\n",
       "      <td>281</td>\n",
       "      <td>0</td>\n",
       "      <td>0</td>\n",
       "      <td>0</td>\n",
       "      <td>0</td>\n",
       "    </tr>\n",
       "    <tr>\n",
       "      <th>3</th>\n",
       "      <td>5</td>\n",
       "      <td>5</td>\n",
       "      <td>3206</td>\n",
       "      <td>7</td>\n",
       "      <td>1913-02-08</td>\n",
       "      <td>5005</td>\n",
       "      <td>0</td>\n",
       "      <td>0</td>\n",
       "      <td>1</td>\n",
       "      <td>1</td>\n",
       "      <td>...</td>\n",
       "      <td>3</td>\n",
       "      <td>56.446789</td>\n",
       "      <td>398.591342</td>\n",
       "      <td>36.235577</td>\n",
       "      <td>5</td>\n",
       "      <td>311</td>\n",
       "      <td>0</td>\n",
       "      <td>0</td>\n",
       "      <td>0</td>\n",
       "      <td>0</td>\n",
       "    </tr>\n",
       "    <tr>\n",
       "      <th>4</th>\n",
       "      <td>6</td>\n",
       "      <td>4</td>\n",
       "      <td>1920</td>\n",
       "      <td>12</td>\n",
       "      <td>1917-06-17</td>\n",
       "      <td>5006</td>\n",
       "      <td>1</td>\n",
       "      <td>0</td>\n",
       "      <td>0</td>\n",
       "      <td>0</td>\n",
       "      <td>...</td>\n",
       "      <td>4</td>\n",
       "      <td>47.147467</td>\n",
       "      <td>468.866473</td>\n",
       "      <td>42.624225</td>\n",
       "      <td>6</td>\n",
       "      <td>291</td>\n",
       "      <td>0</td>\n",
       "      <td>0</td>\n",
       "      <td>0</td>\n",
       "      <td>0</td>\n",
       "    </tr>\n",
       "    <tr>\n",
       "      <th>...</th>\n",
       "      <td>...</td>\n",
       "      <td>...</td>\n",
       "      <td>...</td>\n",
       "      <td>...</td>\n",
       "      <td>...</td>\n",
       "      <td>...</td>\n",
       "      <td>...</td>\n",
       "      <td>...</td>\n",
       "      <td>...</td>\n",
       "      <td>...</td>\n",
       "      <td>...</td>\n",
       "      <td>...</td>\n",
       "      <td>...</td>\n",
       "      <td>...</td>\n",
       "      <td>...</td>\n",
       "      <td>...</td>\n",
       "      <td>...</td>\n",
       "      <td>...</td>\n",
       "      <td>...</td>\n",
       "      <td>...</td>\n",
       "      <td>...</td>\n",
       "    </tr>\n",
       "    <tr>\n",
       "      <th>697</th>\n",
       "      <td>994</td>\n",
       "      <td>11</td>\n",
       "      <td>2690</td>\n",
       "      <td>49</td>\n",
       "      <td>1925-07-05</td>\n",
       "      <td>5994</td>\n",
       "      <td>0</td>\n",
       "      <td>1</td>\n",
       "      <td>0</td>\n",
       "      <td>1</td>\n",
       "      <td>...</td>\n",
       "      <td>8</td>\n",
       "      <td>33.285348</td>\n",
       "      <td>313.142670</td>\n",
       "      <td>143.718464</td>\n",
       "      <td>994</td>\n",
       "      <td>178</td>\n",
       "      <td>0</td>\n",
       "      <td>0</td>\n",
       "      <td>0</td>\n",
       "      <td>0</td>\n",
       "    </tr>\n",
       "    <tr>\n",
       "      <th>698</th>\n",
       "      <td>995</td>\n",
       "      <td>9</td>\n",
       "      <td>2084</td>\n",
       "      <td>8</td>\n",
       "      <td>1918-06-12</td>\n",
       "      <td>5995</td>\n",
       "      <td>1</td>\n",
       "      <td>0</td>\n",
       "      <td>0</td>\n",
       "      <td>0</td>\n",
       "      <td>...</td>\n",
       "      <td>4</td>\n",
       "      <td>42.742721</td>\n",
       "      <td>523.173063</td>\n",
       "      <td>0.000000</td>\n",
       "      <td>995</td>\n",
       "      <td>405</td>\n",
       "      <td>0</td>\n",
       "      <td>1</td>\n",
       "      <td>0</td>\n",
       "      <td>0</td>\n",
       "    </tr>\n",
       "    <tr>\n",
       "      <th>699</th>\n",
       "      <td>997</td>\n",
       "      <td>7</td>\n",
       "      <td>3975</td>\n",
       "      <td>41</td>\n",
       "      <td>1918-07-12</td>\n",
       "      <td>5997</td>\n",
       "      <td>0</td>\n",
       "      <td>0</td>\n",
       "      <td>1</td>\n",
       "      <td>1</td>\n",
       "      <td>...</td>\n",
       "      <td>9</td>\n",
       "      <td>79.357971</td>\n",
       "      <td>1016.777315</td>\n",
       "      <td>92.434301</td>\n",
       "      <td>997</td>\n",
       "      <td>379</td>\n",
       "      <td>0</td>\n",
       "      <td>0</td>\n",
       "      <td>0</td>\n",
       "      <td>0</td>\n",
       "    </tr>\n",
       "    <tr>\n",
       "      <th>700</th>\n",
       "      <td>998</td>\n",
       "      <td>9</td>\n",
       "      <td>1986</td>\n",
       "      <td>18</td>\n",
       "      <td>1917-03-19</td>\n",
       "      <td>5998</td>\n",
       "      <td>0</td>\n",
       "      <td>1</td>\n",
       "      <td>0</td>\n",
       "      <td>0</td>\n",
       "      <td>...</td>\n",
       "      <td>5</td>\n",
       "      <td>70.177029</td>\n",
       "      <td>653.625445</td>\n",
       "      <td>653.625445</td>\n",
       "      <td>998</td>\n",
       "      <td>426</td>\n",
       "      <td>1</td>\n",
       "      <td>1</td>\n",
       "      <td>0</td>\n",
       "      <td>1</td>\n",
       "    </tr>\n",
       "    <tr>\n",
       "      <th>701</th>\n",
       "      <td>999</td>\n",
       "      <td>8</td>\n",
       "      <td>2072</td>\n",
       "      <td>48</td>\n",
       "      <td>1926-08-29</td>\n",
       "      <td>5999</td>\n",
       "      <td>1</td>\n",
       "      <td>0</td>\n",
       "      <td>0</td>\n",
       "      <td>1</td>\n",
       "      <td>...</td>\n",
       "      <td>1</td>\n",
       "      <td>31.944061</td>\n",
       "      <td>431.571114</td>\n",
       "      <td>198.071817</td>\n",
       "      <td>999</td>\n",
       "      <td>320</td>\n",
       "      <td>0</td>\n",
       "      <td>0</td>\n",
       "      <td>0</td>\n",
       "      <td>0</td>\n",
       "    </tr>\n",
       "  </tbody>\n",
       "</table>\n",
       "<p>702 rows × 30 columns</p>\n",
       "</div>"
      ],
      "text/plain": [
       "      _x  páginas visitadas  duración de la sesión  número de visitas  \\\n",
       "0      1                 11                    972                 27   \n",
       "1      3                  7                   1148                 45   \n",
       "2      4                  2                   1228                 32   \n",
       "3      5                  5                   3206                  7   \n",
       "4      6                  4                   1920                 12   \n",
       "..   ...                ...                    ...                ...   \n",
       "697  994                 11                   2690                 49   \n",
       "698  995                  9                   2084                  8   \n",
       "699  997                  7                   3975                 41   \n",
       "700  998                  9                   1986                 18   \n",
       "701  999                  8                   2072                 48   \n",
       "\n",
       "    fecha de nacimiento   ids  ubicación_Ciudad A  ubicación_Ciudad B  \\\n",
       "0            1920-11-28  5001                   0                   0   \n",
       "1            1928-04-20  5003                   0                   0   \n",
       "2            1922-02-21  5004                   1                   0   \n",
       "3            1913-02-08  5005                   0                   0   \n",
       "4            1917-06-17  5006                   1                   0   \n",
       "..                  ...   ...                 ...                 ...   \n",
       "697          1925-07-05  5994                   0                   1   \n",
       "698          1918-06-12  5995                   1                   0   \n",
       "699          1918-07-12  5997                   0                   0   \n",
       "700          1917-03-19  5998                   0                   1   \n",
       "701          1926-08-29  5999                   1                   0   \n",
       "\n",
       "     ubicación_Ciudad C  dispositivo_móvil  ...  promociones_utilizadas  \\\n",
       "0                     1                  1  ...                       5   \n",
       "1                     1                  0  ...                       5   \n",
       "2                     0                  1  ...                       6   \n",
       "3                     1                  1  ...                       3   \n",
       "4                     0                  0  ...                       4   \n",
       "..                  ...                ...  ...                     ...   \n",
       "697                   0                  1  ...                       8   \n",
       "698                   0                  0  ...                       4   \n",
       "699                   1                  1  ...                       9   \n",
       "700                   0                  0  ...                       5   \n",
       "701                   0                  1  ...                       1   \n",
       "\n",
       "     distancia_a_hipermercados ingreso_predicho  valor_esperado   _y  \\\n",
       "0                    50.615011       570.171784      570.171784    1   \n",
       "1                    63.335536       649.163377      297.936923    3   \n",
       "2                    56.261429       363.246410       33.022401    4   \n",
       "3                    56.446789       398.591342       36.235577    5   \n",
       "4                    47.147467       468.866473       42.624225    6   \n",
       "..                         ...              ...             ...  ...   \n",
       "697                  33.285348       313.142670      143.718464  994   \n",
       "698                  42.742721       523.173063        0.000000  995   \n",
       "699                  79.357971      1016.777315       92.434301  997   \n",
       "700                  70.177029       653.625445      653.625445  998   \n",
       "701                  31.944061       431.571114      198.071817  999   \n",
       "\n",
       "     costo_publicidad  conversion_predicha_y  convertido  FP  TP  \n",
       "0                 185                      1           1   0   1  \n",
       "1                 383                      0           0   0   0  \n",
       "2                 281                      0           0   0   0  \n",
       "3                 311                      0           0   0   0  \n",
       "4                 291                      0           0   0   0  \n",
       "..                ...                    ...         ...  ..  ..  \n",
       "697               178                      0           0   0   0  \n",
       "698               405                      0           1   0   0  \n",
       "699               379                      0           0   0   0  \n",
       "700               426                      1           1   0   1  \n",
       "701               320                      0           0   0   0  \n",
       "\n",
       "[702 rows x 30 columns]"
      ]
     },
     "execution_count": 97,
     "metadata": {},
     "output_type": "execute_result"
    }
   ],
   "source": [
    "tp_con_roi = pd.merge(df_merged, conversion_real_y_predicha_y_costo_publicidad, on=\"ids\")\n",
    "tp_con_roi.replace({True: 1, False: 0}, inplace=True)\n",
    "tp_con_roi"
   ]
  },
  {
   "cell_type": "code",
   "execution_count": 98,
   "metadata": {},
   "outputs": [
    {
     "data": {
      "text/html": [
       "<div>\n",
       "<style scoped>\n",
       "    .dataframe tbody tr th:only-of-type {\n",
       "        vertical-align: middle;\n",
       "    }\n",
       "\n",
       "    .dataframe tbody tr th {\n",
       "        vertical-align: top;\n",
       "    }\n",
       "\n",
       "    .dataframe thead th {\n",
       "        text-align: right;\n",
       "    }\n",
       "</style>\n",
       "<table border=\"1\" class=\"dataframe\">\n",
       "  <thead>\n",
       "    <tr style=\"text-align: right;\">\n",
       "      <th></th>\n",
       "      <th>ROI</th>\n",
       "      <th>ids</th>\n",
       "    </tr>\n",
       "  </thead>\n",
       "  <tbody>\n",
       "    <tr>\n",
       "      <th>0</th>\n",
       "      <td>2.082010</td>\n",
       "      <td>5001</td>\n",
       "    </tr>\n",
       "    <tr>\n",
       "      <th>1</th>\n",
       "      <td>-1.000000</td>\n",
       "      <td>5003</td>\n",
       "    </tr>\n",
       "    <tr>\n",
       "      <th>2</th>\n",
       "      <td>-1.000000</td>\n",
       "      <td>5004</td>\n",
       "    </tr>\n",
       "    <tr>\n",
       "      <th>3</th>\n",
       "      <td>-1.000000</td>\n",
       "      <td>5005</td>\n",
       "    </tr>\n",
       "    <tr>\n",
       "      <th>4</th>\n",
       "      <td>-1.000000</td>\n",
       "      <td>5006</td>\n",
       "    </tr>\n",
       "    <tr>\n",
       "      <th>...</th>\n",
       "      <td>...</td>\n",
       "      <td>...</td>\n",
       "    </tr>\n",
       "    <tr>\n",
       "      <th>697</th>\n",
       "      <td>-1.000000</td>\n",
       "      <td>5994</td>\n",
       "    </tr>\n",
       "    <tr>\n",
       "      <th>698</th>\n",
       "      <td>-1.000000</td>\n",
       "      <td>5995</td>\n",
       "    </tr>\n",
       "    <tr>\n",
       "      <th>699</th>\n",
       "      <td>-1.000000</td>\n",
       "      <td>5997</td>\n",
       "    </tr>\n",
       "    <tr>\n",
       "      <th>700</th>\n",
       "      <td>0.534332</td>\n",
       "      <td>5998</td>\n",
       "    </tr>\n",
       "    <tr>\n",
       "      <th>701</th>\n",
       "      <td>-1.000000</td>\n",
       "      <td>5999</td>\n",
       "    </tr>\n",
       "  </tbody>\n",
       "</table>\n",
       "<p>702 rows × 2 columns</p>\n",
       "</div>"
      ],
      "text/plain": [
       "          ROI   ids\n",
       "0    2.082010  5001\n",
       "1   -1.000000  5003\n",
       "2   -1.000000  5004\n",
       "3   -1.000000  5005\n",
       "4   -1.000000  5006\n",
       "..        ...   ...\n",
       "697 -1.000000  5994\n",
       "698 -1.000000  5995\n",
       "699 -1.000000  5997\n",
       "700  0.534332  5998\n",
       "701 -1.000000  5999\n",
       "\n",
       "[702 rows x 2 columns]"
      ]
     },
     "execution_count": 98,
     "metadata": {},
     "output_type": "execute_result"
    }
   ],
   "source": [
    "tp_con_roi[\"ROI\"] = ((tp_con_roi[\"TP\"] * tp_con_roi[\"valor_esperado\"]) - (tp_con_roi[\"costo_publicidad\"]))/tp_con_roi[\"costo_publicidad\"]\n",
    "tp_con_roi[[\"ROI\", \"ids\"]]"
   ]
  },
  {
   "cell_type": "markdown",
   "id": "05db4d3d",
   "metadata": {},
   "source": [
    "Ahora que sabemos qué cliente convirtió, podemos saber el costo de publicidad desperdiciado."
   ]
  },
  {
   "cell_type": "code",
   "execution_count": 99,
   "metadata": {},
   "outputs": [],
   "source": [
    "falsos_positivos_roi= tp_con_roi[tp_con_roi[\"FP\"] == 1]"
   ]
  },
  {
   "cell_type": "code",
   "execution_count": 100,
   "metadata": {},
   "outputs": [
    {
     "name": "stdout",
     "output_type": "stream",
     "text": [
      "El costo de publicidad desperdiciado es de: $ 10884\n"
     ]
    }
   ],
   "source": [
    "costo_desperdiciado_tp_con_roi = falsos_positivos_roi[\"costo_publicidad\"].sum()\n",
    "print(\"El costo de publicidad desperdiciado es de:\", \"$\", costo_desperdiciado_tp_con_roi)"
   ]
  },
  {
   "cell_type": "markdown",
   "id": "aefcaadc",
   "metadata": {},
   "source": [
    "## Cliente con mayor ROI"
   ]
  },
  {
   "cell_type": "code",
   "execution_count": 101,
   "metadata": {},
   "outputs": [
    {
     "data": {
      "text/html": [
       "<div>\n",
       "<style scoped>\n",
       "    .dataframe tbody tr th:only-of-type {\n",
       "        vertical-align: middle;\n",
       "    }\n",
       "\n",
       "    .dataframe tbody tr th {\n",
       "        vertical-align: top;\n",
       "    }\n",
       "\n",
       "    .dataframe thead th {\n",
       "        text-align: right;\n",
       "    }\n",
       "</style>\n",
       "<table border=\"1\" class=\"dataframe\">\n",
       "  <thead>\n",
       "    <tr style=\"text-align: right;\">\n",
       "      <th></th>\n",
       "      <th>_x</th>\n",
       "      <th>páginas visitadas</th>\n",
       "      <th>duración de la sesión</th>\n",
       "      <th>número de visitas</th>\n",
       "      <th>fecha de nacimiento</th>\n",
       "      <th>ids</th>\n",
       "      <th>ubicación_Ciudad A</th>\n",
       "      <th>ubicación_Ciudad B</th>\n",
       "      <th>ubicación_Ciudad C</th>\n",
       "      <th>dispositivo_móvil</th>\n",
       "      <th>...</th>\n",
       "      <th>distancia_a_hipermercados</th>\n",
       "      <th>ingreso_predicho</th>\n",
       "      <th>valor_esperado</th>\n",
       "      <th>_y</th>\n",
       "      <th>costo_publicidad</th>\n",
       "      <th>conversion_predicha_y</th>\n",
       "      <th>convertido</th>\n",
       "      <th>FP</th>\n",
       "      <th>TP</th>\n",
       "      <th>ROI</th>\n",
       "    </tr>\n",
       "  </thead>\n",
       "  <tbody>\n",
       "    <tr>\n",
       "      <th>555</th>\n",
       "      <td>779</td>\n",
       "      <td>9</td>\n",
       "      <td>3506</td>\n",
       "      <td>3</td>\n",
       "      <td>1914-01-04</td>\n",
       "      <td>5779</td>\n",
       "      <td>0</td>\n",
       "      <td>1</td>\n",
       "      <td>0</td>\n",
       "      <td>1</td>\n",
       "      <td>...</td>\n",
       "      <td>98.917854</td>\n",
       "      <td>704.188409</td>\n",
       "      <td>704.188409</td>\n",
       "      <td>779</td>\n",
       "      <td>179</td>\n",
       "      <td>1</td>\n",
       "      <td>1</td>\n",
       "      <td>0</td>\n",
       "      <td>1</td>\n",
       "      <td>2.934013</td>\n",
       "    </tr>\n",
       "  </tbody>\n",
       "</table>\n",
       "<p>1 rows × 31 columns</p>\n",
       "</div>"
      ],
      "text/plain": [
       "      _x  páginas visitadas  duración de la sesión  número de visitas  \\\n",
       "555  779                  9                   3506                  3   \n",
       "\n",
       "    fecha de nacimiento   ids  ubicación_Ciudad A  ubicación_Ciudad B  \\\n",
       "555          1914-01-04  5779                   0                   1   \n",
       "\n",
       "     ubicación_Ciudad C  dispositivo_móvil  ...  distancia_a_hipermercados  \\\n",
       "555                   0                  1  ...                  98.917854   \n",
       "\n",
       "     ingreso_predicho valor_esperado   _y  costo_publicidad  \\\n",
       "555        704.188409     704.188409  779               179   \n",
       "\n",
       "     conversion_predicha_y  convertido  FP  TP       ROI  \n",
       "555                      1           1   0   1  2.934013  \n",
       "\n",
       "[1 rows x 31 columns]"
      ]
     },
     "execution_count": 101,
     "metadata": {},
     "output_type": "execute_result"
    }
   ],
   "source": [
    "tp_con_roi.nlargest(1, \"ROI\")"
   ]
  },
  {
   "cell_type": "markdown",
   "id": "7c0a911c",
   "metadata": {},
   "source": [
    "## Real model profit"
   ]
  },
  {
   "cell_type": "markdown",
   "metadata": {},
   "source": [
    "## Cálculo del ROI\n",
    "\n",
    "\\begin{equation*}\n",
    "ROI = \\frac{\\left((TP \\times ValorEsperado_{ingreso}) \\right) - \\left( CostoPublicidad_{Total} \\right)}{CostoPublicidad_{Total}}\n",
    "\\end{equation*}\n",
    "\n",
    "donde $TP$ es el número de verdaderos positivos de $ValorEsperado_{ingreso}$ es el ingreso esperado calculado en base a los modelos de clasificación y regresión."
   ]
  },
  {
   "cell_type": "code",
   "execution_count": 102,
   "metadata": {},
   "outputs": [
    {
     "data": {
      "text/plain": [
       "225795"
      ]
     },
     "execution_count": 102,
     "metadata": {},
     "output_type": "execute_result"
    }
   ],
   "source": [
    "costo_publicidad_total_nuevos_clientes = tp_con_roi[\"costo_publicidad\"].sum()\n",
    "costo_publicidad_total_nuevos_clientes"
   ]
  },
  {
   "cell_type": "code",
   "execution_count": 103,
   "metadata": {},
   "outputs": [],
   "source": [
    "true_positives = tp_con_roi[\"TP\"].sum()"
   ]
  },
  {
   "cell_type": "code",
   "execution_count": 104,
   "metadata": {},
   "outputs": [
    {
     "data": {
      "text/html": [
       "<div>\n",
       "<style scoped>\n",
       "    .dataframe tbody tr th:only-of-type {\n",
       "        vertical-align: middle;\n",
       "    }\n",
       "\n",
       "    .dataframe tbody tr th {\n",
       "        vertical-align: top;\n",
       "    }\n",
       "\n",
       "    .dataframe thead th {\n",
       "        text-align: right;\n",
       "    }\n",
       "</style>\n",
       "<table border=\"1\" class=\"dataframe\">\n",
       "  <thead>\n",
       "    <tr style=\"text-align: right;\">\n",
       "      <th></th>\n",
       "      <th>_x</th>\n",
       "      <th>páginas visitadas</th>\n",
       "      <th>duración de la sesión</th>\n",
       "      <th>número de visitas</th>\n",
       "      <th>fecha de nacimiento</th>\n",
       "      <th>ids</th>\n",
       "      <th>ubicación_Ciudad A</th>\n",
       "      <th>ubicación_Ciudad B</th>\n",
       "      <th>ubicación_Ciudad C</th>\n",
       "      <th>dispositivo_móvil</th>\n",
       "      <th>...</th>\n",
       "      <th>distancia_a_hipermercados</th>\n",
       "      <th>ingreso_predicho</th>\n",
       "      <th>valor_esperado</th>\n",
       "      <th>_y</th>\n",
       "      <th>costo_publicidad</th>\n",
       "      <th>conversion_predicha_y</th>\n",
       "      <th>convertido</th>\n",
       "      <th>FP</th>\n",
       "      <th>TP</th>\n",
       "      <th>ROI</th>\n",
       "    </tr>\n",
       "  </thead>\n",
       "  <tbody>\n",
       "    <tr>\n",
       "      <th>0</th>\n",
       "      <td>1</td>\n",
       "      <td>11</td>\n",
       "      <td>972</td>\n",
       "      <td>27</td>\n",
       "      <td>1920-11-28</td>\n",
       "      <td>5001</td>\n",
       "      <td>0</td>\n",
       "      <td>0</td>\n",
       "      <td>1</td>\n",
       "      <td>1</td>\n",
       "      <td>...</td>\n",
       "      <td>50.615011</td>\n",
       "      <td>570.171784</td>\n",
       "      <td>570.171784</td>\n",
       "      <td>1</td>\n",
       "      <td>185</td>\n",
       "      <td>1</td>\n",
       "      <td>1</td>\n",
       "      <td>0</td>\n",
       "      <td>1</td>\n",
       "      <td>2.08201</td>\n",
       "    </tr>\n",
       "    <tr>\n",
       "      <th>1</th>\n",
       "      <td>3</td>\n",
       "      <td>7</td>\n",
       "      <td>1148</td>\n",
       "      <td>45</td>\n",
       "      <td>1928-04-20</td>\n",
       "      <td>5003</td>\n",
       "      <td>0</td>\n",
       "      <td>0</td>\n",
       "      <td>1</td>\n",
       "      <td>0</td>\n",
       "      <td>...</td>\n",
       "      <td>63.335536</td>\n",
       "      <td>649.163377</td>\n",
       "      <td>297.936923</td>\n",
       "      <td>3</td>\n",
       "      <td>383</td>\n",
       "      <td>0</td>\n",
       "      <td>0</td>\n",
       "      <td>0</td>\n",
       "      <td>0</td>\n",
       "      <td>-1.00000</td>\n",
       "    </tr>\n",
       "    <tr>\n",
       "      <th>2</th>\n",
       "      <td>4</td>\n",
       "      <td>2</td>\n",
       "      <td>1228</td>\n",
       "      <td>32</td>\n",
       "      <td>1922-02-21</td>\n",
       "      <td>5004</td>\n",
       "      <td>1</td>\n",
       "      <td>0</td>\n",
       "      <td>0</td>\n",
       "      <td>1</td>\n",
       "      <td>...</td>\n",
       "      <td>56.261429</td>\n",
       "      <td>363.246410</td>\n",
       "      <td>33.022401</td>\n",
       "      <td>4</td>\n",
       "      <td>281</td>\n",
       "      <td>0</td>\n",
       "      <td>0</td>\n",
       "      <td>0</td>\n",
       "      <td>0</td>\n",
       "      <td>-1.00000</td>\n",
       "    </tr>\n",
       "    <tr>\n",
       "      <th>3</th>\n",
       "      <td>5</td>\n",
       "      <td>5</td>\n",
       "      <td>3206</td>\n",
       "      <td>7</td>\n",
       "      <td>1913-02-08</td>\n",
       "      <td>5005</td>\n",
       "      <td>0</td>\n",
       "      <td>0</td>\n",
       "      <td>1</td>\n",
       "      <td>1</td>\n",
       "      <td>...</td>\n",
       "      <td>56.446789</td>\n",
       "      <td>398.591342</td>\n",
       "      <td>36.235577</td>\n",
       "      <td>5</td>\n",
       "      <td>311</td>\n",
       "      <td>0</td>\n",
       "      <td>0</td>\n",
       "      <td>0</td>\n",
       "      <td>0</td>\n",
       "      <td>-1.00000</td>\n",
       "    </tr>\n",
       "    <tr>\n",
       "      <th>4</th>\n",
       "      <td>6</td>\n",
       "      <td>4</td>\n",
       "      <td>1920</td>\n",
       "      <td>12</td>\n",
       "      <td>1917-06-17</td>\n",
       "      <td>5006</td>\n",
       "      <td>1</td>\n",
       "      <td>0</td>\n",
       "      <td>0</td>\n",
       "      <td>0</td>\n",
       "      <td>...</td>\n",
       "      <td>47.147467</td>\n",
       "      <td>468.866473</td>\n",
       "      <td>42.624225</td>\n",
       "      <td>6</td>\n",
       "      <td>291</td>\n",
       "      <td>0</td>\n",
       "      <td>0</td>\n",
       "      <td>0</td>\n",
       "      <td>0</td>\n",
       "      <td>-1.00000</td>\n",
       "    </tr>\n",
       "  </tbody>\n",
       "</table>\n",
       "<p>5 rows × 31 columns</p>\n",
       "</div>"
      ],
      "text/plain": [
       "   _x  páginas visitadas  duración de la sesión  número de visitas  \\\n",
       "0   1                 11                    972                 27   \n",
       "1   3                  7                   1148                 45   \n",
       "2   4                  2                   1228                 32   \n",
       "3   5                  5                   3206                  7   \n",
       "4   6                  4                   1920                 12   \n",
       "\n",
       "  fecha de nacimiento   ids  ubicación_Ciudad A  ubicación_Ciudad B  \\\n",
       "0          1920-11-28  5001                   0                   0   \n",
       "1          1928-04-20  5003                   0                   0   \n",
       "2          1922-02-21  5004                   1                   0   \n",
       "3          1913-02-08  5005                   0                   0   \n",
       "4          1917-06-17  5006                   1                   0   \n",
       "\n",
       "   ubicación_Ciudad C  dispositivo_móvil  ...  distancia_a_hipermercados  \\\n",
       "0                   1                  1  ...                  50.615011   \n",
       "1                   1                  0  ...                  63.335536   \n",
       "2                   0                  1  ...                  56.261429   \n",
       "3                   1                  1  ...                  56.446789   \n",
       "4                   0                  0  ...                  47.147467   \n",
       "\n",
       "   ingreso_predicho valor_esperado  _y  costo_publicidad  \\\n",
       "0        570.171784     570.171784   1               185   \n",
       "1        649.163377     297.936923   3               383   \n",
       "2        363.246410      33.022401   4               281   \n",
       "3        398.591342      36.235577   5               311   \n",
       "4        468.866473      42.624225   6               291   \n",
       "\n",
       "   conversion_predicha_y  convertido  FP  TP      ROI  \n",
       "0                      1           1   0   1  2.08201  \n",
       "1                      0           0   0   0 -1.00000  \n",
       "2                      0           0   0   0 -1.00000  \n",
       "3                      0           0   0   0 -1.00000  \n",
       "4                      0           0   0   0 -1.00000  \n",
       "\n",
       "[5 rows x 31 columns]"
      ]
     },
     "execution_count": 104,
     "metadata": {},
     "output_type": "execute_result"
    }
   ],
   "source": [
    "tp_con_roi.head()"
   ]
  },
  {
   "cell_type": "markdown",
   "metadata": {},
   "source": [
    "## Estimación del Valor Esperado del Cliente\n",
    "Dado un modelo de clasificación que provee una probabilidad de que cada cliente haga una compra, \n",
    "y un modelo de regresión que estima el ingreso por cliente, el valor esperado del ingreso de un cliente se puede calcular como:\n",
    "\n",
    "\\begin{equation*}\n",
    "ValorEsperado_{ingreso} = Probabilidad_{compra} \\times Ingreso_{estimado}\n",
    "\\end{equation*}\n",
    "\n",
    "Donde $Probabilidad_{compra}$ es la probabilidad de compra predicha por el modelo de clasificación y $Ingreso_{estimado}$ es el ingreso \n",
    "estimado del modelo de regresión."
   ]
  },
  {
   "cell_type": "code",
   "execution_count": 105,
   "metadata": {},
   "outputs": [],
   "source": [
    "valor_esperado = (tp_con_roi[\"conversion_predicha_y\"] * tp_con_roi[\"ingreso_predicho\"]).sum()"
   ]
  },
  {
   "cell_type": "code",
   "execution_count": 106,
   "metadata": {},
   "outputs": [
    {
     "data": {
      "text/plain": [
       "5.143512835407322"
      ]
     },
     "execution_count": 106,
     "metadata": {},
     "output_type": "execute_result"
    }
   ],
   "source": [
    "roi_modelo = ((true_positives * valor_esperado) - costo_publicidad_total_nuevos_clientes)/costo_publicidad_total_nuevos_clientes\n",
    "roi_modelo"
   ]
  }
 ],
 "metadata": {
  "kernelspec": {
   "display_name": "Python 3",
   "language": "python",
   "name": "python3"
  },
  "language_info": {
   "codemirror_mode": {
    "name": "ipython",
    "version": 3
   },
   "file_extension": ".py",
   "mimetype": "text/x-python",
   "name": "python",
   "nbconvert_exporter": "python",
   "pygments_lexer": "ipython3",
   "version": "3.11.5"
  }
 },
 "nbformat": 4,
 "nbformat_minor": 5
}
