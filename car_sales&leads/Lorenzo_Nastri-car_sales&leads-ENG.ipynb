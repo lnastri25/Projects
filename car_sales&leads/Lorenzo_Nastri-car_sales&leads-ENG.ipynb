{
 "cells": [
  {
   "cell_type": "markdown",
   "id": "3ed2d0d69888513b",
   "metadata": {
    "collapsed": false
   },
   "source": [
    "## Lorenzo Nastri\n",
    "\n",
    "### lorenzonastri@gmail.com\n",
    "### https://www.linkedin.com/in/lorenzo-nastri\n",
    "\n",
    "\n",
    "\n",
    "Instructions\n",
    "\n",
    "1. Download both datasets and review the information they contain, they are in CSV format.\n",
    "2. Make a brainstorming about some questions that could be answered using the given datasets, then start answering those questions. Try and suggest questions that promote observation, relationships between multiple variables. You should try to analyze at least one dependent variable and three independent variables in your research. A script in Python is attached, it can be executed using Jupyter Notebook and it will give you an idea to start with the analysis, however, you can use any technology or language that allows you to analyze the dataset and discard the script.\n",
    "3. Share your findings once you have finished analyzing the data, create a report that shares the results that you found most interesting. If you use Jupyter, share your findings along with the code you would use to perform the analysis. Make sure that the text of your report is contained in the Markdown cells to clearly distinguish your comments and conclusions from your coding work.\n",
    "\n",
    "# Objective.\n",
    "\n",
    "My objective is to perform a simple analysis that can demonstrate my skills in the use of Python and machine learning. For this I try to perform data wrangling and data visualization operations to analyze the variables and then make a base model with sckit-learn.\n",
    "\n",
    "As a methodology, I understand Exploratory Data Analysis, as the advance on certain insights of the variables, always questioning about the transformations that may exist in the variables and the possibility of making a feature engineering according to a subject that I do not know. Finally, the Machine Learning approach leads me to select the interesting columns as variables with predictive capacity, and separate my data set into training and testing, in order to make a good evaluation of the model, understanding if my model underfitea, overfitea or has a good balance.\n",
    "\n",
    "I import base libraries. Remember that in the separation of training and testing there is a random factor so the random_seed must be the same as I am using to get the same results.\n",
    "\n"
   ]
  },
  {
   "cell_type": "markdown",
   "id": "8cb1ddbe",
   "metadata": {},
   "source": [
    "___"
   ]
  },
  {
   "cell_type": "code",
   "execution_count": 259,
   "id": "adb06776989cf06f",
   "metadata": {
    "ExecuteTime": {
     "end_time": "2023-12-11T12:20:42.548319200Z",
     "start_time": "2023-12-11T12:20:42.485430500Z"
    },
    "collapsed": false
   },
   "outputs": [],
   "source": [
    "import seaborn as sns\n",
    "import numpy as np\n",
    "import pandas as pd\n",
    "import seaborn as sns\n",
    "import matplotlib.pyplot as plt\n",
    "import warnings\n",
    "warnings.filterwarnings(\"ignore\")"
   ]
  },
  {
   "cell_type": "code",
   "execution_count": 260,
   "id": "e878f01615ee438",
   "metadata": {
    "collapsed": false
   },
   "outputs": [
    {
     "data": {
      "text/html": [
       "<div>\n",
       "<style scoped>\n",
       "    .dataframe tbody tr th:only-of-type {\n",
       "        vertical-align: middle;\n",
       "    }\n",
       "\n",
       "    .dataframe tbody tr th {\n",
       "        vertical-align: top;\n",
       "    }\n",
       "\n",
       "    .dataframe thead th {\n",
       "        text-align: right;\n",
       "    }\n",
       "</style>\n",
       "<table border=\"1\" class=\"dataframe\">\n",
       "  <thead>\n",
       "    <tr style=\"text-align: right;\">\n",
       "      <th></th>\n",
       "      <th>Unnamed: 0</th>\n",
       "      <th>Kilometraje</th>\n",
       "      <th>Pais de Origen</th>\n",
       "      <th>Ranking en revistas de auto</th>\n",
       "      <th>precio en mercado libre</th>\n",
       "      <th>fecha_de_elaboracion</th>\n",
       "      <th>ventas</th>\n",
       "    </tr>\n",
       "  </thead>\n",
       "  <tbody>\n",
       "    <tr>\n",
       "      <th>0</th>\n",
       "      <td>0</td>\n",
       "      <td>112018.633266</td>\n",
       "      <td>Japón</td>\n",
       "      <td>148</td>\n",
       "      <td>61584.272399</td>\n",
       "      <td>2014-04-22</td>\n",
       "      <td>1.202479e+06</td>\n",
       "    </tr>\n",
       "    <tr>\n",
       "      <th>1</th>\n",
       "      <td>1</td>\n",
       "      <td>144461.926443</td>\n",
       "      <td>Italia</td>\n",
       "      <td>399</td>\n",
       "      <td>25158.524810</td>\n",
       "      <td>2022-09-10</td>\n",
       "      <td>4.647200e+05</td>\n",
       "    </tr>\n",
       "    <tr>\n",
       "      <th>2</th>\n",
       "      <td>2</td>\n",
       "      <td>122538.858334</td>\n",
       "      <td>Francia</td>\n",
       "      <td>424</td>\n",
       "      <td>19465.272138</td>\n",
       "      <td>2017-09-07</td>\n",
       "      <td>3.554535e+05</td>\n",
       "    </tr>\n",
       "    <tr>\n",
       "      <th>3</th>\n",
       "      <td>3</td>\n",
       "      <td>111252.220684</td>\n",
       "      <td>Estados Unidos</td>\n",
       "      <td>289</td>\n",
       "      <td>32689.870546</td>\n",
       "      <td>2016-03-30</td>\n",
       "      <td>6.441774e+05</td>\n",
       "    </tr>\n",
       "    <tr>\n",
       "      <th>4</th>\n",
       "      <td>4</td>\n",
       "      <td>87612.685871</td>\n",
       "      <td>Francia</td>\n",
       "      <td>450</td>\n",
       "      <td>20477.240703</td>\n",
       "      <td>2015-08-30</td>\n",
       "      <td>3.800819e+05</td>\n",
       "    </tr>\n",
       "  </tbody>\n",
       "</table>\n",
       "</div>"
      ],
      "text/plain": [
       "   Unnamed: 0    Kilometraje  Pais de Origen  Ranking en revistas de auto  \\\n",
       "0           0  112018.633266           Japón                          148   \n",
       "1           1  144461.926443          Italia                          399   \n",
       "2           2  122538.858334         Francia                          424   \n",
       "3           3  111252.220684  Estados Unidos                          289   \n",
       "4           4   87612.685871         Francia                          450   \n",
       "\n",
       "   precio en mercado libre fecha_de_elaboracion        ventas  \n",
       "0             61584.272399           2014-04-22  1.202479e+06  \n",
       "1             25158.524810           2022-09-10  4.647200e+05  \n",
       "2             19465.272138           2017-09-07  3.554535e+05  \n",
       "3             32689.870546           2016-03-30  6.441774e+05  \n",
       "4             20477.240703           2015-08-30  3.800819e+05  "
      ]
     },
     "execution_count": 260,
     "metadata": {},
     "output_type": "execute_result"
    }
   ],
   "source": [
    "df_car_sales = pd.read_csv(\"ventas_de_autos.csv\", delimiter='|')\n",
    "df_car_sales.head()"
   ]
  },
  {
   "cell_type": "code",
   "execution_count": 261,
   "id": "10d98587",
   "metadata": {},
   "outputs": [],
   "source": [
    "df_car_sales.drop(['Unnamed: 0'], axis=1, inplace=True)"
   ]
  },
  {
   "cell_type": "markdown",
   "id": "be08f625",
   "metadata": {},
   "source": [
    "### Read dataset and dimension"
   ]
  },
  {
   "cell_type": "code",
   "execution_count": 262,
   "id": "a52788b4",
   "metadata": {},
   "outputs": [
    {
     "name": "stdout",
     "output_type": "stream",
     "text": [
      "Dataset size: (15, 6)\n"
     ]
    }
   ],
   "source": [
    "print(f\"Dataset size: {df_car_sales.shape}\")"
   ]
  },
  {
   "cell_type": "code",
   "execution_count": 263,
   "id": "52df7386",
   "metadata": {},
   "outputs": [
    {
     "name": "stdout",
     "output_type": "stream",
     "text": [
      "<class 'pandas.core.frame.DataFrame'>\n",
      "RangeIndex: 15 entries, 0 to 14\n",
      "Data columns (total 6 columns):\n",
      " #   Column                       Non-Null Count  Dtype  \n",
      "---  ------                       --------------  -----  \n",
      " 0   Kilometraje                  15 non-null     float64\n",
      " 1   Pais de Origen               15 non-null     object \n",
      " 2   Ranking en revistas de auto  15 non-null     int64  \n",
      " 3   precio en mercado libre      15 non-null     float64\n",
      " 4   fecha_de_elaboracion         15 non-null     object \n",
      " 5   ventas                       15 non-null     float64\n",
      "dtypes: float64(3), int64(1), object(2)\n",
      "memory usage: 852.0+ bytes\n"
     ]
    }
   ],
   "source": [
    "df_car_sales.info()"
   ]
  },
  {
   "cell_type": "markdown",
   "id": "396ca621",
   "metadata": {},
   "source": [
    "In order to observe all the columns I transpose the dataframe and inspect what it consists of.\n"
   ]
  },
  {
   "cell_type": "code",
   "execution_count": 264,
   "id": "43858218",
   "metadata": {},
   "outputs": [
    {
     "data": {
      "text/html": [
       "<div>\n",
       "<style scoped>\n",
       "    .dataframe tbody tr th:only-of-type {\n",
       "        vertical-align: middle;\n",
       "    }\n",
       "\n",
       "    .dataframe tbody tr th {\n",
       "        vertical-align: top;\n",
       "    }\n",
       "\n",
       "    .dataframe thead th {\n",
       "        text-align: right;\n",
       "    }\n",
       "</style>\n",
       "<table border=\"1\" class=\"dataframe\">\n",
       "  <thead>\n",
       "    <tr style=\"text-align: right;\">\n",
       "      <th></th>\n",
       "      <th>0</th>\n",
       "      <th>1</th>\n",
       "      <th>2</th>\n",
       "      <th>3</th>\n",
       "      <th>4</th>\n",
       "      <th>5</th>\n",
       "      <th>6</th>\n",
       "      <th>7</th>\n",
       "      <th>8</th>\n",
       "      <th>9</th>\n",
       "      <th>10</th>\n",
       "      <th>11</th>\n",
       "      <th>12</th>\n",
       "      <th>13</th>\n",
       "      <th>14</th>\n",
       "    </tr>\n",
       "  </thead>\n",
       "  <tbody>\n",
       "    <tr>\n",
       "      <th>Kilometraje</th>\n",
       "      <td>112018.633266</td>\n",
       "      <td>144461.926443</td>\n",
       "      <td>122538.858334</td>\n",
       "      <td>111252.220684</td>\n",
       "      <td>87612.685871</td>\n",
       "      <td>130949.352048</td>\n",
       "      <td>90329.506196</td>\n",
       "      <td>178895.735153</td>\n",
       "      <td>192914.238298</td>\n",
       "      <td>79771.096171</td>\n",
       "      <td>159386.382426</td>\n",
       "      <td>108134.509352</td>\n",
       "      <td>115768.689413</td>\n",
       "      <td>185491.344467</td>\n",
       "      <td>18852.031349</td>\n",
       "    </tr>\n",
       "    <tr>\n",
       "      <th>Pais de Origen</th>\n",
       "      <td>Japón</td>\n",
       "      <td>Italia</td>\n",
       "      <td>Francia</td>\n",
       "      <td>Estados Unidos</td>\n",
       "      <td>Francia</td>\n",
       "      <td>Corea del Sur</td>\n",
       "      <td>China</td>\n",
       "      <td>Estados Unidos</td>\n",
       "      <td>Alemania</td>\n",
       "      <td>Francia</td>\n",
       "      <td>Estados Unidos</td>\n",
       "      <td>Japón</td>\n",
       "      <td>Francia</td>\n",
       "      <td>Corea del Sur</td>\n",
       "      <td>Francia</td>\n",
       "    </tr>\n",
       "    <tr>\n",
       "      <th>Ranking en revistas de auto</th>\n",
       "      <td>148</td>\n",
       "      <td>399</td>\n",
       "      <td>424</td>\n",
       "      <td>289</td>\n",
       "      <td>450</td>\n",
       "      <td>266</td>\n",
       "      <td>186</td>\n",
       "      <td>128</td>\n",
       "      <td>33</td>\n",
       "      <td>32</td>\n",
       "      <td>203</td>\n",
       "      <td>245</td>\n",
       "      <td>152</td>\n",
       "      <td>164</td>\n",
       "      <td>460</td>\n",
       "    </tr>\n",
       "    <tr>\n",
       "      <th>precio en mercado libre</th>\n",
       "      <td>61584.272399</td>\n",
       "      <td>25158.52481</td>\n",
       "      <td>19465.272138</td>\n",
       "      <td>32689.870546</td>\n",
       "      <td>20477.240703</td>\n",
       "      <td>25562.497178</td>\n",
       "      <td>37054.228679</td>\n",
       "      <td>73181.893287</td>\n",
       "      <td>41496.499294</td>\n",
       "      <td>52914.442052</td>\n",
       "      <td>73164.400822</td>\n",
       "      <td>16949.624525</td>\n",
       "      <td>77886.634742</td>\n",
       "      <td>55719.802506</td>\n",
       "      <td>21963.67096</td>\n",
       "    </tr>\n",
       "    <tr>\n",
       "      <th>fecha_de_elaboracion</th>\n",
       "      <td>2014-04-22</td>\n",
       "      <td>2022-09-10</td>\n",
       "      <td>2017-09-07</td>\n",
       "      <td>2016-03-30</td>\n",
       "      <td>2015-08-30</td>\n",
       "      <td>2018-08-04</td>\n",
       "      <td>2014-11-06</td>\n",
       "      <td>2015-08-08</td>\n",
       "      <td>2022-09-17</td>\n",
       "      <td>2016-10-11</td>\n",
       "      <td>2022-01-20</td>\n",
       "      <td>2020-10-27</td>\n",
       "      <td>2014-09-11</td>\n",
       "      <td>2020-01-04</td>\n",
       "      <td>2021-03-11</td>\n",
       "    </tr>\n",
       "    <tr>\n",
       "      <th>ventas</th>\n",
       "      <td>1202478.8648</td>\n",
       "      <td>464720.043508</td>\n",
       "      <td>355453.497421</td>\n",
       "      <td>644177.403475</td>\n",
       "      <td>380081.893064</td>\n",
       "      <td>481685.923679</td>\n",
       "      <td>703947.093215</td>\n",
       "      <td>1423705.04453</td>\n",
       "      <td>799954.042401</td>\n",
       "      <td>1038586.523046</td>\n",
       "      <td>1421545.042237</td>\n",
       "      <td>322352.540471</td>\n",
       "      <td>1534601.611561</td>\n",
       "      <td>1065623.739058</td>\n",
       "      <td>411107.088743</td>\n",
       "    </tr>\n",
       "  </tbody>\n",
       "</table>\n",
       "</div>"
      ],
      "text/plain": [
       "                                        0              1              2   \\\n",
       "Kilometraje                  112018.633266  144461.926443  122538.858334   \n",
       "Pais de Origen                       Japón         Italia        Francia   \n",
       "Ranking en revistas de auto            148            399            424   \n",
       "precio en mercado libre       61584.272399    25158.52481   19465.272138   \n",
       "fecha_de_elaboracion            2014-04-22     2022-09-10     2017-09-07   \n",
       "ventas                        1202478.8648  464720.043508  355453.497421   \n",
       "\n",
       "                                         3              4              5   \\\n",
       "Kilometraje                   111252.220684   87612.685871  130949.352048   \n",
       "Pais de Origen               Estados Unidos        Francia  Corea del Sur   \n",
       "Ranking en revistas de auto             289            450            266   \n",
       "precio en mercado libre        32689.870546   20477.240703   25562.497178   \n",
       "fecha_de_elaboracion             2016-03-30     2015-08-30     2018-08-04   \n",
       "ventas                        644177.403475  380081.893064  481685.923679   \n",
       "\n",
       "                                        6               7              8   \\\n",
       "Kilometraje                   90329.506196   178895.735153  192914.238298   \n",
       "Pais de Origen                       China  Estados Unidos       Alemania   \n",
       "Ranking en revistas de auto            186             128             33   \n",
       "precio en mercado libre       37054.228679    73181.893287   41496.499294   \n",
       "fecha_de_elaboracion            2014-11-06      2015-08-08     2022-09-17   \n",
       "ventas                       703947.093215   1423705.04453  799954.042401   \n",
       "\n",
       "                                         9               10             11  \\\n",
       "Kilometraje                    79771.096171   159386.382426  108134.509352   \n",
       "Pais de Origen                      Francia  Estados Unidos          Japón   \n",
       "Ranking en revistas de auto              32             203            245   \n",
       "precio en mercado libre        52914.442052    73164.400822   16949.624525   \n",
       "fecha_de_elaboracion             2016-10-11      2022-01-20     2020-10-27   \n",
       "ventas                       1038586.523046  1421545.042237  322352.540471   \n",
       "\n",
       "                                         12              13             14  \n",
       "Kilometraje                   115768.689413   185491.344467   18852.031349  \n",
       "Pais de Origen                      Francia   Corea del Sur        Francia  \n",
       "Ranking en revistas de auto             152             164            460  \n",
       "precio en mercado libre        77886.634742    55719.802506    21963.67096  \n",
       "fecha_de_elaboracion             2014-09-11      2020-01-04     2021-03-11  \n",
       "ventas                       1534601.611561  1065623.739058  411107.088743  "
      ]
     },
     "execution_count": 264,
     "metadata": {},
     "output_type": "execute_result"
    }
   ],
   "source": [
    "df_car_sales.T"
   ]
  },
  {
   "cell_type": "markdown",
   "id": "df3098d8",
   "metadata": {},
   "source": [
    "I observe that it is a car sales dataset with its price, mileage, age, country of origin, etc. I rename my dataset pertinent to the topic."
   ]
  },
  {
   "cell_type": "code",
   "execution_count": 265,
   "id": "46e6434b",
   "metadata": {},
   "outputs": [],
   "source": [
    "car_sales= df_car_sales\n",
    "del(df_car_sales)"
   ]
  },
  {
   "cell_type": "markdown",
   "id": "1ce64e18",
   "metadata": {},
   "source": [
    "### Missing values"
   ]
  },
  {
   "cell_type": "code",
   "execution_count": 266,
   "id": "522c7b7b",
   "metadata": {},
   "outputs": [
    {
     "name": "stdout",
     "output_type": "stream",
     "text": [
      "Kilometraje                    0\n",
      "Pais de Origen                 0\n",
      "Ranking en revistas de auto    0\n",
      "precio en mercado libre        0\n",
      "fecha_de_elaboracion           0\n",
      "ventas                         0\n",
      "dtype: int64\n"
     ]
    }
   ],
   "source": [
    "print(car_sales.isnull().sum())"
   ]
  },
  {
   "cell_type": "markdown",
   "id": "e86bf90c",
   "metadata": {},
   "source": [
    "- There are no missing values on the dataset, so I can continue with the analysis."
   ]
  },
  {
   "cell_type": "markdown",
   "id": "38763540",
   "metadata": {},
   "source": [
    "### DateTime transformation"
   ]
  },
  {
   "cell_type": "code",
   "execution_count": 267,
   "id": "25844c6a",
   "metadata": {},
   "outputs": [],
   "source": [
    "car_sales[\"fecha_de_elaboracion\"] = pd.to_datetime(car_sales[\"fecha_de_elaboracion\"])"
   ]
  },
  {
   "cell_type": "markdown",
   "id": "cc72263b",
   "metadata": {},
   "source": [
    "### Outliers treatment"
   ]
  },
  {
   "cell_type": "code",
   "execution_count": 268,
   "id": "960c4482",
   "metadata": {},
   "outputs": [
    {
     "data": {
      "image/png": "[encoded data removed]",
      "text/plain": [
       "<Figure size 2000x1000 with 4 Axes>"
      ]
     },
     "metadata": {},
     "output_type": "display_data"
    }
   ],
   "source": [
    "from functions import plot_outliers\n",
    "plot_outliers(car_sales)"
   ]
  },
  {
   "cell_type": "markdown",
   "id": "a4e2d5aa",
   "metadata": {},
   "source": [
    "In order to recognize outliers, I used the IQR method, which is a robust method to detect outliers and has been implemented in the functions.py script. I can clearly observe that there is a dot that is far from the rest of the data in the kilometer column, so I will first recognize it and then decide if I eliminate it or not."
   ]
  },
  {
   "cell_type": "code",
   "execution_count": 269,
   "id": "e6be6f9f",
   "metadata": {},
   "outputs": [
    {
     "name": "stdout",
     "output_type": "stream",
     "text": [
      "Outliers de Kilometraje:\n",
      "14    18852.031349\n",
      "Name: Kilometraje, dtype: float64\n"
     ]
    }
   ],
   "source": [
    "from functions import outliers_recogntion\n",
    "\n",
    "outliers_kilometraje, outlier_values_kilometraje = outliers_recogntion(car_sales, \"Kilometraje\", 1.5)"
   ]
  },
  {
   "cell_type": "code",
   "execution_count": 270,
   "id": "1751250e",
   "metadata": {},
   "outputs": [],
   "source": [
    "from functions import remove_outliers\n",
    "\n",
    "car_sales = remove_outliers(car_sales, \"Kilometraje\", outliers_kilometraje)"
   ]
  },
  {
   "cell_type": "markdown",
   "id": "a8c5c451",
   "metadata": {},
   "source": [
    "The outlier from the Kilometraje column has been removed due to the fact that it is far from the rest of the average of the data."
   ]
  },
  {
   "cell_type": "code",
   "execution_count": 271,
   "id": "53383896",
   "metadata": {},
   "outputs": [],
   "source": [
    "car_sales.columns = car_sales.columns.str.replace(' ', '_')"
   ]
  },
  {
   "cell_type": "markdown",
   "id": "2b09acf4",
   "metadata": {},
   "source": [
    "I decided to replace the white spaces of the columns with a _ to make it easier to work with them."
   ]
  },
  {
   "cell_type": "markdown",
   "id": "56a3de60",
   "metadata": {},
   "source": [
    "### Creation of Car Age column"
   ]
  },
  {
   "cell_type": "markdown",
   "id": "621638b8",
   "metadata": {},
   "source": [
    "I subtract the year of the date of manufacture from the current year to obtain the age of the car.\n",
    "\n",
    "The date that has been taken is the date in which this project was done. \"2023-12-14\""
   ]
  },
  {
   "cell_type": "code",
   "execution_count": 272,
   "id": "c832fea1",
   "metadata": {},
   "outputs": [],
   "source": [
    "car_sales[\"hoy\"]= \"2023-12-14\"\n",
    "car_sales['hoy'] = pd.to_datetime(car_sales['hoy'])\n",
    "car_sales['fecha_de_elaboracion'] = pd.to_datetime(car_sales['fecha_de_elaboracion'])\n",
    "car_sales['edad_del_auto'] = (car_sales['hoy'] - car_sales['fecha_de_elaboracion']).dt.days//365"
   ]
  },
  {
   "cell_type": "markdown",
   "id": "d19a0d64",
   "metadata": {},
   "source": [
    "### Distribution of car sales, price and kilometers according to the country of origin"
   ]
  },
  {
   "cell_type": "code",
   "execution_count": 273,
   "id": "f1fbb1b3",
   "metadata": {},
   "outputs": [
    {
     "data": {
      "image/png": "[encoded data removed]",
      "text/plain": [
       "<Figure size 2200x2400 with 3 Axes>"
      ]
     },
     "metadata": {},
     "output_type": "display_data"
    }
   ],
   "source": [
    "other_variables = ['ventas', \"precio_en_mercado_libre\", \"Kilometraje\"]\n",
    "\n",
    "plt.figure(figsize=(22, 24))\n",
    "for i, variable in enumerate(other_variables, 1):\n",
    "    plt.subplot(3, 1, i)\n",
    "    sns.boxplot(x='Pais_de_Origen', y=variable, data=car_sales)\n",
    "    plt.title(f'Distribution of {variable} by Country of Origin')\n",
    "\n",
    "plt.tight_layout()\n",
    "plt.show()"
   ]
  },
  {
   "cell_type": "markdown",
   "id": "ee0d93be",
   "metadata": {},
   "source": [
    "## Part 1: Regression.\n",
    "**dataset**: \"ventas_de_autos.csv\"\n",
    "\n",
    "**link**:  https://drive.google.com/file/d/1Uy4I3xus9Rh2MlhEkLNFo10FKuSNKdTQ/view?usp=sharing\n",
    "\n",
    "*Context: At a job they ask you to predict sales based on the different variables that the data engineers were able to collect. A clear interpretation is expected on the reasons that determine the sales of a car.*\n"
   ]
  },
  {
   "cell_type": "markdown",
   "id": "80455048",
   "metadata": {},
   "source": [
    "## Correlations"
   ]
  },
  {
   "cell_type": "markdown",
   "id": "27b3d9bc",
   "metadata": {},
   "source": [
    "Following the logic of the suggested script, I observe the correlations to focus mainly on the variables that show some degree of association."
   ]
  },
  {
   "cell_type": "code",
   "execution_count": 275,
   "id": "f7402233",
   "metadata": {},
   "outputs": [
    {
     "data": {
      "image/png": "[encoded data removed]",
      "text/plain": [
       "<Figure size 1000x1000 with 2 Axes>"
      ]
     },
     "metadata": {},
     "output_type": "display_data"
    }
   ],
   "source": [
    "from functions import crear_heatmap_correlacion\n",
    "crear_heatmap_correlacion(car_sales)"
   ]
  },
  {
   "cell_type": "markdown",
   "id": "470ec956",
   "metadata": {},
   "source": [
    "# Models"
   ]
  },
  {
   "cell_type": "markdown",
   "id": "33eee388",
   "metadata": {},
   "source": [
    "## Multiple Linear Regression"
   ]
  },
  {
   "cell_type": "markdown",
   "id": "13b38d9b",
   "metadata": {},
   "source": [
    "The idea is to predict a continuous variable and for this I will use a regression and not a classification. The idea is to try to make a base model that points more to understanding the problem than to making a prediction. Therefore, since the regressors are robust, the idea is to run a multiple linear regression and be able to interpret the coefficients.\n",
    "\n",
    "Several suggestions appeared to us in the data exploration. This is about the correlation between the log of the budget and the log of the revenue."
   ]
  },
  {
   "cell_type": "markdown",
   "id": "4d62d2e1",
   "metadata": {},
   "source": [
    "## Model 1"
   ]
  },
  {
   "cell_type": "markdown",
   "id": "fb622f37",
   "metadata": {},
   "source": [
    "### Dependent variable: ventas\n",
    "### Independent variables: kilometraje, precio_en_mercado_libre, ranking_en_revistas_de_auto, edad_del_auto, pais_de_origen"
   ]
  },
  {
   "cell_type": "code",
   "execution_count": 277,
   "id": "4c3ec61a",
   "metadata": {},
   "outputs": [],
   "source": [
    "features = ['Kilometraje', 'precio_en_mercado_libre', \"Ranking_en_revistas_de_auto\", \"edad_del_auto\", \"C(Pais_de_Origen)\"]"
   ]
  },
  {
   "cell_type": "code",
   "execution_count": 278,
   "id": "c9be4f4e",
   "metadata": {},
   "outputs": [
    {
     "data": {
      "text/plain": [
       "'ventas ~ Kilometraje + precio_en_mercado_libre + Ranking_en_revistas_de_auto + edad_del_auto + C(Pais_de_Origen)'"
      ]
     },
     "execution_count": 278,
     "metadata": {},
     "output_type": "execute_result"
    }
   ],
   "source": [
    "formula = \"ventas ~ \" + ' + '.join(features)\n",
    "formula"
   ]
  },
  {
   "cell_type": "code",
   "execution_count": 279,
   "id": "4c902125",
   "metadata": {},
   "outputs": [
    {
     "name": "stdout",
     "output_type": "stream",
     "text": [
      "Intel MKL WARNING: Support of Intel(R) Streaming SIMD Extensions 4.2 (Intel(R) SSE4.2) enabled only processors has been deprecated. Intel oneAPI Math Kernel Library 2025.0 will require Intel(R) Advanced Vector Extensions (Intel(R) AVX) instructions.\n",
      "                            OLS Regression Results                            \n",
      "==============================================================================\n",
      "Dep. Variable:                 ventas   R-squared:                       1.000\n",
      "Model:                            OLS   Adj. R-squared:                  1.000\n",
      "Method:                 Least Squares   F-statistic:                     2911.\n",
      "Date:                Mon, 25 Dec 2023   Prob (F-statistic):           9.44e-06\n",
      "Time:                        13:49:19   Log-Likelihood:                -136.75\n",
      "No. Observations:                  14   AIC:                             295.5\n",
      "Df Residuals:                       3   BIC:                             302.5\n",
      "Df Model:                          10                                         \n",
      "Covariance Type:            nonrobust                                         \n",
      "=======================================================================================================\n",
      "                                          coef    std err          t      P>|t|      [0.025      0.975]\n",
      "-------------------------------------------------------------------------------------------------------\n",
      "Intercept                            3.447e+04   2.88e+04      1.195      0.318   -5.73e+04    1.26e+05\n",
      "C(Pais_de_Origen)[T.China]          -3.806e+04   2.39e+04     -1.591      0.210   -1.14e+05    3.81e+04\n",
      "C(Pais_de_Origen)[T.Corea del Sur]  -1.547e+04   1.59e+04     -0.971      0.403   -6.61e+04    3.52e+04\n",
      "C(Pais_de_Origen)[T.Estados Unidos] -6404.1451   1.98e+04     -0.324      0.767   -6.93e+04    5.65e+04\n",
      "C(Pais_de_Origen)[T.Francia]        -1.953e+04    2.4e+04     -0.814      0.475   -9.59e+04    5.68e+04\n",
      "C(Pais_de_Origen)[T.Italia]         -1.386e+04   2.15e+04     -0.643      0.566   -8.24e+04    5.47e+04\n",
      "C(Pais_de_Origen)[T.Japón]          -1.532e+04   2.07e+04     -0.740      0.513   -8.12e+04    5.06e+04\n",
      "Kilometraje                            -0.2878      0.175     -1.645      0.199      -0.845       0.269\n",
      "precio_en_mercado_libre                19.7944      0.284     69.591      0.000      18.889      20.700\n",
      "Ranking_en_revistas_de_auto           -32.5661     43.173     -0.754      0.505    -169.961     104.829\n",
      "edad_del_auto                         680.0104   1355.894      0.502      0.650   -3635.049    4995.070\n",
      "==============================================================================\n",
      "Omnibus:                        3.309   Durbin-Watson:                   1.738\n",
      "Prob(Omnibus):                  0.191   Jarque-Bera (JB):                1.642\n",
      "Skew:                           0.835   Prob(JB):                        0.440\n",
      "Kurtosis:                       3.162   Cond. No.                     3.07e+06\n",
      "==============================================================================\n",
      "\n",
      "Notes:\n",
      "[1] Standard Errors assume that the covariance matrix of the errors is correctly specified.\n",
      "[2] The condition number is large, 3.07e+06. This might indicate that there are\n",
      "strong multicollinearity or other numerical problems.\n"
     ]
    }
   ],
   "source": [
    "import statsmodels.formula.api as smf\n",
    "model1 = smf.ols(formula=formula, data=car_sales)\n",
    "model1 = model1.fit()\n",
    "print(model1.summary())"
   ]
  },
  {
   "cell_type": "markdown",
   "id": "91ab84d8",
   "metadata": {},
   "source": [
    "A low p-value (generally, below 0.05) indicates that the coefficient is significant, so it should not be removed from the model. If it is greater than 0.05, it can be considered that the coefficient is not significant and can be removed from the model.\n",
    "\n",
    "Saying these in an another way, we should not consider a variable that has a p-value less than 0.5. It is a fairly high threshold and can result in a greater propensity to commit type I errors (falsely accepting the null hypothesis when it is false).\n"
   ]
  },
  {
   "cell_type": "markdown",
   "id": "74d20331",
   "metadata": {},
   "source": [
    "##### The variables within my multivariate linear regression that have a p-value less than 0.5 are the following:\n",
    "- Pais de origen: China\n",
    "- Pais de origen: Corea del Sur\n",
    "- Pais de origen: Francia\n",
    "- Kilometraje\n",
    "- Precios de Mercado Libre"
   ]
  },
  {
   "cell_type": "markdown",
   "id": "87760f54",
   "metadata": {},
   "source": [
    "##### Japón's coefficient in the model is (-15320). This means that keeping the rest of the variables constant, the model predicts that sales will fall by 15320 units if the car is from Japan."
   ]
  },
  {
   "cell_type": "markdown",
   "id": "3697459c",
   "metadata": {},
   "source": [
    "##### The coefficient for age_of_the_car in the model results is 680.0104. This means that, keeping all other variables constant, the model predicts that sales will increase by 680.0104 units if the age of the car increases by 1 year."
   ]
  },
  {
   "cell_type": "markdown",
   "id": "f4a1852e",
   "metadata": {},
   "source": [
    "Prediction of sales for a car that has 116.000 kilometers, the country of origin is the United States, the ranking in auto magazines is 150, the price of free market is 50.000 and the date of manufacture is 2015."
   ]
  },
  {
   "cell_type": "code",
   "execution_count": 280,
   "id": "4c2151b5",
   "metadata": {},
   "outputs": [
    {
     "name": "stdout",
     "output_type": "stream",
     "text": [
      "The prediction of sales for the car is: 984957.4166312594\n"
     ]
    }
   ],
   "source": [
    "df_entrada = pd.DataFrame({\n",
    "    'Kilometraje': [116000],\n",
    "    'Pais_de_Origen': [\"Estados Unidos\"], \n",
    "    'Ranking_en_revistas_de_auto': [150],\n",
    "    'precio_en_mercado_libre': [50000],\n",
    "    'edad_del_auto': [2023 - 2015]\n",
    "})\n",
    "\n",
    "prediction = model1.predict(df_entrada)\n",
    "\n",
    "print(f\"The prediction of sales for the car is: {prediction[0]}\")"
   ]
  },
  {
   "cell_type": "markdown",
   "id": "3befd54f",
   "metadata": {},
   "source": [
    "___"
   ]
  },
  {
   "cell_type": "markdown",
   "id": "42807fff",
   "metadata": {},
   "source": [
    "\n",
    "## Part 2: Classification.\n",
    "**dataset**: \"leads_a_clientes.csv\"\n",
    "\n",
    "**link** https://drive.google.com/file/d/1v0o7z70v06NIaBbmo6kwXdZX6pPf8Bdr/view?usp=sharing\n",
    "\n",
    "*Context: In the context of our discussion, leads refer to potential customers who are prospects—individuals who have the potential to become customers but have not yet made a decision to convert. Your hypothesis is that, based on customer interactions with the company and their characteristics, certain customers are more likely to convert than others.*\n"
   ]
  },
  {
   "cell_type": "code",
   "execution_count": 281,
   "id": "9934f2d7",
   "metadata": {},
   "outputs": [
    {
     "data": {
      "text/html": [
       "<div>\n",
       "<style scoped>\n",
       "    .dataframe tbody tr th:only-of-type {\n",
       "        vertical-align: middle;\n",
       "    }\n",
       "\n",
       "    .dataframe tbody tr th {\n",
       "        vertical-align: top;\n",
       "    }\n",
       "\n",
       "    .dataframe thead th {\n",
       "        text-align: right;\n",
       "    }\n",
       "</style>\n",
       "<table border=\"1\" class=\"dataframe\">\n",
       "  <thead>\n",
       "    <tr style=\"text-align: right;\">\n",
       "      <th></th>\n",
       "      <th>Unnamed: 0</th>\n",
       "      <th>fecha de nacimiento</th>\n",
       "      <th>clicks_en_web</th>\n",
       "      <th>puntaje</th>\n",
       "      <th>cantidad_mensajes</th>\n",
       "      <th>ingreso_estimado</th>\n",
       "      <th>categoria</th>\n",
       "      <th>cliente</th>\n",
       "    </tr>\n",
       "  </thead>\n",
       "  <tbody>\n",
       "    <tr>\n",
       "      <th>0</th>\n",
       "      <td>0</td>\n",
       "      <td>1955-11-30 12:27:39.148023</td>\n",
       "      <td>50.109121</td>\n",
       "      <td>232.101644</td>\n",
       "      <td>135.281047</td>\n",
       "      <td>91.231418</td>\n",
       "      <td>Categoria D</td>\n",
       "      <td>Sí</td>\n",
       "    </tr>\n",
       "    <tr>\n",
       "      <th>1</th>\n",
       "      <td>1</td>\n",
       "      <td>1998-11-19 12:27:39.148023</td>\n",
       "      <td>2.109121</td>\n",
       "      <td>868.308119</td>\n",
       "      <td>55.687224</td>\n",
       "      <td>740.421698</td>\n",
       "      <td>Categoria D</td>\n",
       "      <td>No</td>\n",
       "    </tr>\n",
       "    <tr>\n",
       "      <th>2</th>\n",
       "      <td>2</td>\n",
       "      <td>1962-11-28 12:27:39.148023</td>\n",
       "      <td>14.109121</td>\n",
       "      <td>158.323178</td>\n",
       "      <td>119.574760</td>\n",
       "      <td>15.947268</td>\n",
       "      <td>Categoria D</td>\n",
       "      <td>Sí</td>\n",
       "    </tr>\n",
       "    <tr>\n",
       "      <th>3</th>\n",
       "      <td>3</td>\n",
       "      <td>1967-11-27 12:27:39.148023</td>\n",
       "      <td>2.109121</td>\n",
       "      <td>1074.171569</td>\n",
       "      <td>144.817864</td>\n",
       "      <td>950.486443</td>\n",
       "      <td>Categoria D</td>\n",
       "      <td>Sí</td>\n",
       "    </tr>\n",
       "    <tr>\n",
       "      <th>4</th>\n",
       "      <td>4</td>\n",
       "      <td>1982-11-23 12:27:39.148023</td>\n",
       "      <td>2.109121</td>\n",
       "      <td>205.078660</td>\n",
       "      <td>37.891444</td>\n",
       "      <td>63.656943</td>\n",
       "      <td>Categoria D</td>\n",
       "      <td>No</td>\n",
       "    </tr>\n",
       "  </tbody>\n",
       "</table>\n",
       "</div>"
      ],
      "text/plain": [
       "   Unnamed: 0         fecha de nacimiento  clicks_en_web      puntaje  \\\n",
       "0           0  1955-11-30 12:27:39.148023      50.109121   232.101644   \n",
       "1           1  1998-11-19 12:27:39.148023       2.109121   868.308119   \n",
       "2           2  1962-11-28 12:27:39.148023      14.109121   158.323178   \n",
       "3           3  1967-11-27 12:27:39.148023       2.109121  1074.171569   \n",
       "4           4  1982-11-23 12:27:39.148023       2.109121   205.078660   \n",
       "\n",
       "   cantidad_mensajes  ingreso_estimado    categoria cliente  \n",
       "0         135.281047         91.231418  Categoria D      Sí  \n",
       "1          55.687224        740.421698  Categoria D      No  \n",
       "2         119.574760         15.947268  Categoria D      Sí  \n",
       "3         144.817864        950.486443  Categoria D      Sí  \n",
       "4          37.891444         63.656943  Categoria D      No  "
      ]
     },
     "execution_count": 281,
     "metadata": {},
     "output_type": "execute_result"
    }
   ],
   "source": [
    "df_client_leads = pd.read_csv(\"leads_a_clientes.csv\")\n",
    "df_client_leads.head()"
   ]
  },
  {
   "cell_type": "code",
   "execution_count": 282,
   "id": "d236305a",
   "metadata": {},
   "outputs": [],
   "source": [
    "df_client_leads.drop(['Unnamed: 0'], axis=1, inplace=True)"
   ]
  },
  {
   "cell_type": "markdown",
   "id": "358b0ad6",
   "metadata": {},
   "source": [
    "### Read dataset and dimension"
   ]
  },
  {
   "cell_type": "code",
   "execution_count": 283,
   "id": "5fbebd64",
   "metadata": {},
   "outputs": [
    {
     "name": "stdout",
     "output_type": "stream",
     "text": [
      "Dataset size: (3000, 7)\n"
     ]
    }
   ],
   "source": [
    "print(f\"Dataset size: {df_client_leads.shape}\")"
   ]
  },
  {
   "cell_type": "code",
   "execution_count": 284,
   "id": "4b72d5ce",
   "metadata": {},
   "outputs": [
    {
     "name": "stdout",
     "output_type": "stream",
     "text": [
      "<class 'pandas.core.frame.DataFrame'>\n",
      "RangeIndex: 3000 entries, 0 to 2999\n",
      "Data columns (total 7 columns):\n",
      " #   Column               Non-Null Count  Dtype  \n",
      "---  ------               --------------  -----  \n",
      " 0   fecha de nacimiento  3000 non-null   object \n",
      " 1   clicks_en_web        3000 non-null   float64\n",
      " 2   puntaje              3000 non-null   float64\n",
      " 3   cantidad_mensajes    3000 non-null   float64\n",
      " 4   ingreso_estimado     3000 non-null   float64\n",
      " 5   categoria            3000 non-null   object \n",
      " 6   cliente              3000 non-null   object \n",
      "dtypes: float64(4), object(3)\n",
      "memory usage: 164.2+ KB\n"
     ]
    }
   ],
   "source": [
    "df_client_leads.info()"
   ]
  },
  {
   "cell_type": "markdown",
   "id": "8616dc76",
   "metadata": {},
   "source": [
    "In order to observe all the columns I transpose the dataframe and inspect what it consists of.\n"
   ]
  },
  {
   "cell_type": "code",
   "execution_count": 285,
   "id": "92995d69",
   "metadata": {},
   "outputs": [
    {
     "data": {
      "text/html": [
       "<div>\n",
       "<style scoped>\n",
       "    .dataframe tbody tr th:only-of-type {\n",
       "        vertical-align: middle;\n",
       "    }\n",
       "\n",
       "    .dataframe tbody tr th {\n",
       "        vertical-align: top;\n",
       "    }\n",
       "\n",
       "    .dataframe thead th {\n",
       "        text-align: right;\n",
       "    }\n",
       "</style>\n",
       "<table border=\"1\" class=\"dataframe\">\n",
       "  <thead>\n",
       "    <tr style=\"text-align: right;\">\n",
       "      <th></th>\n",
       "      <th>0</th>\n",
       "      <th>1</th>\n",
       "      <th>2</th>\n",
       "      <th>3</th>\n",
       "      <th>4</th>\n",
       "      <th>5</th>\n",
       "      <th>6</th>\n",
       "      <th>7</th>\n",
       "      <th>8</th>\n",
       "      <th>9</th>\n",
       "      <th>...</th>\n",
       "      <th>2990</th>\n",
       "      <th>2991</th>\n",
       "      <th>2992</th>\n",
       "      <th>2993</th>\n",
       "      <th>2994</th>\n",
       "      <th>2995</th>\n",
       "      <th>2996</th>\n",
       "      <th>2997</th>\n",
       "      <th>2998</th>\n",
       "      <th>2999</th>\n",
       "    </tr>\n",
       "  </thead>\n",
       "  <tbody>\n",
       "    <tr>\n",
       "      <th>fecha de nacimiento</th>\n",
       "      <td>1955-11-30 12:27:39.148023</td>\n",
       "      <td>1998-11-19 12:27:39.148023</td>\n",
       "      <td>1962-11-28 12:27:39.148023</td>\n",
       "      <td>1967-11-27 12:27:39.148023</td>\n",
       "      <td>1982-11-23 12:27:39.148023</td>\n",
       "      <td>2005-11-17 12:27:39.148023</td>\n",
       "      <td>1977-11-24 12:27:39.148023</td>\n",
       "      <td>1967-11-27 12:27:39.148023</td>\n",
       "      <td>1962-11-28 12:27:39.148023</td>\n",
       "      <td>1921-12-08 12:27:39.148023</td>\n",
       "      <td>...</td>\n",
       "      <td>1976-11-24 12:27:39.148023</td>\n",
       "      <td>1965-11-27 12:27:39.148023</td>\n",
       "      <td>1978-11-24 12:27:39.148023</td>\n",
       "      <td>1992-11-20 12:27:39.148023</td>\n",
       "      <td>1986-11-22 12:27:39.148023</td>\n",
       "      <td>1962-11-28 12:27:39.148023</td>\n",
       "      <td>1962-11-28 12:27:39.148023</td>\n",
       "      <td>1980-11-23 12:27:39.148023</td>\n",
       "      <td>1982-11-23 12:27:39.148023</td>\n",
       "      <td>1989-11-21 12:27:39.148023</td>\n",
       "    </tr>\n",
       "    <tr>\n",
       "      <th>clicks_en_web</th>\n",
       "      <td>50.109121</td>\n",
       "      <td>2.109121</td>\n",
       "      <td>14.109121</td>\n",
       "      <td>2.109121</td>\n",
       "      <td>2.109121</td>\n",
       "      <td>38.109121</td>\n",
       "      <td>9.890879</td>\n",
       "      <td>2.109121</td>\n",
       "      <td>9.890879</td>\n",
       "      <td>21.890879</td>\n",
       "      <td>...</td>\n",
       "      <td>14.109121</td>\n",
       "      <td>33.890879</td>\n",
       "      <td>2.109121</td>\n",
       "      <td>9.890879</td>\n",
       "      <td>2.109121</td>\n",
       "      <td>14.109121</td>\n",
       "      <td>21.890879</td>\n",
       "      <td>50.109121</td>\n",
       "      <td>26.109121</td>\n",
       "      <td>26.109121</td>\n",
       "    </tr>\n",
       "    <tr>\n",
       "      <th>puntaje</th>\n",
       "      <td>232.101644</td>\n",
       "      <td>868.308119</td>\n",
       "      <td>158.323178</td>\n",
       "      <td>1074.171569</td>\n",
       "      <td>205.07866</td>\n",
       "      <td>358.237672</td>\n",
       "      <td>174.511556</td>\n",
       "      <td>859.836761</td>\n",
       "      <td>217.499646</td>\n",
       "      <td>1541.580979</td>\n",
       "      <td>...</td>\n",
       "      <td>379.907536</td>\n",
       "      <td>408.23346</td>\n",
       "      <td>433.269932</td>\n",
       "      <td>424.574887</td>\n",
       "      <td>366.384557</td>\n",
       "      <td>351.827087</td>\n",
       "      <td>494.859133</td>\n",
       "      <td>488.597332</td>\n",
       "      <td>368.592515</td>\n",
       "      <td>358.78316</td>\n",
       "    </tr>\n",
       "    <tr>\n",
       "      <th>cantidad_mensajes</th>\n",
       "      <td>135.281047</td>\n",
       "      <td>55.687224</td>\n",
       "      <td>119.57476</td>\n",
       "      <td>144.817864</td>\n",
       "      <td>37.891444</td>\n",
       "      <td>80.454442</td>\n",
       "      <td>50.852526</td>\n",
       "      <td>96.972856</td>\n",
       "      <td>34.693838</td>\n",
       "      <td>108.21197</td>\n",
       "      <td>...</td>\n",
       "      <td>93.188799</td>\n",
       "      <td>73.935598</td>\n",
       "      <td>109.335013</td>\n",
       "      <td>103.222126</td>\n",
       "      <td>45.920282</td>\n",
       "      <td>36.691961</td>\n",
       "      <td>53.525986</td>\n",
       "      <td>44.621153</td>\n",
       "      <td>53.934444</td>\n",
       "      <td>52.865183</td>\n",
       "    </tr>\n",
       "    <tr>\n",
       "      <th>ingreso_estimado</th>\n",
       "      <td>91.231418</td>\n",
       "      <td>740.421698</td>\n",
       "      <td>15.947268</td>\n",
       "      <td>950.486443</td>\n",
       "      <td>63.656943</td>\n",
       "      <td>219.94165</td>\n",
       "      <td>32.466022</td>\n",
       "      <td>731.777455</td>\n",
       "      <td>76.33142</td>\n",
       "      <td>1427.434821</td>\n",
       "      <td>...</td>\n",
       "      <td>242.053756</td>\n",
       "      <td>270.95776</td>\n",
       "      <td>296.505181</td>\n",
       "      <td>287.632686</td>\n",
       "      <td>228.254797</td>\n",
       "      <td>213.400237</td>\n",
       "      <td>359.351304</td>\n",
       "      <td>352.961711</td>\n",
       "      <td>230.507817</td>\n",
       "      <td>220.498271</td>\n",
       "    </tr>\n",
       "    <tr>\n",
       "      <th>categoria</th>\n",
       "      <td>Categoria D</td>\n",
       "      <td>Categoria D</td>\n",
       "      <td>Categoria D</td>\n",
       "      <td>Categoria D</td>\n",
       "      <td>Categoria D</td>\n",
       "      <td>Categoria D</td>\n",
       "      <td>Categoria D</td>\n",
       "      <td>Categoria D</td>\n",
       "      <td>Categoria D</td>\n",
       "      <td>Categoria D</td>\n",
       "      <td>...</td>\n",
       "      <td>Categoria B</td>\n",
       "      <td>Categoria A</td>\n",
       "      <td>Categoria B</td>\n",
       "      <td>Categoria B</td>\n",
       "      <td>Categoria A</td>\n",
       "      <td>Categoria B</td>\n",
       "      <td>Categoria B</td>\n",
       "      <td>Categoria A</td>\n",
       "      <td>Categoria A</td>\n",
       "      <td>Categoria A</td>\n",
       "    </tr>\n",
       "    <tr>\n",
       "      <th>cliente</th>\n",
       "      <td>Sí</td>\n",
       "      <td>No</td>\n",
       "      <td>Sí</td>\n",
       "      <td>Sí</td>\n",
       "      <td>No</td>\n",
       "      <td>Sí</td>\n",
       "      <td>No</td>\n",
       "      <td>Sí</td>\n",
       "      <td>No</td>\n",
       "      <td>Sí</td>\n",
       "      <td>...</td>\n",
       "      <td>Sí</td>\n",
       "      <td>Sí</td>\n",
       "      <td>Sí</td>\n",
       "      <td>Sí</td>\n",
       "      <td>No</td>\n",
       "      <td>No</td>\n",
       "      <td>No</td>\n",
       "      <td>No</td>\n",
       "      <td>No</td>\n",
       "      <td>No</td>\n",
       "    </tr>\n",
       "  </tbody>\n",
       "</table>\n",
       "<p>7 rows × 3000 columns</p>\n",
       "</div>"
      ],
      "text/plain": [
       "                                           0                           1     \\\n",
       "fecha de nacimiento  1955-11-30 12:27:39.148023  1998-11-19 12:27:39.148023   \n",
       "clicks_en_web                         50.109121                    2.109121   \n",
       "puntaje                              232.101644                  868.308119   \n",
       "cantidad_mensajes                    135.281047                   55.687224   \n",
       "ingreso_estimado                      91.231418                  740.421698   \n",
       "categoria                           Categoria D                 Categoria D   \n",
       "cliente                                      Sí                          No   \n",
       "\n",
       "                                           2                           3     \\\n",
       "fecha de nacimiento  1962-11-28 12:27:39.148023  1967-11-27 12:27:39.148023   \n",
       "clicks_en_web                         14.109121                    2.109121   \n",
       "puntaje                              158.323178                 1074.171569   \n",
       "cantidad_mensajes                     119.57476                  144.817864   \n",
       "ingreso_estimado                      15.947268                  950.486443   \n",
       "categoria                           Categoria D                 Categoria D   \n",
       "cliente                                      Sí                          Sí   \n",
       "\n",
       "                                           4                           5     \\\n",
       "fecha de nacimiento  1982-11-23 12:27:39.148023  2005-11-17 12:27:39.148023   \n",
       "clicks_en_web                          2.109121                   38.109121   \n",
       "puntaje                               205.07866                  358.237672   \n",
       "cantidad_mensajes                     37.891444                   80.454442   \n",
       "ingreso_estimado                      63.656943                   219.94165   \n",
       "categoria                           Categoria D                 Categoria D   \n",
       "cliente                                      No                          Sí   \n",
       "\n",
       "                                           6                           7     \\\n",
       "fecha de nacimiento  1977-11-24 12:27:39.148023  1967-11-27 12:27:39.148023   \n",
       "clicks_en_web                          9.890879                    2.109121   \n",
       "puntaje                              174.511556                  859.836761   \n",
       "cantidad_mensajes                     50.852526                   96.972856   \n",
       "ingreso_estimado                      32.466022                  731.777455   \n",
       "categoria                           Categoria D                 Categoria D   \n",
       "cliente                                      No                          Sí   \n",
       "\n",
       "                                           8                           9     \\\n",
       "fecha de nacimiento  1962-11-28 12:27:39.148023  1921-12-08 12:27:39.148023   \n",
       "clicks_en_web                          9.890879                   21.890879   \n",
       "puntaje                              217.499646                 1541.580979   \n",
       "cantidad_mensajes                     34.693838                   108.21197   \n",
       "ingreso_estimado                       76.33142                 1427.434821   \n",
       "categoria                           Categoria D                 Categoria D   \n",
       "cliente                                      No                          Sí   \n",
       "\n",
       "                     ...                        2990  \\\n",
       "fecha de nacimiento  ...  1976-11-24 12:27:39.148023   \n",
       "clicks_en_web        ...                   14.109121   \n",
       "puntaje              ...                  379.907536   \n",
       "cantidad_mensajes    ...                   93.188799   \n",
       "ingreso_estimado     ...                  242.053756   \n",
       "categoria            ...                 Categoria B   \n",
       "cliente              ...                          Sí   \n",
       "\n",
       "                                           2991                        2992  \\\n",
       "fecha de nacimiento  1965-11-27 12:27:39.148023  1978-11-24 12:27:39.148023   \n",
       "clicks_en_web                         33.890879                    2.109121   \n",
       "puntaje                               408.23346                  433.269932   \n",
       "cantidad_mensajes                     73.935598                  109.335013   \n",
       "ingreso_estimado                      270.95776                  296.505181   \n",
       "categoria                           Categoria A                 Categoria B   \n",
       "cliente                                      Sí                          Sí   \n",
       "\n",
       "                                           2993                        2994  \\\n",
       "fecha de nacimiento  1992-11-20 12:27:39.148023  1986-11-22 12:27:39.148023   \n",
       "clicks_en_web                          9.890879                    2.109121   \n",
       "puntaje                              424.574887                  366.384557   \n",
       "cantidad_mensajes                    103.222126                   45.920282   \n",
       "ingreso_estimado                     287.632686                  228.254797   \n",
       "categoria                           Categoria B                 Categoria A   \n",
       "cliente                                      Sí                          No   \n",
       "\n",
       "                                           2995                        2996  \\\n",
       "fecha de nacimiento  1962-11-28 12:27:39.148023  1962-11-28 12:27:39.148023   \n",
       "clicks_en_web                         14.109121                   21.890879   \n",
       "puntaje                              351.827087                  494.859133   \n",
       "cantidad_mensajes                     36.691961                   53.525986   \n",
       "ingreso_estimado                     213.400237                  359.351304   \n",
       "categoria                           Categoria B                 Categoria B   \n",
       "cliente                                      No                          No   \n",
       "\n",
       "                                           2997                        2998  \\\n",
       "fecha de nacimiento  1980-11-23 12:27:39.148023  1982-11-23 12:27:39.148023   \n",
       "clicks_en_web                         50.109121                   26.109121   \n",
       "puntaje                              488.597332                  368.592515   \n",
       "cantidad_mensajes                     44.621153                   53.934444   \n",
       "ingreso_estimado                     352.961711                  230.507817   \n",
       "categoria                           Categoria A                 Categoria A   \n",
       "cliente                                      No                          No   \n",
       "\n",
       "                                           2999  \n",
       "fecha de nacimiento  1989-11-21 12:27:39.148023  \n",
       "clicks_en_web                         26.109121  \n",
       "puntaje                               358.78316  \n",
       "cantidad_mensajes                     52.865183  \n",
       "ingreso_estimado                     220.498271  \n",
       "categoria                           Categoria A  \n",
       "cliente                                      No  \n",
       "\n",
       "[7 rows x 3000 columns]"
      ]
     },
     "execution_count": 285,
     "metadata": {},
     "output_type": "execute_result"
    }
   ],
   "source": [
    "df_client_leads.T"
   ]
  },
  {
   "cell_type": "markdown",
   "id": "ac643596",
   "metadata": {},
   "source": [
    "I observe that it is a client leads dataset with birthdate, clicks on web, score, amount of messages, etc. I rename my dataset pertinent to the topic."
   ]
  },
  {
   "cell_type": "code",
   "execution_count": 286,
   "id": "a3acbd55",
   "metadata": {},
   "outputs": [],
   "source": [
    "client_leads = df_client_leads\n",
    "del(df_client_leads)"
   ]
  },
  {
   "cell_type": "markdown",
   "id": "b0e1fbb9",
   "metadata": {},
   "source": [
    "### Missing values"
   ]
  },
  {
   "cell_type": "code",
   "execution_count": 287,
   "id": "7343acb6",
   "metadata": {},
   "outputs": [
    {
     "name": "stdout",
     "output_type": "stream",
     "text": [
      "fecha de nacimiento    0\n",
      "clicks_en_web          0\n",
      "puntaje                0\n",
      "cantidad_mensajes      0\n",
      "ingreso_estimado       0\n",
      "categoria              0\n",
      "cliente                0\n",
      "dtype: int64\n"
     ]
    }
   ],
   "source": [
    "print(client_leads.isnull().sum())"
   ]
  },
  {
   "cell_type": "markdown",
   "id": "68fa2311",
   "metadata": {},
   "source": [
    "- There are no missing values on the dataset, so I can continue with the analysis."
   ]
  },
  {
   "cell_type": "code",
   "execution_count": null,
   "id": "5ece8275",
   "metadata": {},
   "outputs": [],
   "source": [
    "client_leads.columns = client_leads.columns.str.replace(' ', '_')"
   ]
  },
  {
   "cell_type": "markdown",
   "id": "6623c093",
   "metadata": {},
   "source": [
    "I decided to replace the white spaces of the columns with a _ to make it easier to work with them."
   ]
  },
  {
   "cell_type": "markdown",
   "id": "314980c9",
   "metadata": {},
   "source": [
    "### Creation of Car Age column"
   ]
  },
  {
   "cell_type": "markdown",
   "id": "5920806b",
   "metadata": {},
   "source": [
    "\n",
    "\n",
    "I subtract the year of the date of manufacture from the current year to obtain the age of the car.\n",
    "\n",
    "The date that has been taken is the date in which this project was done. \"2023-12-14\""
   ]
  },
  {
   "cell_type": "code",
   "execution_count": 289,
   "id": "12bcfb47",
   "metadata": {},
   "outputs": [],
   "source": [
    "client_leads[\"hoy\"]= \"2023-12-14\"\n",
    "client_leads['hoy'] = pd.to_datetime(client_leads['hoy'])\n",
    "client_leads['fecha_de_nacimiento'] = pd.to_datetime(client_leads['fecha_de_nacimiento'])\n",
    "client_leads['edad_del_auto'] = (client_leads['hoy'] - client_leads['fecha_de_nacimiento']).dt.days//365"
   ]
  },
  {
   "cell_type": "markdown",
   "id": "a5a3a5eb",
   "metadata": {},
   "source": [
    "### Cars age"
   ]
  },
  {
   "cell_type": "code",
   "execution_count": 290,
   "id": "f02afb24",
   "metadata": {},
   "outputs": [
    {
     "data": {
      "image/png": "[encoded data removed]",
      "text/plain": [
       "<Figure size 640x480 with 1 Axes>"
      ]
     },
     "metadata": {},
     "output_type": "display_data"
    }
   ],
   "source": [
    "sns.boxplot(x=client_leads['edad_del_auto'])\n",
    "plt.show()"
   ]
  },
  {
   "cell_type": "code",
   "execution_count": 291,
   "id": "d6108713",
   "metadata": {},
   "outputs": [
    {
     "data": {
      "text/plain": [
       "148"
      ]
     },
     "execution_count": 291,
     "metadata": {},
     "output_type": "execute_result"
    }
   ],
   "source": [
    "client_leads[\"edad_del_auto\"].max()"
   ]
  },
  {
   "cell_type": "markdown",
   "id": "0add1fcf",
   "metadata": {},
   "source": [
    "It is almost impossible for a car to be more than 90 years old, so it is decided to remove from the dataset the cars that are more than 90 years old in order to be able to make a more accurate analysis."
   ]
  },
  {
   "cell_type": "code",
   "execution_count": 292,
   "id": "5c983811",
   "metadata": {},
   "outputs": [],
   "source": [
    "client_leads = client_leads[client_leads['edad_del_auto'] <= 90]"
   ]
  },
  {
   "cell_type": "code",
   "execution_count": 293,
   "id": "35f78043",
   "metadata": {},
   "outputs": [
    {
     "data": {
      "image/png": "[encoded data removed]",
      "text/plain": [
       "<Figure size 640x480 with 1 Axes>"
      ]
     },
     "metadata": {},
     "output_type": "display_data"
    }
   ],
   "source": [
    "sns.boxplot(x=client_leads['edad_del_auto'])\n",
    "plt.show()"
   ]
  },
  {
   "cell_type": "markdown",
   "id": "bb75d834",
   "metadata": {},
   "source": [
    "Now, the boxplot shows us that there are no outliers in the age of the cars."
   ]
  },
  {
   "cell_type": "markdown",
   "id": "29137be5",
   "metadata": {},
   "source": [
    "### Distribution of estimated income according to the category"
   ]
  },
  {
   "cell_type": "code",
   "execution_count": 294,
   "id": "7de51185",
   "metadata": {},
   "outputs": [
    {
     "data": {
      "image/png": "[encoded data removed]",
      "text/plain": [
       "<Figure size 640x480 with 1 Axes>"
      ]
     },
     "metadata": {},
     "output_type": "display_data"
    }
   ],
   "source": [
    "sns.boxplot(x='categoria', y='ingreso_estimado', data=client_leads)\n",
    "plt.show()"
   ]
  },
  {
   "cell_type": "code",
   "execution_count": 295,
   "id": "0b88a44b",
   "metadata": {},
   "outputs": [
    {
     "data": {
      "text/plain": [
       "categoria\n",
       "Categoria A    674\n",
       "Categoria B    663\n",
       "Categoria C     31\n",
       "Categoria D     71\n",
       "Name: cliente, dtype: int64"
      ]
     },
     "execution_count": 295,
     "metadata": {},
     "output_type": "execute_result"
    }
   ],
   "source": [
    "client_leads[client_leads['cliente'] == 'Sí'].groupby('categoria')['cliente'].count()"
   ]
  },
  {
   "cell_type": "code",
   "execution_count": 296,
   "id": "6cc6d6f0",
   "metadata": {},
   "outputs": [],
   "source": [
    "client_leads = client_leads[client_leads['categoria'] != 'Categoria D']"
   ]
  },
  {
   "cell_type": "markdown",
   "id": "6b8ad460",
   "metadata": {},
   "source": [
    "##### We observe conclusions\n",
    "\n",
    "I have decided to remove Category D since it is the cateogory with the most amount of outliers and it the second category with the least amount of observations."
   ]
  },
  {
   "cell_type": "markdown",
   "id": "99baf515",
   "metadata": {},
   "source": [
    "### Distribution of amount of messages according to if the person is a client or not"
   ]
  },
  {
   "cell_type": "code",
   "execution_count": 297,
   "id": "b74810af",
   "metadata": {},
   "outputs": [
    {
     "data": {
      "image/png": "[encoded data removed]",
      "text/plain": [
       "<Figure size 640x480 with 1 Axes>"
      ]
     },
     "metadata": {},
     "output_type": "display_data"
    }
   ],
   "source": [
    "sns.boxplot(x='cliente', y='cantidad_mensajes', data=client_leads)\n",
    "plt.title('Cantidad de mensajes en función de si es cliente o no')\n",
    "plt.show()"
   ]
  },
  {
   "cell_type": "markdown",
   "id": "31b362c3",
   "metadata": {},
   "source": [
    "##### We observe conclusions\n",
    "\n",
    "This graph of the amount of messages according to whether it is a client or not could help me understand if there is a difference in the amount of messages sent between clients and non-clients.\n",
    "\n",
    "Clients, in this case, tend to have a higher number of messages. This could suggest that frequent interaction (via messages) may be related to the conversion of a lead to a client."
   ]
  },
  {
   "cell_type": "markdown",
   "id": "d791c225",
   "metadata": {},
   "source": [
    "## Classification"
   ]
  },
  {
   "cell_type": "markdown",
   "id": "9ddb43d7",
   "metadata": {},
   "source": [
    "The idea is to predict a categorical variable and for this I will use a classification and not a regression. The idea is to try to make a base model that points more to understanding the problem than to making a prediction."
   ]
  },
  {
   "cell_type": "markdown",
   "id": "5c0478d4",
   "metadata": {},
   "source": [
    "## Model 2"
   ]
  },
  {
   "cell_type": "markdown",
   "id": "716685d5",
   "metadata": {},
   "source": [
    "##### Label Encoding of the category column to be able to train the model.\n"
   ]
  },
  {
   "cell_type": "code",
   "execution_count": 298,
   "id": "f08eedb4",
   "metadata": {},
   "outputs": [
    {
     "data": {
      "text/plain": [
       "array(['Categoria A', 'Categoria B', 'Categoria C'], dtype=object)"
      ]
     },
     "execution_count": 298,
     "metadata": {},
     "output_type": "execute_result"
    }
   ],
   "source": [
    "from sklearn.preprocessing import LabelEncoder\n",
    "client_leads_le = LabelEncoder()\n",
    "client_leads_le.fit(client_leads['categoria'])\n",
    "client_leads_le.classes_"
   ]
  },
  {
   "cell_type": "code",
   "execution_count": 299,
   "id": "a8379350",
   "metadata": {},
   "outputs": [],
   "source": [
    "client_leads['categoria'] = client_leads_le.transform(client_leads['categoria'])"
   ]
  },
  {
   "cell_type": "markdown",
   "id": "f2f5eb23",
   "metadata": {},
   "source": [
    "I decide to map the Yes and No values to 1 and 0 respectively, since it is a binary classification."
   ]
  },
  {
   "cell_type": "code",
   "execution_count": 300,
   "id": "fe7e01be",
   "metadata": {},
   "outputs": [],
   "source": [
    "client_leads['cliente'] = client_leads['cliente'].map({'Sí': 1, 'No': 0})"
   ]
  },
  {
   "cell_type": "markdown",
   "id": "09978ef2",
   "metadata": {},
   "source": [
    "##### Dependent variable: cliente\n",
    "##### Independent variables: edad_del_auto, ingreso_estimado, cantidad_de_mensajes, puntaje, clicks_en_web, categoria"
   ]
  },
  {
   "cell_type": "code",
   "execution_count": 301,
   "id": "27a74e11",
   "metadata": {},
   "outputs": [],
   "source": [
    "X = client_leads[[\"edad_del_auto\", 'ingreso_estimado', 'cantidad_mensajes', \"puntaje\", \"clicks_en_web\", \"categoria\"]]\n",
    "y = client_leads['cliente']"
   ]
  },
  {
   "cell_type": "code",
   "execution_count": 302,
   "id": "6e41bf60",
   "metadata": {},
   "outputs": [],
   "source": [
    "from sklearn.model_selection import train_test_split\n",
    "from sklearn.tree import DecisionTreeClassifier\n",
    "\n",
    "X_train, X_test, y_train, y_test = train_test_split(X, y, test_size = 0.2, random_state=42)"
   ]
  },
  {
   "cell_type": "code",
   "execution_count": 303,
   "id": "5e04de1f",
   "metadata": {},
   "outputs": [],
   "source": [
    "decision_tree_model = DecisionTreeClassifier(max_depth=3)\n",
    "decision_tree_model = decision_tree_model.fit(X_train, y_train)"
   ]
  },
  {
   "cell_type": "code",
   "execution_count": 304,
   "id": "05bf66ce",
   "metadata": {},
   "outputs": [],
   "source": [
    "y_pred = decision_tree_model.predict(X_test)"
   ]
  },
  {
   "cell_type": "code",
   "execution_count": 305,
   "id": "b7f51eda",
   "metadata": {},
   "outputs": [],
   "source": [
    "from sklearn.metrics import precision_score, recall_score, accuracy_score, confusion_matrix\n",
    "\n",
    "conf_matrix = confusion_matrix(y_test, y_pred)\n",
    "tp, fn, fp, tn = conf_matrix.ravel()"
   ]
  },
  {
   "cell_type": "code",
   "execution_count": 306,
   "id": "ad9884ab",
   "metadata": {},
   "outputs": [
    {
     "data": {
      "image/png": "[encoded data removed]",
      "text/plain": [
       "<Figure size 1500x1000 with 2 Axes>"
      ]
     },
     "metadata": {},
     "output_type": "display_data"
    }
   ],
   "source": [
    "y_true = y_test\n",
    "f, ax = plt.subplots(figsize=(15, 10))\n",
    "sns.heatmap(conf_matrix, annot=True, linewidth=0.5, fmt=\".0f\", cmap='viridis', ax=ax)\n",
    "plt.xlabel(\"Predicted\")\n",
    "plt.ylabel(\"Real\")\n",
    "plt.title('Confusion Matrix')\n",
    "plt.show()"
   ]
  },
  {
   "cell_type": "code",
   "execution_count": 307,
   "id": "58ebc709",
   "metadata": {},
   "outputs": [
    {
     "name": "stdout",
     "output_type": "stream",
     "text": [
      "Precision: 0.9921875\n",
      "Recall: 0.9071428571428571\n",
      "Accuracy: 0.9499105545617174\n"
     ]
    }
   ],
   "source": [
    "print(\"Precision:\", precision_score(y_true, y_pred))\n",
    "print(\"Recall:\", recall_score(y_true, y_pred))\n",
    "print(\"Accuracy:\", accuracy_score(y_true, y_pred))"
   ]
  },
  {
   "cell_type": "code",
   "execution_count": 308,
   "id": "2b00637b",
   "metadata": {},
   "outputs": [
    {
     "data": {
      "image/svg+xml": [
       "<?xml version=\"1.0\" encoding=\"UTF-8\" standalone=\"no\"?>\n",
       "<!DOCTYPE svg PUBLIC \"-//W3C//DTD SVG 1.1//EN\"\n",
       " \"http://www.w3.org/Graphics/SVG/1.1/DTD/svg11.dtd\">\n",
       "<!-- Generated by graphviz version 2.50.0 (0)\n",
       " -->\n",
       "<!-- Title: Tree Pages: 1 -->\n",
       "<svg width=\"1068pt\" height=\"433pt\"\n",
       " viewBox=\"0.00 0.00 1067.50 433.00\" xmlns=\"http://www.w3.org/2000/svg\" xmlns:xlink=\"http://www.w3.org/1999/xlink\">\n",
       "<g id=\"graph0\" class=\"graph\" transform=\"scale(1 1) rotate(0) translate(4 429)\">\n",
       "<title>Tree</title>\n",
       "<polygon fill=\"white\" stroke=\"transparent\" points=\"-4,4 -4,-429 1063.5,-429 1063.5,4 -4,4\"/>\n",
       "<!-- 0 -->\n",
       "<g id=\"node1\" class=\"node\">\n",
       "<title>0</title>\n",
       "<path fill=\"#fef9f5\" stroke=\"black\" d=\"M649,-425C649,-425 483,-425 483,-425 477,-425 471,-419 471,-413 471,-413 471,-354 471,-354 471,-348 477,-342 483,-342 483,-342 649,-342 649,-342 655,-342 661,-348 661,-354 661,-354 661,-413 661,-413 661,-419 655,-425 649,-425\"/>\n",
       "<text text-anchor=\"start\" x=\"479\" y=\"-409.8\" font-family=\"Helvetica,sans-Serif\" font-size=\"14.00\">cantidad_mensajes ≤ 70.244</text>\n",
       "<text text-anchor=\"start\" x=\"538\" y=\"-394.8\" font-family=\"Helvetica,sans-Serif\" font-size=\"14.00\">gini = 0.5</text>\n",
       "<text text-anchor=\"start\" x=\"517.5\" y=\"-379.8\" font-family=\"Helvetica,sans-Serif\" font-size=\"14.00\">samples = 2235</text>\n",
       "<text text-anchor=\"start\" x=\"504\" y=\"-364.8\" font-family=\"Helvetica,sans-Serif\" font-size=\"14.00\">value = [1147, 1088]</text>\n",
       "<text text-anchor=\"start\" x=\"525\" y=\"-349.8\" font-family=\"Helvetica,sans-Serif\" font-size=\"14.00\">class = Client</text>\n",
       "</g>\n",
       "<!-- 1 -->\n",
       "<g id=\"node2\" class=\"node\">\n",
       "<title>1</title>\n",
       "<path fill=\"#e78946\" stroke=\"black\" d=\"M508,-306C508,-306 342,-306 342,-306 336,-306 330,-300 330,-294 330,-294 330,-235 330,-235 330,-229 336,-223 342,-223 342,-223 508,-223 508,-223 514,-223 520,-229 520,-235 520,-235 520,-294 520,-294 520,-300 514,-306 508,-306\"/>\n",
       "<text text-anchor=\"start\" x=\"338\" y=\"-290.8\" font-family=\"Helvetica,sans-Serif\" font-size=\"14.00\">cantidad_mensajes ≤ 65.359</text>\n",
       "<text text-anchor=\"start\" x=\"389.5\" y=\"-275.8\" font-family=\"Helvetica,sans-Serif\" font-size=\"14.00\">gini = 0.116</text>\n",
       "<text text-anchor=\"start\" x=\"376.5\" y=\"-260.8\" font-family=\"Helvetica,sans-Serif\" font-size=\"14.00\">samples = 1194</text>\n",
       "<text text-anchor=\"start\" x=\"370.5\" y=\"-245.8\" font-family=\"Helvetica,sans-Serif\" font-size=\"14.00\">value = [1120, 74]</text>\n",
       "<text text-anchor=\"start\" x=\"384\" y=\"-230.8\" font-family=\"Helvetica,sans-Serif\" font-size=\"14.00\">class = Client</text>\n",
       "</g>\n",
       "<!-- 0&#45;&gt;1 -->\n",
       "<g id=\"edge1\" class=\"edge\">\n",
       "<title>0&#45;&gt;1</title>\n",
       "<path fill=\"none\" stroke=\"black\" d=\"M517.08,-341.91C505.71,-332.47 493.5,-322.34 481.82,-312.65\"/>\n",
       "<polygon fill=\"black\" stroke=\"black\" points=\"483.76,-309.71 473.83,-306.02 479.29,-315.1 483.76,-309.71\"/>\n",
       "<text text-anchor=\"middle\" x=\"476.15\" y=\"-327.21\" font-family=\"Helvetica,sans-Serif\" font-size=\"14.00\">True</text>\n",
       "</g>\n",
       "<!-- 8 -->\n",
       "<g id=\"node9\" class=\"node\">\n",
       "<title>8</title>\n",
       "<path fill=\"#3ea0e6\" stroke=\"black\" d=\"M732,-306C732,-306 574,-306 574,-306 568,-306 562,-300 562,-294 562,-294 562,-235 562,-235 562,-229 568,-223 574,-223 574,-223 732,-223 732,-223 738,-223 744,-229 744,-235 744,-235 744,-294 744,-294 744,-300 738,-306 732,-306\"/>\n",
       "<text text-anchor=\"start\" x=\"570\" y=\"-290.8\" font-family=\"Helvetica,sans-Serif\" font-size=\"14.00\">cantidad_mensajes ≤ 76.37</text>\n",
       "<text text-anchor=\"start\" x=\"617.5\" y=\"-275.8\" font-family=\"Helvetica,sans-Serif\" font-size=\"14.00\">gini = 0.051</text>\n",
       "<text text-anchor=\"start\" x=\"604.5\" y=\"-260.8\" font-family=\"Helvetica,sans-Serif\" font-size=\"14.00\">samples = 1041</text>\n",
       "<text text-anchor=\"start\" x=\"598.5\" y=\"-245.8\" font-family=\"Helvetica,sans-Serif\" font-size=\"14.00\">value = [27, 1014]</text>\n",
       "<text text-anchor=\"start\" x=\"601.5\" y=\"-230.8\" font-family=\"Helvetica,sans-Serif\" font-size=\"14.00\">class = Not client</text>\n",
       "</g>\n",
       "<!-- 0&#45;&gt;8 -->\n",
       "<g id=\"edge8\" class=\"edge\">\n",
       "<title>0&#45;&gt;8</title>\n",
       "<path fill=\"none\" stroke=\"black\" d=\"M596.18,-341.91C602.86,-332.92 610.01,-323.32 616.9,-314.05\"/>\n",
       "<polygon fill=\"black\" stroke=\"black\" points=\"619.71,-316.13 622.87,-306.02 614.09,-311.96 619.71,-316.13\"/>\n",
       "<text text-anchor=\"middle\" x=\"626.51\" y=\"-327.05\" font-family=\"Helvetica,sans-Serif\" font-size=\"14.00\">False</text>\n",
       "</g>\n",
       "<!-- 2 -->\n",
       "<g id=\"node3\" class=\"node\">\n",
       "<title>2</title>\n",
       "<path fill=\"#e68640\" stroke=\"black\" d=\"M270,-187C270,-187 104,-187 104,-187 98,-187 92,-181 92,-175 92,-175 92,-116 92,-116 92,-110 98,-104 104,-104 104,-104 270,-104 270,-104 276,-104 282,-110 282,-116 282,-116 282,-175 282,-175 282,-181 276,-187 270,-187\"/>\n",
       "<text text-anchor=\"start\" x=\"100\" y=\"-171.8\" font-family=\"Helvetica,sans-Serif\" font-size=\"14.00\">cantidad_mensajes ≤ 54.215</text>\n",
       "<text text-anchor=\"start\" x=\"151.5\" y=\"-156.8\" font-family=\"Helvetica,sans-Serif\" font-size=\"14.00\">gini = 0.068</text>\n",
       "<text text-anchor=\"start\" x=\"138.5\" y=\"-141.8\" font-family=\"Helvetica,sans-Serif\" font-size=\"14.00\">samples = 1106</text>\n",
       "<text text-anchor=\"start\" x=\"132.5\" y=\"-126.8\" font-family=\"Helvetica,sans-Serif\" font-size=\"14.00\">value = [1067, 39]</text>\n",
       "<text text-anchor=\"start\" x=\"146\" y=\"-111.8\" font-family=\"Helvetica,sans-Serif\" font-size=\"14.00\">class = Client</text>\n",
       "</g>\n",
       "<!-- 1&#45;&gt;2 -->\n",
       "<g id=\"edge2\" class=\"edge\">\n",
       "<title>1&#45;&gt;2</title>\n",
       "<path fill=\"none\" stroke=\"black\" d=\"M342.43,-222.91C321.84,-212.79 299.65,-201.88 278.66,-191.56\"/>\n",
       "<polygon fill=\"black\" stroke=\"black\" points=\"279.95,-188.29 269.43,-187.02 276.86,-194.57 279.95,-188.29\"/>\n",
       "</g>\n",
       "<!-- 5 -->\n",
       "<g id=\"node6\" class=\"node\">\n",
       "<title>5</title>\n",
       "<path fill=\"#f6d4bc\" stroke=\"black\" d=\"M508,-187C508,-187 342,-187 342,-187 336,-187 330,-181 330,-175 330,-175 330,-116 330,-116 330,-110 336,-104 342,-104 342,-104 508,-104 508,-104 514,-104 520,-110 520,-116 520,-116 520,-175 520,-175 520,-181 514,-187 508,-187\"/>\n",
       "<text text-anchor=\"start\" x=\"338\" y=\"-171.8\" font-family=\"Helvetica,sans-Serif\" font-size=\"14.00\">cantidad_mensajes ≤ 65.402</text>\n",
       "<text text-anchor=\"start\" x=\"389.5\" y=\"-156.8\" font-family=\"Helvetica,sans-Serif\" font-size=\"14.00\">gini = 0.479</text>\n",
       "<text text-anchor=\"start\" x=\"384\" y=\"-141.8\" font-family=\"Helvetica,sans-Serif\" font-size=\"14.00\">samples = 88</text>\n",
       "<text text-anchor=\"start\" x=\"378\" y=\"-126.8\" font-family=\"Helvetica,sans-Serif\" font-size=\"14.00\">value = [53, 35]</text>\n",
       "<text text-anchor=\"start\" x=\"384\" y=\"-111.8\" font-family=\"Helvetica,sans-Serif\" font-size=\"14.00\">class = Client</text>\n",
       "</g>\n",
       "<!-- 1&#45;&gt;5 -->\n",
       "<g id=\"edge5\" class=\"edge\">\n",
       "<title>1&#45;&gt;5</title>\n",
       "<path fill=\"none\" stroke=\"black\" d=\"M425,-222.91C425,-214.65 425,-205.86 425,-197.3\"/>\n",
       "<polygon fill=\"black\" stroke=\"black\" points=\"428.5,-197.02 425,-187.02 421.5,-197.02 428.5,-197.02\"/>\n",
       "</g>\n",
       "<!-- 3 -->\n",
       "<g id=\"node4\" class=\"node\">\n",
       "<title>3</title>\n",
       "<path fill=\"#e5823b\" stroke=\"black\" d=\"M98,-68C98,-68 12,-68 12,-68 6,-68 0,-62 0,-56 0,-56 0,-12 0,-12 0,-6 6,0 12,0 12,0 98,0 98,0 104,0 110,-6 110,-12 110,-12 110,-56 110,-56 110,-62 104,-68 98,-68\"/>\n",
       "<text text-anchor=\"start\" x=\"19.5\" y=\"-52.8\" font-family=\"Helvetica,sans-Serif\" font-size=\"14.00\">gini = 0.018</text>\n",
       "<text text-anchor=\"start\" x=\"10\" y=\"-37.8\" font-family=\"Helvetica,sans-Serif\" font-size=\"14.00\">samples = 768</text>\n",
       "<text text-anchor=\"start\" x=\"8\" y=\"-22.8\" font-family=\"Helvetica,sans-Serif\" font-size=\"14.00\">value = [761, 7]</text>\n",
       "<text text-anchor=\"start\" x=\"14\" y=\"-7.8\" font-family=\"Helvetica,sans-Serif\" font-size=\"14.00\">class = Client</text>\n",
       "</g>\n",
       "<!-- 2&#45;&gt;3 -->\n",
       "<g id=\"edge3\" class=\"edge\">\n",
       "<title>2&#45;&gt;3</title>\n",
       "<path fill=\"none\" stroke=\"black\" d=\"M137.85,-103.73C126.41,-94.24 114.26,-84.16 102.88,-74.72\"/>\n",
       "<polygon fill=\"black\" stroke=\"black\" points=\"105.07,-71.99 95.14,-68.3 100.6,-77.38 105.07,-71.99\"/>\n",
       "</g>\n",
       "<!-- 4 -->\n",
       "<g id=\"node5\" class=\"node\">\n",
       "<title>4</title>\n",
       "<path fill=\"#e88e4e\" stroke=\"black\" d=\"M233.5,-68C233.5,-68 140.5,-68 140.5,-68 134.5,-68 128.5,-62 128.5,-56 128.5,-56 128.5,-12 128.5,-12 128.5,-6 134.5,0 140.5,0 140.5,0 233.5,0 233.5,0 239.5,0 245.5,-6 245.5,-12 245.5,-12 245.5,-56 245.5,-56 245.5,-62 239.5,-68 233.5,-68\"/>\n",
       "<text text-anchor=\"start\" x=\"151.5\" y=\"-52.8\" font-family=\"Helvetica,sans-Serif\" font-size=\"14.00\">gini = 0.171</text>\n",
       "<text text-anchor=\"start\" x=\"142\" y=\"-37.8\" font-family=\"Helvetica,sans-Serif\" font-size=\"14.00\">samples = 338</text>\n",
       "<text text-anchor=\"start\" x=\"136.5\" y=\"-22.8\" font-family=\"Helvetica,sans-Serif\" font-size=\"14.00\">value = [306, 32]</text>\n",
       "<text text-anchor=\"start\" x=\"146\" y=\"-7.8\" font-family=\"Helvetica,sans-Serif\" font-size=\"14.00\">class = Client</text>\n",
       "</g>\n",
       "<!-- 2&#45;&gt;4 -->\n",
       "<g id=\"edge4\" class=\"edge\">\n",
       "<title>2&#45;&gt;4</title>\n",
       "<path fill=\"none\" stroke=\"black\" d=\"M187,-103.73C187,-95.52 187,-86.86 187,-78.56\"/>\n",
       "<polygon fill=\"black\" stroke=\"black\" points=\"190.5,-78.3 187,-68.3 183.5,-78.3 190.5,-78.3\"/>\n",
       "</g>\n",
       "<!-- 6 -->\n",
       "<g id=\"node7\" class=\"node\">\n",
       "<title>6</title>\n",
       "<path fill=\"#399de5\" stroke=\"black\" d=\"M370.5,-68C370.5,-68 275.5,-68 275.5,-68 269.5,-68 263.5,-62 263.5,-56 263.5,-56 263.5,-12 263.5,-12 263.5,-6 269.5,0 275.5,0 275.5,0 370.5,0 370.5,0 376.5,0 382.5,-6 382.5,-12 382.5,-12 382.5,-56 382.5,-56 382.5,-62 376.5,-68 370.5,-68\"/>\n",
       "<text text-anchor=\"start\" x=\"295\" y=\"-52.8\" font-family=\"Helvetica,sans-Serif\" font-size=\"14.00\">gini = 0.0</text>\n",
       "<text text-anchor=\"start\" x=\"285.5\" y=\"-37.8\" font-family=\"Helvetica,sans-Serif\" font-size=\"14.00\">samples = 2</text>\n",
       "<text text-anchor=\"start\" x=\"283.5\" y=\"-22.8\" font-family=\"Helvetica,sans-Serif\" font-size=\"14.00\">value = [0, 2]</text>\n",
       "<text text-anchor=\"start\" x=\"271.5\" y=\"-7.8\" font-family=\"Helvetica,sans-Serif\" font-size=\"14.00\">class = Not client</text>\n",
       "</g>\n",
       "<!-- 5&#45;&gt;6 -->\n",
       "<g id=\"edge6\" class=\"edge\">\n",
       "<title>5&#45;&gt;6</title>\n",
       "<path fill=\"none\" stroke=\"black\" d=\"M387.02,-103.73C378.52,-94.61 369.51,-84.93 361.01,-75.81\"/>\n",
       "<polygon fill=\"black\" stroke=\"black\" points=\"363.4,-73.23 354.02,-68.3 358.27,-78 363.4,-73.23\"/>\n",
       "</g>\n",
       "<!-- 7 -->\n",
       "<g id=\"node8\" class=\"node\">\n",
       "<title>7</title>\n",
       "<path fill=\"#f5cfb4\" stroke=\"black\" d=\"M499,-68C499,-68 413,-68 413,-68 407,-68 401,-62 401,-56 401,-56 401,-12 401,-12 401,-6 407,0 413,0 413,0 499,0 499,0 505,0 511,-6 511,-12 511,-12 511,-56 511,-56 511,-62 505,-68 499,-68\"/>\n",
       "<text text-anchor=\"start\" x=\"420.5\" y=\"-52.8\" font-family=\"Helvetica,sans-Serif\" font-size=\"14.00\">gini = 0.473</text>\n",
       "<text text-anchor=\"start\" x=\"415\" y=\"-37.8\" font-family=\"Helvetica,sans-Serif\" font-size=\"14.00\">samples = 86</text>\n",
       "<text text-anchor=\"start\" x=\"409\" y=\"-22.8\" font-family=\"Helvetica,sans-Serif\" font-size=\"14.00\">value = [53, 33]</text>\n",
       "<text text-anchor=\"start\" x=\"415\" y=\"-7.8\" font-family=\"Helvetica,sans-Serif\" font-size=\"14.00\">class = Client</text>\n",
       "</g>\n",
       "<!-- 5&#45;&gt;7 -->\n",
       "<g id=\"edge7\" class=\"edge\">\n",
       "<title>5&#45;&gt;7</title>\n",
       "<path fill=\"none\" stroke=\"black\" d=\"M436.54,-103.73C438.92,-95.34 441.43,-86.47 443.82,-78.01\"/>\n",
       "<polygon fill=\"black\" stroke=\"black\" points=\"447.22,-78.87 446.57,-68.3 440.48,-76.97 447.22,-78.87\"/>\n",
       "</g>\n",
       "<!-- 9 -->\n",
       "<g id=\"node10\" class=\"node\">\n",
       "<title>9</title>\n",
       "<path fill=\"#a0d0f3\" stroke=\"black\" d=\"M714,-187C714,-187 592,-187 592,-187 586,-187 580,-181 580,-175 580,-175 580,-116 580,-116 580,-110 586,-104 592,-104 592,-104 714,-104 714,-104 720,-104 726,-110 726,-116 726,-116 726,-175 726,-175 726,-181 720,-187 714,-187\"/>\n",
       "<text text-anchor=\"start\" x=\"588\" y=\"-171.8\" font-family=\"Helvetica,sans-Serif\" font-size=\"14.00\">clicks_en_web ≤ 54.0</text>\n",
       "<text text-anchor=\"start\" x=\"621\" y=\"-156.8\" font-family=\"Helvetica,sans-Serif\" font-size=\"14.00\">gini = 0.45</text>\n",
       "<text text-anchor=\"start\" x=\"612\" y=\"-141.8\" font-family=\"Helvetica,sans-Serif\" font-size=\"14.00\">samples = 73</text>\n",
       "<text text-anchor=\"start\" x=\"606\" y=\"-126.8\" font-family=\"Helvetica,sans-Serif\" font-size=\"14.00\">value = [25, 48]</text>\n",
       "<text text-anchor=\"start\" x=\"601.5\" y=\"-111.8\" font-family=\"Helvetica,sans-Serif\" font-size=\"14.00\">class = Not client</text>\n",
       "</g>\n",
       "<!-- 8&#45;&gt;9 -->\n",
       "<g id=\"edge9\" class=\"edge\">\n",
       "<title>8&#45;&gt;9</title>\n",
       "<path fill=\"none\" stroke=\"black\" d=\"M653,-222.91C653,-214.65 653,-205.86 653,-197.3\"/>\n",
       "<polygon fill=\"black\" stroke=\"black\" points=\"656.5,-197.02 653,-187.02 649.5,-197.02 656.5,-197.02\"/>\n",
       "</g>\n",
       "<!-- 12 -->\n",
       "<g id=\"node13\" class=\"node\">\n",
       "<title>12</title>\n",
       "<path fill=\"#399de5\" stroke=\"black\" d=\"M946,-187C946,-187 780,-187 780,-187 774,-187 768,-181 768,-175 768,-175 768,-116 768,-116 768,-110 774,-104 780,-104 780,-104 946,-104 946,-104 952,-104 958,-110 958,-116 958,-116 958,-175 958,-175 958,-181 952,-187 946,-187\"/>\n",
       "<text text-anchor=\"start\" x=\"776\" y=\"-171.8\" font-family=\"Helvetica,sans-Serif\" font-size=\"14.00\">cantidad_mensajes ≤ 78.861</text>\n",
       "<text text-anchor=\"start\" x=\"827.5\" y=\"-156.8\" font-family=\"Helvetica,sans-Serif\" font-size=\"14.00\">gini = 0.004</text>\n",
       "<text text-anchor=\"start\" x=\"818\" y=\"-141.8\" font-family=\"Helvetica,sans-Serif\" font-size=\"14.00\">samples = 968</text>\n",
       "<text text-anchor=\"start\" x=\"816\" y=\"-126.8\" font-family=\"Helvetica,sans-Serif\" font-size=\"14.00\">value = [2, 966]</text>\n",
       "<text text-anchor=\"start\" x=\"811.5\" y=\"-111.8\" font-family=\"Helvetica,sans-Serif\" font-size=\"14.00\">class = Not client</text>\n",
       "</g>\n",
       "<!-- 8&#45;&gt;12 -->\n",
       "<g id=\"edge12\" class=\"edge\">\n",
       "<title>8&#45;&gt;12</title>\n",
       "<path fill=\"none\" stroke=\"black\" d=\"M725.86,-222.91C743.78,-212.92 763.08,-202.17 781.38,-191.98\"/>\n",
       "<polygon fill=\"black\" stroke=\"black\" points=\"783.24,-194.95 790.27,-187.02 779.83,-188.83 783.24,-194.95\"/>\n",
       "</g>\n",
       "<!-- 10 -->\n",
       "<g id=\"node11\" class=\"node\">\n",
       "<title>10</title>\n",
       "<path fill=\"#b2d9f5\" stroke=\"black\" d=\"M636.5,-68C636.5,-68 541.5,-68 541.5,-68 535.5,-68 529.5,-62 529.5,-56 529.5,-56 529.5,-12 529.5,-12 529.5,-6 535.5,0 541.5,0 541.5,0 636.5,0 636.5,0 642.5,0 648.5,-6 648.5,-12 648.5,-12 648.5,-56 648.5,-56 648.5,-62 642.5,-68 636.5,-68\"/>\n",
       "<text text-anchor=\"start\" x=\"553.5\" y=\"-52.8\" font-family=\"Helvetica,sans-Serif\" font-size=\"14.00\">gini = 0.471</text>\n",
       "<text text-anchor=\"start\" x=\"548\" y=\"-37.8\" font-family=\"Helvetica,sans-Serif\" font-size=\"14.00\">samples = 66</text>\n",
       "<text text-anchor=\"start\" x=\"542\" y=\"-22.8\" font-family=\"Helvetica,sans-Serif\" font-size=\"14.00\">value = [25, 41]</text>\n",
       "<text text-anchor=\"start\" x=\"537.5\" y=\"-7.8\" font-family=\"Helvetica,sans-Serif\" font-size=\"14.00\">class = Not client</text>\n",
       "</g>\n",
       "<!-- 9&#45;&gt;10 -->\n",
       "<g id=\"edge10\" class=\"edge\">\n",
       "<title>9&#45;&gt;10</title>\n",
       "<path fill=\"none\" stroke=\"black\" d=\"M629.17,-103.73C624.1,-95.06 618.75,-85.9 613.65,-77.18\"/>\n",
       "<polygon fill=\"black\" stroke=\"black\" points=\"616.53,-75.17 608.46,-68.3 610.49,-78.7 616.53,-75.17\"/>\n",
       "</g>\n",
       "<!-- 11 -->\n",
       "<g id=\"node12\" class=\"node\">\n",
       "<title>11</title>\n",
       "<path fill=\"#399de5\" stroke=\"black\" d=\"M773.5,-68C773.5,-68 678.5,-68 678.5,-68 672.5,-68 666.5,-62 666.5,-56 666.5,-56 666.5,-12 666.5,-12 666.5,-6 672.5,0 678.5,0 678.5,0 773.5,0 773.5,0 779.5,0 785.5,-6 785.5,-12 785.5,-12 785.5,-56 785.5,-56 785.5,-62 779.5,-68 773.5,-68\"/>\n",
       "<text text-anchor=\"start\" x=\"698\" y=\"-52.8\" font-family=\"Helvetica,sans-Serif\" font-size=\"14.00\">gini = 0.0</text>\n",
       "<text text-anchor=\"start\" x=\"688.5\" y=\"-37.8\" font-family=\"Helvetica,sans-Serif\" font-size=\"14.00\">samples = 7</text>\n",
       "<text text-anchor=\"start\" x=\"686.5\" y=\"-22.8\" font-family=\"Helvetica,sans-Serif\" font-size=\"14.00\">value = [0, 7]</text>\n",
       "<text text-anchor=\"start\" x=\"674.5\" y=\"-7.8\" font-family=\"Helvetica,sans-Serif\" font-size=\"14.00\">class = Not client</text>\n",
       "</g>\n",
       "<!-- 9&#45;&gt;11 -->\n",
       "<g id=\"edge11\" class=\"edge\">\n",
       "<title>9&#45;&gt;11</title>\n",
       "<path fill=\"none\" stroke=\"black\" d=\"M680.18,-103.73C686.08,-94.88 692.33,-85.51 698.25,-76.63\"/>\n",
       "<polygon fill=\"black\" stroke=\"black\" points=\"701.17,-78.56 703.8,-68.3 695.34,-74.68 701.17,-78.56\"/>\n",
       "</g>\n",
       "<!-- 13 -->\n",
       "<g id=\"node14\" class=\"node\">\n",
       "<title>13</title>\n",
       "<path fill=\"#4ba6e7\" stroke=\"black\" d=\"M910.5,-68C910.5,-68 815.5,-68 815.5,-68 809.5,-68 803.5,-62 803.5,-56 803.5,-56 803.5,-12 803.5,-12 803.5,-6 809.5,0 815.5,0 815.5,0 910.5,0 910.5,0 916.5,0 922.5,-6 922.5,-12 922.5,-12 922.5,-56 922.5,-56 922.5,-62 916.5,-68 910.5,-68\"/>\n",
       "<text text-anchor=\"start\" x=\"827.5\" y=\"-52.8\" font-family=\"Helvetica,sans-Serif\" font-size=\"14.00\">gini = 0.153</text>\n",
       "<text text-anchor=\"start\" x=\"822\" y=\"-37.8\" font-family=\"Helvetica,sans-Serif\" font-size=\"14.00\">samples = 24</text>\n",
       "<text text-anchor=\"start\" x=\"820\" y=\"-22.8\" font-family=\"Helvetica,sans-Serif\" font-size=\"14.00\">value = [2, 22]</text>\n",
       "<text text-anchor=\"start\" x=\"811.5\" y=\"-7.8\" font-family=\"Helvetica,sans-Serif\" font-size=\"14.00\">class = Not client</text>\n",
       "</g>\n",
       "<!-- 12&#45;&gt;13 -->\n",
       "<g id=\"edge13\" class=\"edge\">\n",
       "<title>12&#45;&gt;13</title>\n",
       "<path fill=\"none\" stroke=\"black\" d=\"M863,-103.73C863,-95.52 863,-86.86 863,-78.56\"/>\n",
       "<polygon fill=\"black\" stroke=\"black\" points=\"866.5,-78.3 863,-68.3 859.5,-78.3 866.5,-78.3\"/>\n",
       "</g>\n",
       "<!-- 14 -->\n",
       "<g id=\"node15\" class=\"node\">\n",
       "<title>14</title>\n",
       "<path fill=\"#399de5\" stroke=\"black\" d=\"M1047.5,-68C1047.5,-68 952.5,-68 952.5,-68 946.5,-68 940.5,-62 940.5,-56 940.5,-56 940.5,-12 940.5,-12 940.5,-6 946.5,0 952.5,0 952.5,0 1047.5,0 1047.5,0 1053.5,0 1059.5,-6 1059.5,-12 1059.5,-12 1059.5,-56 1059.5,-56 1059.5,-62 1053.5,-68 1047.5,-68\"/>\n",
       "<text text-anchor=\"start\" x=\"972\" y=\"-52.8\" font-family=\"Helvetica,sans-Serif\" font-size=\"14.00\">gini = 0.0</text>\n",
       "<text text-anchor=\"start\" x=\"955\" y=\"-37.8\" font-family=\"Helvetica,sans-Serif\" font-size=\"14.00\">samples = 944</text>\n",
       "<text text-anchor=\"start\" x=\"953\" y=\"-22.8\" font-family=\"Helvetica,sans-Serif\" font-size=\"14.00\">value = [0, 944]</text>\n",
       "<text text-anchor=\"start\" x=\"948.5\" y=\"-7.8\" font-family=\"Helvetica,sans-Serif\" font-size=\"14.00\">class = Not client</text>\n",
       "</g>\n",
       "<!-- 12&#45;&gt;14 -->\n",
       "<g id=\"edge14\" class=\"edge\">\n",
       "<title>12&#45;&gt;14</title>\n",
       "<path fill=\"none\" stroke=\"black\" d=\"M914.01,-103.73C925.88,-94.24 938.5,-84.16 950.31,-74.72\"/>\n",
       "<polygon fill=\"black\" stroke=\"black\" points=\"952.71,-77.28 958.34,-68.3 948.34,-71.81 952.71,-77.28\"/>\n",
       "</g>\n",
       "</g>\n",
       "</svg>\n"
      ],
      "text/plain": [
       "<graphviz.sources.Source at 0x1390748d0>"
      ]
     },
     "execution_count": 308,
     "metadata": {},
     "output_type": "execute_result"
    }
   ],
   "source": [
    "#!pip install scikit-learn graphviz matplotlib\n",
    "from sklearn.tree import export_graphviz\n",
    "import graphviz\n",
    "\n",
    "dot_data = export_graphviz(decision_tree_model, out_file=None, \n",
    "                           feature_names=X_train.columns,  \n",
    "                           class_names=['Client', 'Not client'],\n",
    "                           filled=True, rounded=True,  \n",
    "                           special_characters=True)  \n",
    "\n",
    "graph = graphviz.Source(dot_data)  \n",
    "graph.render(\"decision_tree\")\n",
    "graph "
   ]
  },
  {
   "cell_type": "markdown",
   "id": "3ab58859",
   "metadata": {},
   "source": [
    "##### We observe conclusions\n",
    "\n",
    "The decision tree has the followins structure. Root node (without incoming branches, the first division is made according to the most important variable), branches (feed the internal nodes), internal nodes (decision nodes, divide the data set again according to the variables) and leaf / terminal nodes (represent all possible results of the data set, their function is to indicate the definitive classification).\n",
    "\n",
    "In this case the variable of the root node is the variable cantidad_mensajes. This means that the variable cantidad_mensajes is the most important variable to predict whether a lead will become a client or not. This is because it is the variable that has the highest Gini Index, that is, the variable that has the greatest capacity to separate the data according to the target variable.\n"
   ]
  },
  {
   "cell_type": "markdown",
   "id": "086ec8f8",
   "metadata": {},
   "source": [
    "___"
   ]
  },
  {
   "cell_type": "markdown",
   "id": "f09f8125",
   "metadata": {},
   "source": [
    "## Part 3: ROI\n",
    "\n",
    "Taking into account the results of the confusion matrix of Part 2...\n",
    "\n",
    "*Context: Your hypotheses were demonstrated given the analysis of the previous points. That is, you showed that those variables were consistent with predicting which client will convert or not. Therefore, given your algorithm, the idea is to generate an action by the company. Advertise to the leads that you predict as customers. For this you must answer:*"
   ]
  },
  {
   "cell_type": "code",
   "execution_count": 309,
   "id": "fa5c7e49",
   "metadata": {},
   "outputs": [
    {
     "name": "stdout",
     "output_type": "stream",
     "text": [
      "[[277   2]\n",
      " [ 26 254]]\n"
     ]
    }
   ],
   "source": [
    "print(conf_matrix)"
   ]
  },
  {
   "cell_type": "code",
   "execution_count": 310,
   "id": "8ba44633",
   "metadata": {},
   "outputs": [],
   "source": [
    "TP = conf_matrix[1, 1]\n",
    "FP = conf_matrix[0, 1]"
   ]
  },
  {
   "cell_type": "markdown",
   "id": "7265b424",
   "metadata": {},
   "source": [
    "1. The wasted advertising would be the advertising cost for the leads that the model incorrectly predicted as customers. This would correspond to the False Positives (FP). If each advertisement costs 10, then the wasted advertisement would be `FP * 10`."
   ]
  },
  {
   "cell_type": "code",
   "execution_count": 311,
   "id": "56467430",
   "metadata": {},
   "outputs": [
    {
     "name": "stdout",
     "output_type": "stream",
     "text": [
      "The cost of wasted advertising would be of: $ 20\n"
     ]
    }
   ],
   "source": [
    "wasted_advertising = FP * 10\n",
    "print(\"The cost of wasted advertising would be of:\", \"$\", wasted_advertising)"
   ]
  },
  {
   "cell_type": "markdown",
   "id": "89b25c5d",
   "metadata": {},
   "source": [
    "2. The ROI is calculated as `(Profit - Cost) / Cost` . It would be the profit from the customers that the model correctly predicted as customers (TP), each contributing 150. The cost is the total investment in advertising, which would be 10 * (TP + FP). Then, the ROl would be `((Total Advertising Cost * 150) - 10 * (TP + FP)) / (10 * (TP + FP))`\n"
   ]
  },
  {
   "cell_type": "code",
   "execution_count": 312,
   "id": "8231d203",
   "metadata": {},
   "outputs": [
    {
     "name": "stdout",
     "output_type": "stream",
     "text": [
      "The total advertising cost would be of: $ 2560\n"
     ]
    }
   ],
   "source": [
    "TP = 254\n",
    "FP = 2\n",
    "\n",
    "total_advertising_cost = 10 * (TP + FP)\n",
    "print(f\"The total advertising cost would be of:\", \"$\", total_advertising_cost)"
   ]
  },
  {
   "cell_type": "code",
   "execution_count": 313,
   "id": "257e9a08",
   "metadata": {},
   "outputs": [],
   "source": [
    "profit = TP * 150\n",
    "total_advertising_cost = 10 * (TP + FP)"
   ]
  },
  {
   "cell_type": "code",
   "execution_count": 314,
   "id": "6dc020bd",
   "metadata": {},
   "outputs": [
    {
     "name": "stdout",
     "output_type": "stream",
     "text": [
      "El ROI del modelo sería: 13.8828125\n"
     ]
    }
   ],
   "source": [
    "ROI = (profit - total_advertising_cost) / total_advertising_cost\n",
    "print(f\"El ROI del modelo sería: {ROI}\")"
   ]
  }
 ],
 "metadata": {
  "kernelspec": {
   "display_name": "Python 3",
   "language": "python",
   "name": "python3"
  },
  "language_info": {
   "codemirror_mode": {
    "name": "ipython",
    "version": 3
   },
   "file_extension": ".py",
   "mimetype": "text/x-python",
   "name": "python",
   "nbconvert_exporter": "python",
   "pygments_lexer": "ipython3",
   "version": "3.11.5"
  }
 },
 "nbformat": 4,
 "nbformat_minor": 5
}
